{
 "cells": [
  {
   "cell_type": "code",
   "execution_count": 57,
   "metadata": {},
   "outputs": [],
   "source": [
    "import torch\n",
    "import torch.nn as nn\n",
    "from torch.nn import functional as F\n",
    "import tiktoken\n",
    "import numpy as np"
   ]
  },
  {
   "cell_type": "code",
   "execution_count": 59,
   "metadata": {},
   "outputs": [],
   "source": [
    "MAX_TOKENS = 200\n",
    "from datasets import load_dataset\n",
    "\n",
    "dataset = load_dataset('wikipedia', '20220301.en', split='train[:1%]')\n",
    "\n",
    "from transformers import AutoTokenizer\n",
    "\n",
    "tokenizer = AutoTokenizer.from_pretrained('bert-base-uncased')\n",
    "\n",
    "import spacy\n",
    "\n",
    "nlp = spacy.load(\"en_core_web_sm\")"
   ]
  },
  {
   "cell_type": "code",
   "execution_count": 108,
   "metadata": {},
   "outputs": [],
   "source": [
    "class LayerNorm(nn.Module):\n",
    "    def __init__(self, features):\n",
    "        super().__init__()\n",
    "        self.gamma = nn.Parameter(torch.ones(features))\n",
    "        self.beta = nn.Parameter(torch.zeros(features))\n",
    "\n",
    "    def forward(self, x):\n",
    "        mean = x.mean(-1, keepdim=True)\n",
    "        std = x.std(-1, keepdim=True)\n",
    "        return self.gamma * (x - mean) / (std + 1e-6) + self.beta"
   ]
  },
  {
   "cell_type": "code",
   "execution_count": 111,
   "metadata": {},
   "outputs": [],
   "source": [
    "class Bert(nn.Module):\n",
    "\n",
    "    def __init__(self, vocab_size):\n",
    "        super().__init__()\n",
    "        self.n = 3\n",
    "        self.emb_channels = 128\n",
    "        self.vocab_size = vocab_size\n",
    "        self.max_token_length = MAX_TOKENS\n",
    "        self.emb = nn.Embedding(self.vocab_size, self.emb_channels)\n",
    "        self.positional_encoding = nn.Parameter(torch.randn(self.max_token_length, self.emb_channels))\n",
    "        self.ln1 = LayerNorm(self.emb_channels)\n",
    "        self.ln2 = LayerNorm(self.emb_channels)\n",
    "        self.l1 = nn.Linear(self.emb_channels, 250)\n",
    "        self.relu = nn.ReLU()\n",
    "        self.l2 = nn.Linear(250, self.emb_channels)\n",
    "        self.linear = nn.Linear(self.emb_channels, self.vocab_size)\n",
    "\n",
    "        # transformer block\n",
    "        self.head_count = 8\n",
    "        self.qW = nn.Parameter(torch.randn(self.emb_channels, self.emb_channels))\n",
    "        self.kW = nn.Parameter(torch.randn(self.emb_channels, self.emb_channels))\n",
    "        self.vW = nn.Parameter(torch.randn(self.emb_channels, self.emb_channels))\n",
    "        self.oW = nn.Parameter(torch.randn(self.emb_channels, self.emb_channels))\n",
    "\n",
    "    def self_attention(self, x):\n",
    "        q = (self.qW.view(self.head_count, self.emb_channels, -1).transpose(-1, -2) @ x.transpose(-1,-2)).transpose(-1, -2)        \n",
    "        k = (self.kW.view(self.head_count, self.emb_channels, -1).transpose(-1, -2) @ x.transpose(-1,-2)).transpose(-1, -2)        \n",
    "        v = (self.vW.view(self.head_count, self.emb_channels, -1).transpose(-1, -2) @ x.transpose(-1,-2)).transpose(-1, -2)        \n",
    "        qK = q @ k.transpose(-1, -2)\n",
    "        attention_weights = (qK @ v).view(-1, self.emb_channels)\n",
    "        out = attention_weights @ self.oW\n",
    "        out += x\n",
    "        return out\n",
    "\n",
    "    def feed_forward(self, x):\n",
    "        x = self.l1(x)\n",
    "        x = self.relu(x)\n",
    "        x = self.l2(x)\n",
    "        return x\n",
    "        \n",
    "\n",
    "    def forward(self, x, unmasked_x, is_next):\n",
    "        masked_pos = ((x == tokenizer.mask_token_id).nonzero(as_tuple=True)[0]).tolist()\n",
    "        x = self.emb(x)\n",
    "        x += self.positional_encoding\n",
    "        for _ in range(self.n):\n",
    "            x = self.self_attention(x)\n",
    "            x = self.ln1(x)\n",
    "            x = self.feed_forward(x)\n",
    "            x = self.ln2(x)\n",
    "        x = self.linear(x)\n",
    "        "
   ]
  },
  {
   "cell_type": "code",
   "execution_count": 17,
   "metadata": {},
   "outputs": [],
   "source": [
    "sentence_pairs = []"
   ]
  },
  {
   "cell_type": "code",
   "execution_count": 18,
   "metadata": {},
   "outputs": [],
   "source": [
    "\n",
    "for i in range(len(dataset[:10])):\n",
    "    text = dataset[i]['text']\n",
    "    doc = nlp(text)\n",
    "    sentences = [sent.text for sent in doc.sents]\n",
    "    for s1, s2 in zip(sentences, sentences[1:]):\n",
    "        sentence_pairs.append((s1, s2))"
   ]
  },
  {
   "cell_type": "code",
   "execution_count": 19,
   "metadata": {},
   "outputs": [],
   "source": [
    "import random\n",
    "\n",
    "def mask(sentence):\n",
    "    for i in range(len(sentence)):\n",
    "        if sentence[i] == tokenizer.sep_token_id:\n",
    "            continue\n",
    "        prob = random.random()\n",
    "        if prob <= 0.15:\n",
    "            sub_prob = random.random()\n",
    "            if sub_prob <= 0.8:\n",
    "                sentence[i] = tokenizer.mask_token_id\n",
    "            elif sub_prob > 0.8 or sub_prob <= 0.9:\n",
    "                sentence[i] = int(random.random() * (tokenizer.vocab_size-1))\n",
    "    return sentence"
   ]
  },
  {
   "cell_type": "code",
   "execution_count": 44,
   "metadata": {},
   "outputs": [],
   "source": [
    "import random\n",
    "\n",
    "def generate_bert_input():\n",
    "    FIRST_SENT_LIMIT = int(0.8 * MAX_TOKENS)\n",
    "    SECOND_SENT_LIMIT = int(0.2 * MAX_TOKENS)\n",
    "    prob = random.random()\n",
    "    first_sent_idx = int(random.random() * len(sentence_pairs))\n",
    "    is_next = True\n",
    "    if prob > 0.5:\n",
    "        second_sent_idx = first_sent_idx+1\n",
    "    else:\n",
    "        second_sent_idx = int(random.random() * len(sentence_pairs))\n",
    "        is_next = False\n",
    "    \n",
    "    first_sent = tokenizer(sentence_pairs[first_sent_idx][0])['input_ids'][:FIRST_SENT_LIMIT]\n",
    "    second_sent = tokenizer(sentence_pairs[second_sent_idx][1])['input_ids'][1:SECOND_SENT_LIMIT]\n",
    "    pad = MAX_TOKENS - len(first_sent) - len(second_sent)\n",
    "\n",
    "    masked_first_sent = mask(first_sent)\n",
    "    masked_second_sent = mask(second_sent)\n",
    "\n",
    "    masked_val = masked_first_sent + masked_second_sent + [tokenizer.pad_token_id] * pad\n",
    "    val = first_sent + second_sent + [tokenizer.pad_token_id] * pad\n",
    "\n",
    "    return {'masked_val': masked_val, 'unmasked_val': val, 'is_next': is_next}"
   ]
  },
  {
   "cell_type": "code",
   "execution_count": 112,
   "metadata": {},
   "outputs": [],
   "source": [
    "model = Bert(tokenizer.vocab_size)\n",
    "x = generate_bert_input()\n",
    "model(torch.LongTensor(x['masked_val']), torch.LongTensor(x['unmasked_val']), x['is_next'])"
   ]
  }
 ],
 "metadata": {
  "kernelspec": {
   "display_name": "Python 3",
   "language": "python",
   "name": "python3"
  },
  "language_info": {
   "codemirror_mode": {
    "name": "ipython",
    "version": 3
   },
   "file_extension": ".py",
   "mimetype": "text/x-python",
   "name": "python",
   "nbconvert_exporter": "python",
   "pygments_lexer": "ipython3",
   "version": "3.9.6"
  }
 },
 "nbformat": 4,
 "nbformat_minor": 2
}
