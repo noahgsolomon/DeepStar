{
 "cells": [
  {
   "cell_type": "code",
   "execution_count": 1,
   "metadata": {},
   "outputs": [],
   "source": [
    "import torch\n",
    "import torch.nn as nn\n",
    "from torch.nn import functional as F\n",
    "import tiktoken\n",
    "import numpy as np"
   ]
  },
  {
   "cell_type": "code",
   "execution_count": 259,
   "metadata": {},
   "outputs": [],
   "source": [
    "MAX_TOKENS = 200"
   ]
  },
  {
   "cell_type": "code",
   "execution_count": 240,
   "metadata": {},
   "outputs": [],
   "source": [
    "class Bert(nn.Module):\n",
    "\n",
    "    def __init__(self):\n",
    "        super().__init__()\n",
    "        self.encoding = tiktoken.get_encoding(\"r50k_base\")\n",
    "        self.emb_size = self.encoding.n_vocab\n",
    "        self.emb_channels = 128\n",
    "        self.max_token_length = MAX_TOKENS\n",
    "        self.emb = nn.Embedding(self.emb_size, self.emb_channels)\n",
    "        self.positional_encoding = nn.Parameter(torch.randn(self.max_token_length, self.emb_channels))\n",
    "\n",
    "    def forward(self):\n",
    "        x = self.emb()\n",
    "        "
   ]
  },
  {
   "cell_type": "code",
   "execution_count": 213,
   "metadata": {},
   "outputs": [],
   "source": [
    "from datasets import load_dataset\n",
    "\n",
    "dataset = load_dataset('wikipedia', '20220301.en', split='train[:1%]')"
   ]
  },
  {
   "cell_type": "code",
   "execution_count": 214,
   "metadata": {},
   "outputs": [],
   "source": [
    "from transformers import AutoTokenizer\n",
    "\n",
    "tokenizer = AutoTokenizer.from_pretrained('bert-base-uncased')"
   ]
  },
  {
   "cell_type": "code",
   "execution_count": 215,
   "metadata": {},
   "outputs": [],
   "source": [
    "import spacy\n",
    "\n",
    "nlp = spacy.load(\"en_core_web_sm\")"
   ]
  },
  {
   "cell_type": "code",
   "execution_count": 216,
   "metadata": {},
   "outputs": [],
   "source": [
    "sentence_pairs = []"
   ]
  },
  {
   "cell_type": "code",
   "execution_count": 234,
   "metadata": {},
   "outputs": [],
   "source": [
    "\n",
    "for i in range(len(dataset[:10])):\n",
    "    text = dataset[i]['text']\n",
    "    doc = nlp(text)\n",
    "    sentences = [sent.text for sent in doc.sents]\n",
    "    for s1, s2 in zip(sentences, sentences[1:]):\n",
    "        sentence_pairs.append((s1, s2))"
   ]
  },
  {
   "cell_type": "code",
   "execution_count": 235,
   "metadata": {},
   "outputs": [],
   "source": [
    "import random\n",
    "\n",
    "def mask(sentence):\n",
    "    for i in range(len(sentence)):\n",
    "        prob = random.random()\n",
    "        if prob <= 0.15:\n",
    "            sub_prob = random.random()\n",
    "            if sub_prob <= 0.8:\n",
    "                sentence[i] = tokenizer.mask_token_id\n",
    "            elif sub_prob > 0.8 or sub_prob <= 0.9:\n",
    "                sentence[i] = int(random.random() * (tokenizer.vocab_size-1))\n",
    "    return sentence"
   ]
  },
  {
   "cell_type": "code",
   "execution_count": 260,
   "metadata": {},
   "outputs": [],
   "source": [
    "import random\n",
    "\n",
    "def generate_bert_input():\n",
    "    FIRST_SENT_LIMIT = int(0.8 * MAX_TOKENS)\n",
    "    SECOND_SENT_LIMIT = int(0.2 * MAX_TOKENS)\n",
    "    prob = random.random()\n",
    "    first_sent_idx = int(random.random() * len(sentence_pairs))\n",
    "    isNext = True\n",
    "    if prob > 0.5:\n",
    "        second_sent_idx = first_sent_idx+1\n",
    "    else:\n",
    "        second_sent_idx = int(random.random() * len(sentence_pairs))\n",
    "        isNext = False\n",
    "    \n",
    "    first_sent = tokenizer(sentence_pairs[first_sent_idx][0])['input_ids'][:FIRST_SENT_LIMIT]\n",
    "    second_sent = tokenizer(sentence_pairs[second_sent_idx][1])['input_ids'][1:SECOND_SENT_LIMIT]\n",
    "    pad = MAX_TOKENS - len(first_sent) - len(second_sent)\n",
    "\n",
    "    masked_first_sent = mask(first_sent)\n",
    "    masked_second_sent = mask(second_sent)\n",
    "\n",
    "    masked_val = masked_first_sent + masked_second_sent + [tokenizer.pad_token_id] * pad\n",
    "    val = first_sent + second_sent + [tokenizer.pad_token_id] * pad\n",
    "\n",
    "    return {'masked_val': masked_val, 'unmasked_val': val, 'isNext': isNext}"
   ]
  },
  {
   "cell_type": "code",
   "execution_count": 262,
   "metadata": {},
   "outputs": [
    {
     "data": {
      "text/plain": [
       "'[MASK] ins clarifiedtion effects the tombstone [MASK] al [MASK] temperature effects bakery on the amount of albedo and the level of local insolation ( solar irrad [MASK] ) ; high albedo areas in the arctic and antarctic regions are cold due to low insolation, whereas areas such [MASK] the sahara desert, which alsoroving a relatively [MASK] albedo, [MASK] [MASK] conversely due to high insolation. [SEP] because insola [MASK] plays such a big role in the [MASK] [MASK] cooling effects of al aka, [MASK] insolation areas like the trop [MASK] will tend to show a more pronounced fluctuation [PAD] [PAD] [PAD] [PAD] [PAD] [PAD] [PAD] [PAD] [PAD] [PAD] [PAD] [PAD] [PAD] [PAD] [PAD] [PAD] [PAD] [PAD] [PAD] [PAD] [PAD] [PAD] [PAD] [PAD] [PAD] [PAD] [PAD] [PAD] [PAD] [PAD] [PAD] [PAD] [PAD] [PAD] [PAD] [PAD] [PAD] [PAD] [PAD] [PAD] [PAD] [PAD] [PAD] [PAD] [PAD] [PAD] [PAD] [PAD] [PAD] [PAD] [PAD] [PAD] [PAD] [PAD] [PAD] [PAD] [PAD] [PAD] [PAD] [PAD] [PAD] [PAD] [PAD] [PAD] [PAD] [PAD] [PAD] [PAD] [PAD] [PAD] [PAD] [PAD] [PAD] [PAD] [PAD] [PAD] [PAD] [PAD] [PAD] [PAD]'"
      ]
     },
     "execution_count": 262,
     "metadata": {},
     "output_type": "execute_result"
    }
   ],
   "source": [
    "tokenizer.decode(generate_bert_input()['masked_val'])"
   ]
  },
  {
   "cell_type": "markdown",
   "metadata": {},
   "source": []
  },
  {
   "cell_type": "markdown",
   "metadata": {},
   "source": []
  },
  {
   "cell_type": "code",
   "execution_count": null,
   "metadata": {},
   "outputs": [],
   "source": []
  }
 ],
 "metadata": {
  "kernelspec": {
   "display_name": "Python 3",
   "language": "python",
   "name": "python3"
  },
  "language_info": {
   "codemirror_mode": {
    "name": "ipython",
    "version": 3
   },
   "file_extension": ".py",
   "mimetype": "text/x-python",
   "name": "python",
   "nbconvert_exporter": "python",
   "pygments_lexer": "ipython3",
   "version": "3.9.6"
  }
 },
 "nbformat": 4,
 "nbformat_minor": 2
}
