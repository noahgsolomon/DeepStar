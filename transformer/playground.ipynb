{
 "cells": [
  {
   "cell_type": "code",
   "execution_count": 57,
   "metadata": {},
   "outputs": [],
   "source": [
    "import torch\n",
    "import torch.nn as nn\n",
    "from torch.nn import functional as F\n",
    "import tiktoken\n",
    "import numpy as np"
   ]
  },
  {
   "cell_type": "code",
   "execution_count": 928,
   "metadata": {},
   "outputs": [],
   "source": [
    "MAX_TOKENS = 100\n",
    "from datasets import load_dataset\n",
    "\n",
    "dataset = load_dataset('wikipedia', '20220301.en', split='train[:1%]')\n",
    "\n",
    "from transformers import AutoTokenizer\n",
    "\n",
    "tokenizer = AutoTokenizer.from_pretrained('bert-base-uncased')\n",
    "\n",
    "import spacy\n",
    "\n",
    "nlp = spacy.load(\"en_core_web_sm\")"
   ]
  },
  {
   "cell_type": "code",
   "execution_count": 929,
   "metadata": {},
   "outputs": [],
   "source": [
    "class LayerNorm(nn.Module):\n",
    "    def __init__(self, features):\n",
    "        super().__init__()\n",
    "        self.gamma = nn.Parameter(torch.ones(features))\n",
    "        self.beta = nn.Parameter(torch.zeros(features))\n",
    "\n",
    "    def forward(self, x):\n",
    "        mean = x.mean(-1, keepdim=True)\n",
    "        std = x.std(-1, keepdim=True)\n",
    "        return self.gamma * (x - mean) / (std + 1e-6) + self.beta"
   ]
  },
  {
   "cell_type": "code",
   "execution_count": 1127,
   "metadata": {},
   "outputs": [],
   "source": [
    "class Bert(nn.Module):\n",
    "\n",
    "    def __init__(self, vocab_size):\n",
    "        super().__init__()\n",
    "        self.n = 3\n",
    "        self.emb_channels = 128\n",
    "        self.vocab_size = vocab_size\n",
    "        self.max_token_length = MAX_TOKENS\n",
    "        self.emb = nn.Embedding(self.vocab_size, self.emb_channels)\n",
    "        self.segmented_encoding = nn.Parameter(torch.randn(2, self.emb_channels))\n",
    "        self.positional_encoding = nn.Parameter(torch.randn(self.max_token_length, self.emb_channels))\n",
    "        self.ln1 = LayerNorm(self.emb_channels)\n",
    "        self.ln2 = LayerNorm(self.emb_channels)\n",
    "        self.l1 = nn.Linear(self.emb_channels, 250)\n",
    "        self.relu = nn.ReLU()\n",
    "        self.l2 = nn.Linear(250, self.emb_channels)\n",
    "        self.linear = nn.Linear(self.emb_channels, self.vocab_size)\n",
    "        self.train = True\n",
    "\n",
    "        # transformer block\n",
    "        self.head_count = 8\n",
    "        self.qW = nn.Parameter(torch.randn(self.emb_channels, self.emb_channels))\n",
    "        self.kW = nn.Parameter(torch.randn(self.emb_channels, self.emb_channels))\n",
    "        self.vW = nn.Parameter(torch.randn(self.emb_channels, self.emb_channels))\n",
    "        self.oW = nn.Parameter(torch.randn(self.emb_channels, self.emb_channels))\n",
    "\n",
    "        self.nsp_classifier = nn.Linear(self.emb_channels, 1)\n",
    "\n",
    "    def self_attention(self, x):\n",
    "        q = (self.qW.view(self.head_count, self.emb_channels, -1).transpose(-1, -2) @ x.transpose(-1,-2)).transpose(-1, -2)        \n",
    "        k = (self.kW.view(self.head_count, self.emb_channels, -1).transpose(-1, -2) @ x.transpose(-1,-2)).transpose(-1, -2)        \n",
    "        v = (self.vW.view(self.head_count, self.emb_channels, -1).transpose(-1, -2) @ x.transpose(-1,-2)).transpose(-1, -2)        \n",
    "        qK = q @ k.transpose(-1, -2)\n",
    "        attention_weights = (qK @ v).view(-1, self.emb_channels)\n",
    "        out = attention_weights @ self.oW\n",
    "        out += x\n",
    "        return out\n",
    "\n",
    "    def feed_forward(self, x):\n",
    "        x = self.l1(x)\n",
    "        x = self.relu(x)\n",
    "        x = self.l2(x)\n",
    "        return x\n",
    "        \n",
    "\n",
    "    def forward(self, x, unmasked_x, is_next):\n",
    "        masked_pos = ((x == tokenizer.mask_token_id).nonzero(as_tuple=True)[0]).tolist()\n",
    "        mpos_tokid = [(masked_pos[i], unmasked_x[masked_pos[i]]) for i in range(len(masked_pos))]\n",
    "        sep_pos = (x == tokenizer.sep_token_id).nonzero(as_tuple=True)[0][0].item()\n",
    "        try:\n",
    "            sep_pos2 = (x == tokenizer.pad_token_id).nonzero(as_tuple=True)[0][0].item()\n",
    "        except:\n",
    "            sep_pos2 = MAX_TOKENS\n",
    "        x = self.emb(x)\n",
    "        sent1 = x[:sep_pos]\n",
    "        sent2 = x[sep_pos:sep_pos2]\n",
    "        pad = x[sep_pos2:]\n",
    "        sent1_with_segment = sent1 + self.segmented_encoding[0].unsqueeze(0)\n",
    "        sent2_with_segment = sent2 + self.segmented_encoding[1].unsqueeze(0)\n",
    "        if pad.size(0) > 0:\n",
    "            x = torch.cat([sent1_with_segment, sent2_with_segment, pad], dim=0)\n",
    "        else:\n",
    "            x = torch.cat([sent1_with_segment, sent2_with_segment], dim=0)\n",
    "        x += self.positional_encoding\n",
    "        for _ in range(self.n):\n",
    "            x = self.self_attention(x)\n",
    "            x = self.ln1(x)\n",
    "            x = self.feed_forward(x)\n",
    "            x = self.ln2(x)\n",
    "        if self.train:\n",
    "            nsp_loss = self.nsp(x[0], is_next)\n",
    "            x = self.linear(x)\n",
    "            x = self.mlm(x, mpos_tokid) + nsp_loss\n",
    "        if not self.train:\n",
    "            x = self.linear(x)\n",
    "        return x\n",
    "    \n",
    "    def mlm(self, x, mpos_tokid):\n",
    "        mpos = torch.Tensor([(x[mpos_tokid[i][0]]).tolist() for i in range(len(mpos_tokid))])\n",
    "        tok_id = torch.LongTensor([mpos_tokid[i][1] for i in range(len(mpos_tokid))])\n",
    "        lossval = F.cross_entropy(mpos, tok_id)\n",
    "        return lossval\n",
    "    \n",
    "    def nsp(self, x, is_next):\n",
    "        logits = self.nsp_classifier(x)\n",
    "        target = torch.tensor([is_next], dtype=torch.float)\n",
    "        loss = F.binary_cross_entropy_with_logits(logits, target)\n",
    "        return loss\n"
   ]
  },
  {
   "cell_type": "code",
   "execution_count": 938,
   "metadata": {},
   "outputs": [],
   "source": [
    "sentence_pairs = []"
   ]
  },
  {
   "cell_type": "code",
   "execution_count": 939,
   "metadata": {},
   "outputs": [],
   "source": [
    "\n",
    "for i in range(len(dataset[:10])):\n",
    "    text = dataset[i]['text']\n",
    "    doc = nlp(text)\n",
    "    sentences = [sent.text for sent in doc.sents]\n",
    "    for s1, s2 in zip(sentences, sentences[1:]):\n",
    "        sentence_pairs.append((s1, s2))"
   ]
  },
  {
   "cell_type": "code",
   "execution_count": 940,
   "metadata": {},
   "outputs": [],
   "source": [
    "import random\n",
    "\n",
    "def mask(sentence):\n",
    "    sentence = sentence.copy()\n",
    "    for i in range(len(sentence)):\n",
    "        if sentence[i] == tokenizer.sep_token_id:\n",
    "            continue\n",
    "        prob = random.random()\n",
    "        if prob <= 0.15:\n",
    "            sub_prob = random.random()\n",
    "            if sub_prob <= 0.8:\n",
    "                sentence[i] = tokenizer.mask_token_id\n",
    "            elif sub_prob > 0.8 or sub_prob <= 0.9:\n",
    "                sentence[i] = int(random.random() * (tokenizer.vocab_size-1))\n",
    "    return sentence"
   ]
  },
  {
   "cell_type": "code",
   "execution_count": 941,
   "metadata": {},
   "outputs": [],
   "source": [
    "import random\n",
    "\n",
    "def generate_bert_input():\n",
    "    FIRST_SENT_LIMIT = int(0.8 * MAX_TOKENS)\n",
    "    SECOND_SENT_LIMIT = int(0.2 * MAX_TOKENS)\n",
    "    prob = random.random()\n",
    "    first_sent_idx = int(random.random() * len(sentence_pairs))\n",
    "    is_next = True\n",
    "    if prob > 0.5:\n",
    "        second_sent_idx = first_sent_idx+1\n",
    "    else:\n",
    "        second_sent_idx = int(random.random() * len(sentence_pairs))\n",
    "        is_next = False\n",
    "    \n",
    "    first_sent = tokenizer(sentence_pairs[first_sent_idx][0])['input_ids'][:FIRST_SENT_LIMIT]\n",
    "    second_sent = tokenizer(sentence_pairs[second_sent_idx][1])['input_ids'][1:SECOND_SENT_LIMIT]\n",
    "    pad = MAX_TOKENS - len(first_sent) - len(second_sent)\n",
    "\n",
    "    masked_first_sent = mask(first_sent)\n",
    "    masked_second_sent = mask(second_sent)\n",
    "\n",
    "    masked_val = masked_first_sent + masked_second_sent + [tokenizer.pad_token_id] * pad\n",
    "    val = first_sent + second_sent + [tokenizer.pad_token_id] * pad\n",
    "\n",
    "    return {'masked_val': masked_val, 'unmasked_val': val, 'is_next': is_next}"
   ]
  },
  {
   "cell_type": "code",
   "execution_count": 1129,
   "metadata": {},
   "outputs": [],
   "source": [
    "model = Bert(tokenizer.vocab_size)\n",
    "optim = torch.optim.Adam(model.parameters())"
   ]
  },
  {
   "cell_type": "code",
   "execution_count": 1130,
   "metadata": {},
   "outputs": [],
   "source": [
    "from tqdm import trange"
   ]
  },
  {
   "cell_type": "code",
   "execution_count": 1131,
   "metadata": {},
   "outputs": [
    {
     "name": "stderr",
     "output_type": "stream",
     "text": [
      "loss: 11.92384147644043:  60%|██████    | 60/100 [00:01<00:00, 42.74it/s] \n"
     ]
    },
    {
     "ename": "RuntimeError",
     "evalue": "element 0 of tensors does not require grad and does not have a grad_fn",
     "output_type": "error",
     "traceback": [
      "\u001b[0;31m---------------------------------------------------------------------------\u001b[0m",
      "\u001b[0;31mRuntimeError\u001b[0m                              Traceback (most recent call last)",
      "Cell \u001b[0;32mIn[1131], line 9\u001b[0m\n\u001b[1;32m      5\u001b[0m loss \u001b[38;5;241m=\u001b[39m model(torch\u001b[38;5;241m.\u001b[39mLongTensor(x[\u001b[38;5;124m'\u001b[39m\u001b[38;5;124mmasked_val\u001b[39m\u001b[38;5;124m'\u001b[39m]), x[\u001b[38;5;124m'\u001b[39m\u001b[38;5;124munmasked_val\u001b[39m\u001b[38;5;124m'\u001b[39m], x[\u001b[38;5;124m'\u001b[39m\u001b[38;5;124mis_next\u001b[39m\u001b[38;5;124m'\u001b[39m])\n\u001b[1;32m      7\u001b[0m optim\u001b[38;5;241m.\u001b[39mzero_grad()\n\u001b[0;32m----> 9\u001b[0m \u001b[43mloss\u001b[49m\u001b[38;5;241;43m.\u001b[39;49m\u001b[43mbackward\u001b[49m\u001b[43m(\u001b[49m\u001b[43m)\u001b[49m\n\u001b[1;32m     11\u001b[0m optim\u001b[38;5;241m.\u001b[39mstep()\n\u001b[1;32m     13\u001b[0m t\u001b[38;5;241m.\u001b[39mset_description(\u001b[38;5;124mf\u001b[39m\u001b[38;5;124m'\u001b[39m\u001b[38;5;124mloss: \u001b[39m\u001b[38;5;132;01m{\u001b[39;00mloss\u001b[38;5;241m.\u001b[39mitem()\u001b[38;5;132;01m}\u001b[39;00m\u001b[38;5;124m'\u001b[39m)\n",
      "File \u001b[0;32m~/Library/Python/3.9/lib/python/site-packages/torch/_tensor.py:492\u001b[0m, in \u001b[0;36mTensor.backward\u001b[0;34m(self, gradient, retain_graph, create_graph, inputs)\u001b[0m\n\u001b[1;32m    482\u001b[0m \u001b[38;5;28;01mif\u001b[39;00m has_torch_function_unary(\u001b[38;5;28mself\u001b[39m):\n\u001b[1;32m    483\u001b[0m     \u001b[38;5;28;01mreturn\u001b[39;00m handle_torch_function(\n\u001b[1;32m    484\u001b[0m         Tensor\u001b[38;5;241m.\u001b[39mbackward,\n\u001b[1;32m    485\u001b[0m         (\u001b[38;5;28mself\u001b[39m,),\n\u001b[0;32m   (...)\u001b[0m\n\u001b[1;32m    490\u001b[0m         inputs\u001b[38;5;241m=\u001b[39minputs,\n\u001b[1;32m    491\u001b[0m     )\n\u001b[0;32m--> 492\u001b[0m \u001b[43mtorch\u001b[49m\u001b[38;5;241;43m.\u001b[39;49m\u001b[43mautograd\u001b[49m\u001b[38;5;241;43m.\u001b[39;49m\u001b[43mbackward\u001b[49m\u001b[43m(\u001b[49m\n\u001b[1;32m    493\u001b[0m \u001b[43m    \u001b[49m\u001b[38;5;28;43mself\u001b[39;49m\u001b[43m,\u001b[49m\u001b[43m \u001b[49m\u001b[43mgradient\u001b[49m\u001b[43m,\u001b[49m\u001b[43m \u001b[49m\u001b[43mretain_graph\u001b[49m\u001b[43m,\u001b[49m\u001b[43m \u001b[49m\u001b[43mcreate_graph\u001b[49m\u001b[43m,\u001b[49m\u001b[43m \u001b[49m\u001b[43minputs\u001b[49m\u001b[38;5;241;43m=\u001b[39;49m\u001b[43minputs\u001b[49m\n\u001b[1;32m    494\u001b[0m \u001b[43m\u001b[49m\u001b[43m)\u001b[49m\n",
      "File \u001b[0;32m~/Library/Python/3.9/lib/python/site-packages/torch/autograd/__init__.py:251\u001b[0m, in \u001b[0;36mbackward\u001b[0;34m(tensors, grad_tensors, retain_graph, create_graph, grad_variables, inputs)\u001b[0m\n\u001b[1;32m    246\u001b[0m     retain_graph \u001b[38;5;241m=\u001b[39m create_graph\n\u001b[1;32m    248\u001b[0m \u001b[38;5;66;03m# The reason we repeat the same comment below is that\u001b[39;00m\n\u001b[1;32m    249\u001b[0m \u001b[38;5;66;03m# some Python versions print out the first line of a multi-line function\u001b[39;00m\n\u001b[1;32m    250\u001b[0m \u001b[38;5;66;03m# calls in the traceback and some print out the last line\u001b[39;00m\n\u001b[0;32m--> 251\u001b[0m \u001b[43mVariable\u001b[49m\u001b[38;5;241;43m.\u001b[39;49m\u001b[43m_execution_engine\u001b[49m\u001b[38;5;241;43m.\u001b[39;49m\u001b[43mrun_backward\u001b[49m\u001b[43m(\u001b[49m\u001b[43m  \u001b[49m\u001b[38;5;66;43;03m# Calls into the C++ engine to run the backward pass\u001b[39;49;00m\n\u001b[1;32m    252\u001b[0m \u001b[43m    \u001b[49m\u001b[43mtensors\u001b[49m\u001b[43m,\u001b[49m\n\u001b[1;32m    253\u001b[0m \u001b[43m    \u001b[49m\u001b[43mgrad_tensors_\u001b[49m\u001b[43m,\u001b[49m\n\u001b[1;32m    254\u001b[0m \u001b[43m    \u001b[49m\u001b[43mretain_graph\u001b[49m\u001b[43m,\u001b[49m\n\u001b[1;32m    255\u001b[0m \u001b[43m    \u001b[49m\u001b[43mcreate_graph\u001b[49m\u001b[43m,\u001b[49m\n\u001b[1;32m    256\u001b[0m \u001b[43m    \u001b[49m\u001b[43minputs\u001b[49m\u001b[43m,\u001b[49m\n\u001b[1;32m    257\u001b[0m \u001b[43m    \u001b[49m\u001b[43mallow_unreachable\u001b[49m\u001b[38;5;241;43m=\u001b[39;49m\u001b[38;5;28;43;01mTrue\u001b[39;49;00m\u001b[43m,\u001b[49m\n\u001b[1;32m    258\u001b[0m \u001b[43m    \u001b[49m\u001b[43maccumulate_grad\u001b[49m\u001b[38;5;241;43m=\u001b[39;49m\u001b[38;5;28;43;01mTrue\u001b[39;49;00m\u001b[43m,\u001b[49m\n\u001b[1;32m    259\u001b[0m \u001b[43m\u001b[49m\u001b[43m)\u001b[49m\n",
      "\u001b[0;31mRuntimeError\u001b[0m: element 0 of tensors does not require grad and does not have a grad_fn"
     ]
    }
   ],
   "source": [
    "model.train = True\n",
    "for _ in (t:=trange(100)):\n",
    "    x = generate_bert_input()\n",
    "    \n",
    "    loss = model(torch.LongTensor(x['masked_val']), x['unmasked_val'], x['is_next'])\n",
    "    \n",
    "    optim.zero_grad()\n",
    "\n",
    "    loss.backward()\n",
    "\n",
    "    optim.step()\n",
    "\n",
    "    t.set_description(f'loss: {loss.item()}')\n"
   ]
  }
 ],
 "metadata": {
  "kernelspec": {
   "display_name": "Python 3",
   "language": "python",
   "name": "python3"
  },
  "language_info": {
   "codemirror_mode": {
    "name": "ipython",
    "version": 3
   },
   "file_extension": ".py",
   "mimetype": "text/x-python",
   "name": "python",
   "nbconvert_exporter": "python",
   "pygments_lexer": "ipython3",
   "version": "3.9.6"
  }
 },
 "nbformat": 4,
 "nbformat_minor": 2
}
