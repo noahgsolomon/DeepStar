{
 "cells": [
  {
   "cell_type": "code",
   "execution_count": 1,
   "metadata": {},
   "outputs": [],
   "source": [
    "import torch\n",
    "import torch.nn as nn\n",
    "from torch.nn import functional as F\n",
    "import tiktoken\n",
    "import numpy as np"
   ]
  },
  {
   "cell_type": "code",
   "execution_count": 2,
   "metadata": {},
   "outputs": [],
   "source": [
    "class Bert(nn.Module):\n",
    "\n",
    "    def __init__(self):\n",
    "        super().__init__()\n",
    "        self.encoding = tiktoken.get_encoding(\"r50k_base\")\n",
    "        self.emb_size = self.encoding.n_vocab\n",
    "        self.emb_channels = 128\n",
    "        self.max_token_length = 512\n",
    "        self.emb = nn.Embedding(self.emb_size, self.emb_channels)\n",
    "        self.positional_encoding = nn.Parameter(torch.randn(self.max_token_length, self.emb_channels))\n",
    "        "
   ]
  },
  {
   "cell_type": "code",
   "execution_count": 3,
   "metadata": {},
   "outputs": [
    {
     "name": "stderr",
     "output_type": "stream",
     "text": [
      "/Users/noahs/Library/Python/3.9/lib/python/site-packages/urllib3/__init__.py:34: NotOpenSSLWarning: urllib3 v2.0 only supports OpenSSL 1.1.1+, currently the 'ssl' module is compiled with 'LibreSSL 2.8.3'. See: https://github.com/urllib3/urllib3/issues/3020\n",
      "  warnings.warn(\n",
      "/Users/noahs/Library/Python/3.9/lib/python/site-packages/tqdm/auto.py:21: TqdmWarning: IProgress not found. Please update jupyter and ipywidgets. See https://ipywidgets.readthedocs.io/en/stable/user_install.html\n",
      "  from .autonotebook import tqdm as notebook_tqdm\n"
     ]
    }
   ],
   "source": [
    "from datasets import load_dataset\n",
    "\n",
    "dataset = load_dataset('wikipedia', '20220301.en', split='train[:1%]')"
   ]
  },
  {
   "cell_type": "code",
   "execution_count": 6,
   "metadata": {},
   "outputs": [],
   "source": [
    "from transformers import AutoTokenizer\n",
    "\n",
    "tokenizer = AutoTokenizer.from_pretrained('bert-base-uncased')"
   ]
  },
  {
   "cell_type": "code",
   "execution_count": 44,
   "metadata": {},
   "outputs": [],
   "source": [
    "import spacy\n",
    "\n",
    "nlp = spacy.load(\"en_core_web_sm\")"
   ]
  },
  {
   "cell_type": "code",
   "execution_count": 51,
   "metadata": {},
   "outputs": [],
   "source": [
    "sentence_pairs = []"
   ]
  },
  {
   "cell_type": "code",
   "execution_count": 52,
   "metadata": {},
   "outputs": [],
   "source": [
    "\n",
    "for i in range(len(dataset[:10])):\n",
    "    text = dataset[i]['text']\n",
    "    doc = nlp(text)\n",
    "    sentences = [sent.text for sent in doc.sents]\n",
    "    for s1, s2 in zip(sentences, sentences[1:]):\n",
    "        sentence_pairs.append((s1, s2))"
   ]
  },
  {
   "cell_type": "code",
   "execution_count": 128,
   "metadata": {},
   "outputs": [],
   "source": [
    "import random\n",
    "\n",
    "def mask(sentence):\n",
    "    for i in range(len(sentence)):\n",
    "        prob = random.random()\n",
    "        if prob <= 0.15:\n",
    "            sub_prob = random.random()\n",
    "            if sub_prob <= 0.8:\n",
    "                sentence[i] = tokenizer.mask_token_id\n",
    "            elif sub_prob > 0.8 or sub_prob <= 0.9:\n",
    "                sentence[i] = int(random.random() * (tokenizer.vocab_size-1))\n",
    "    return tokenizer"
   ]
  },
  {
   "cell_type": "code",
   "execution_count": 129,
   "metadata": {},
   "outputs": [
    {
     "data": {
      "text/plain": [
       "{'first_sent': [103,\n",
       "  2012,\n",
       "  3696,\n",
       "  100,\n",
       "  1024,\n",
       "  8511,\n",
       "  17151,\n",
       "  21493,\n",
       "  10748,\n",
       "  1998,\n",
       "  9504,\n",
       "  1999,\n",
       "  2060,\n",
       "  12440,\n",
       "  103,\n",
       "  100,\n",
       "  1024,\n",
       "  20604,\n",
       "  3661,\n",
       "  15669,\n",
       "  8458,\n",
       "  1010,\n",
       "  2013,\n",
       "  2029,\n",
       "  1996,\n",
       "  2206,\n",
       "  9255,\n",
       "  2761,\n",
       "  18547,\n",
       "  1155,\n",
       "  1155,\n",
       "  1024,\n",
       "  3306,\n",
       "  3661,\n",
       "  6541,\n",
       "  12078,\n",
       "  2013,\n",
       "  2029,\n",
       "  1996,\n",
       "  2206,\n",
       "  4144,\n",
       "  18547,\n",
       "  103,\n",
       "  1180,\n",
       "  1024,\n",
       "  102],\n",
       " 'second_sent': [101,\n",
       "  2214,\n",
       "  2009,\n",
       "  103,\n",
       "  16457,\n",
       "  1010,\n",
       "  2029,\n",
       "  2003,\n",
       "  1996,\n",
       "  26722,\n",
       "  1997,\n",
       "  103,\n",
       "  3763,\n",
       "  1037,\n",
       "  1024,\n",
       "  2448,\n",
       "  2594,\n",
       "  3661,\n",
       "  2019,\n",
       "  6342,\n",
       "  2480,\n",
       "  1010,\n",
       "  103,\n",
       "  2763,\n",
       "  12153,\n",
       "  2013,\n",
       "  2214,\n",
       "  2009,\n",
       "  27072,\n",
       "  1037,\n",
       "  1024,\n",
       "  24224,\n",
       "  3661,\n",
       "  17207,\n",
       "  2050,\n",
       "  1013,\n",
       "  5176,\n",
       "  1219,\n",
       "  1219,\n",
       "  1024,\n",
       "  7508,\n",
       "  3661,\n",
       "  1037,\n",
       "  2100,\n",
       "  2497,\n",
       "  9798,\n",
       "  9537,\n",
       "  1015,\n",
       "  2060,\n",
       "  15066,\n",
       "  3964,\n",
       "  3329,\n",
       "  20564,\n",
       "  7604,\n",
       "  6327,\n",
       "  6971,\n",
       "  2381,\n",
       "  1997,\n",
       "  1996,\n",
       "  12440,\n",
       "  103,\n",
       "  3937,\n",
       "  3763,\n",
       "  103,\n",
       "  12710,\n",
       "  4144,\n",
       "  102],\n",
       " 'isNext': True,\n",
       " 'masked_first_sent': BertTokenizerFast(name_or_path='bert-base-uncased', vocab_size=30522, model_max_length=512, is_fast=True, padding_side='right', truncation_side='right', special_tokens={'unk_token': '[UNK]', 'sep_token': '[SEP]', 'pad_token': '[PAD]', 'cls_token': '[CLS]', 'mask_token': '[MASK]'}, clean_up_tokenization_spaces=True),  added_tokens_decoder={\n",
       " \t0: AddedToken(\"[PAD]\", rstrip=False, lstrip=False, single_word=False, normalized=False, special=True),\n",
       " \t100: AddedToken(\"[UNK]\", rstrip=False, lstrip=False, single_word=False, normalized=False, special=True),\n",
       " \t101: AddedToken(\"[CLS]\", rstrip=False, lstrip=False, single_word=False, normalized=False, special=True),\n",
       " \t102: AddedToken(\"[SEP]\", rstrip=False, lstrip=False, single_word=False, normalized=False, special=True),\n",
       " \t103: AddedToken(\"[MASK]\", rstrip=False, lstrip=False, single_word=False, normalized=False, special=True),\n",
       " },\n",
       " 'masked_second_sent': BertTokenizerFast(name_or_path='bert-base-uncased', vocab_size=30522, model_max_length=512, is_fast=True, padding_side='right', truncation_side='right', special_tokens={'unk_token': '[UNK]', 'sep_token': '[SEP]', 'pad_token': '[PAD]', 'cls_token': '[CLS]', 'mask_token': '[MASK]'}, clean_up_tokenization_spaces=True),  added_tokens_decoder={\n",
       " \t0: AddedToken(\"[PAD]\", rstrip=False, lstrip=False, single_word=False, normalized=False, special=True),\n",
       " \t100: AddedToken(\"[UNK]\", rstrip=False, lstrip=False, single_word=False, normalized=False, special=True),\n",
       " \t101: AddedToken(\"[CLS]\", rstrip=False, lstrip=False, single_word=False, normalized=False, special=True),\n",
       " \t102: AddedToken(\"[SEP]\", rstrip=False, lstrip=False, single_word=False, normalized=False, special=True),\n",
       " \t103: AddedToken(\"[MASK]\", rstrip=False, lstrip=False, single_word=False, normalized=False, special=True),\n",
       " }}"
      ]
     },
     "execution_count": 129,
     "metadata": {},
     "output_type": "execute_result"
    }
   ],
   "source": [
    "import random\n",
    "\n",
    "def generate_bert_input():\n",
    "    prob = random.random()\n",
    "    first_sent_idx = int(random.random() * len(sentence_pairs))\n",
    "    isNext = True\n",
    "    if prob > 0.5:\n",
    "        second_sent_idx = first_sent_idx+1\n",
    "    else:\n",
    "        second_sent_idx = int(random.random() * len(sentence_pairs))\n",
    "        isNext = False\n",
    "    \n",
    "    first_sent = tokenizer(sentence_pairs[first_sent_idx][0])['input_ids']\n",
    "    second_sent = tokenizer(sentence_pairs[second_sent_idx][1])['input_ids']\n",
    "\n",
    "    masked_first_sent = mask(first_sent)\n",
    "    masked_second_sent = mask(second_sent)\n",
    "\n",
    "    return {'first_sent': first_sent, 'second_sent': second_sent, 'isNext': isNext, 'masked_first_sent': masked_first_sent, 'masked_second_sent': masked_second_sent}\n",
    "\n",
    "generate_bert_input()"
   ]
  },
  {
   "cell_type": "code",
   "execution_count": 42,
   "metadata": {},
   "outputs": [
    {
     "name": "stdout",
     "output_type": "stream",
     "text": [
      "['.']\n"
     ]
    },
    {
     "ename": "AttributeError",
     "evalue": "'BertTokenizerFast' object has no attribute 'conv'",
     "output_type": "error",
     "traceback": [
      "\u001b[0;31m---------------------------------------------------------------------------\u001b[0m",
      "\u001b[0;31mAttributeError\u001b[0m                            Traceback (most recent call last)",
      "Cell \u001b[0;32mIn[42], line 5\u001b[0m\n\u001b[1;32m      1\u001b[0m to_ids \u001b[38;5;241m=\u001b[39m tokenizer(dataset[\u001b[38;5;241m0\u001b[39m][\u001b[38;5;124m'\u001b[39m\u001b[38;5;124mtext\u001b[39m\u001b[38;5;124m'\u001b[39m][:\u001b[38;5;241m100\u001b[39m])[\u001b[38;5;124m'\u001b[39m\u001b[38;5;124minput_ids\u001b[39m\u001b[38;5;124m'\u001b[39m]\n\u001b[1;32m      3\u001b[0m \u001b[38;5;28mprint\u001b[39m(tokenizer\u001b[38;5;241m.\u001b[39mconvert_ids_to_tokens([\u001b[38;5;241m1012\u001b[39m]))\n\u001b[0;32m----> 5\u001b[0m \u001b[43mtokenizer\u001b[49m\u001b[38;5;241;43m.\u001b[39;49m\u001b[43mconv\u001b[49m\n",
      "\u001b[0;31mAttributeError\u001b[0m: 'BertTokenizerFast' object has no attribute 'conv'"
     ]
    }
   ],
   "source": [
    "to_ids = tokenizer(dataset[0]['text'][:100])['input_ids']\n",
    "\n",
    "print(tokenizer.convert_ids_to_tokens([1012]))\n",
    "\n",
    "tokenizer.conv\n",
    "\n"
   ]
  },
  {
   "cell_type": "code",
   "execution_count": null,
   "metadata": {},
   "outputs": [],
   "source": []
  }
 ],
 "metadata": {
  "kernelspec": {
   "display_name": "Python 3",
   "language": "python",
   "name": "python3"
  },
  "language_info": {
   "codemirror_mode": {
    "name": "ipython",
    "version": 3
   },
   "file_extension": ".py",
   "mimetype": "text/x-python",
   "name": "python",
   "nbconvert_exporter": "python",
   "pygments_lexer": "ipython3",
   "version": "3.9.6"
  }
 },
 "nbformat": 4,
 "nbformat_minor": 2
}
