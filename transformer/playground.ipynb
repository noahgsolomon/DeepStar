{
 "cells": [
  {
   "cell_type": "code",
   "execution_count": 4,
   "metadata": {},
   "outputs": [],
   "source": [
    "import torch\n",
    "import torch.nn as nn\n",
    "from torch.nn import functional as F\n",
    "import tiktoken"
   ]
  },
  {
   "cell_type": "code",
   "execution_count": 60,
   "metadata": {},
   "outputs": [
    {
     "data": {
      "text/plain": [
       "tensor([[-0.3952,  0.4097, -0.3282,  1.4431, -2.0988,  1.6565, -0.0883,  0.1826,\n",
       "         -0.9863, -0.0432,  0.2187,  0.5748,  0.7740,  0.1391, -1.1404,  0.6420,\n",
       "         -0.8807,  0.9442,  0.4270,  1.9741, -0.4258,  1.2760,  0.8328,  0.5946,\n",
       "          0.2083,  1.0247, -0.6994, -0.3280, -1.1487,  0.2408, -0.9198,  0.7375],\n",
       "        [ 1.8742,  0.9816,  0.0296,  2.1033,  0.0170,  0.9689,  1.5992,  1.5757,\n",
       "          1.2710,  1.5302,  0.7155,  2.7595,  1.7836,  1.4026,  0.3886,  3.0462,\n",
       "          0.5029,  1.6068, -2.0694, -0.1292, -0.3238,  1.2027,  1.1921,  1.3729,\n",
       "         -1.4753,  0.9395,  1.7386,  0.9181, -0.7822,  1.3682,  0.1216,  0.4698],\n",
       "        [-0.8828, -0.3299,  1.3532,  0.7826,  2.3875,  0.3222,  0.8317,  0.9598,\n",
       "          1.4308,  1.0618,  0.4267,  1.0229, -1.4073,  1.3116, -0.1809,  0.4010,\n",
       "          0.4912, -0.0079, -0.2039,  0.5864,  0.0920,  2.1852,  1.1640,  2.3092,\n",
       "         -0.6134,  0.3480,  0.3462,  0.8159, -0.8374,  1.1957,  1.3222,  1.8344],\n",
       "        [-0.8025, -0.2186, -0.2830,  1.2124,  0.4573,  1.6539,  1.3162,  1.7640,\n",
       "          0.0103,  1.0544, -0.8430,  1.1179,  1.3047,  0.7968, -0.7276,  1.2201,\n",
       "          0.6304,  1.6839,  0.0673, -0.1351, -0.6212, -0.2885, -0.5378,  0.5793,\n",
       "         -0.5317,  0.7671,  0.9497, -0.2331, -1.8532,  0.8361,  0.4398,  1.2131],\n",
       "        [-1.3246, -1.3774,  0.0813, -0.0801,  1.1555,  0.5092, -1.2025, -0.1418,\n",
       "          1.6365,  1.4488, -1.0200,  1.7941,  1.2304,  0.4923,  0.2170,  1.6073,\n",
       "          0.6899,  2.7458, -0.7882,  1.1563, -0.3631,  0.4905,  0.4772,  1.6177,\n",
       "          1.0151,  2.3303, -2.0000,  0.2388,  0.6792,  3.0360, -0.1765,  0.0228],\n",
       "        [-1.4682,  0.2415, -1.2182, -0.1249, -0.6444, -0.7604,  0.6062,  1.5842,\n",
       "         -0.8775,  1.0871,  2.4598,  0.7188, -0.8132,  0.9542,  0.2938, -1.6896,\n",
       "          0.7966,  2.0162, -0.7821, -0.4756,  0.5256,  3.2736, -0.9862,  0.9461,\n",
       "         -0.9396,  0.8039,  0.7372, -0.3310, -0.0550,  1.6752, -0.0373,  1.5331]],\n",
       "       grad_fn=<CopySlices>)"
      ]
     },
     "execution_count": 60,
     "metadata": {},
     "output_type": "execute_result"
    }
   ],
   "source": [
    "class BobNet(nn.Module):\n",
    "\n",
    "    def __init__(self):\n",
    "        super().__init__()\n",
    "        self.encoding = tiktoken.get_encoding(\"r50k_base\")\n",
    "        self.emb_size = self.encoding.n_vocab\n",
    "        self.emb_channels = 32\n",
    "        self.emb = nn.Embedding(self.emb_size, self.emb_channels)\n",
    "\n",
    "    def positional_encoding(self, x):\n",
    "        d = x.shape[1]\n",
    "        encoding = x.clone() \n",
    "        for pos in range(x.shape[0]):\n",
    "            for i in range(d):\n",
    "                factor = 10000 ** (2 * i / d)\n",
    "                position_tensor = torch.tensor(pos / factor, dtype=torch.float32)\n",
    "                encoding_val = torch.sin(position_tensor) if i % 2 == 0 else torch.cos(position_tensor)\n",
    "                encoding[pos, i] += encoding_val\n",
    "        return encoding\n",
    "\n",
    "\n",
    "    def forward(self, x):\n",
    "        x = self.encoding.encode(x)\n",
    "        x = self.emb(torch.tensor(x))\n",
    "        x = self.positional_encoding(x)\n",
    "        return x\n",
    "    \n",
    "\n",
    "sup = BobNet()\n",
    "sup('tiktoken is goated')"
   ]
  }
 ],
 "metadata": {
  "kernelspec": {
   "display_name": "Python 3",
   "language": "python",
   "name": "python3"
  },
  "language_info": {
   "codemirror_mode": {
    "name": "ipython",
    "version": 3
   },
   "file_extension": ".py",
   "mimetype": "text/x-python",
   "name": "python",
   "nbconvert_exporter": "python",
   "pygments_lexer": "ipython3",
   "version": "3.9.6"
  }
 },
 "nbformat": 4,
 "nbformat_minor": 2
}
