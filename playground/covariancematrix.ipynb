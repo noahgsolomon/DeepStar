{
 "cells": [
  {
   "cell_type": "code",
   "execution_count": 35,
   "metadata": {},
   "outputs": [
    {
     "name": "stdout",
     "output_type": "stream",
     "text": [
      "Correlation between Sex and Age: 0.0\n",
      "Correlation between Sex and Height: 0.09110043227121513\n",
      "Correlation between Age and Height: 0.9634523256394619\n"
     ]
    },
    {
     "name": "stderr",
     "output_type": "stream",
     "text": [
      "/var/folders/7m/w8k84tcn19d4k10r234_g4lr0000gn/T/ipykernel_81469/2972657922.py:32: FutureWarning: Series.__getitem__ treating keys as positions is deprecated. In a future version, integer keys will always be treated as labels (consistent with DataFrame behavior). To access a value by position, use `ser.iloc[pos]`\n",
      "  correlation = cov_matrix[i][j] / (std_devs[i] * std_devs[j])\n"
     ]
    },
    {
     "data": {
      "text/plain": [
       "[[0.25, 0.0, 0.8699419402378794],\n",
       " [0.0, 18.666666666666657, 79.49932520493985],\n",
       " [0.8699419402378794, 79.49932520493985, 364.0592179892301]]"
      ]
     },
     "execution_count": 35,
     "metadata": {},
     "output_type": "execute_result"
    }
   ],
   "source": [
    "import pandas as pd\n",
    "\n",
    "\n",
    "df = pd.read_csv('humandata.csv', usecols=['Sex', 'Age', 'Height'])\n",
    "#dataset of thousands of those aged 5 - 19\n",
    "\n",
    "inputs = df.values.tolist()\n",
    "\n",
    "std_devs = df.std()\n",
    "\n",
    "cov_matrix = [[0 for _ in range(3)] for _ in range(3)]\n",
    "\n",
    "for i in range(3):\n",
    "    for j in range(3):\n",
    "        meanFirst = 0\n",
    "        meanSecond = 0\n",
    "        meanFirstSecond = 0\n",
    "        for k in range(len(inputs)):\n",
    "            meanFirst += inputs[k][i]\n",
    "            meanSecond += inputs[k][j]\n",
    "            meanFirstSecond += inputs[k][i] * inputs[k][j]\n",
    "        meanFirst /= len(inputs)\n",
    "        meanSecond /= len(inputs)\n",
    "        meanFirstSecond /= len(inputs)\n",
    "        cov_matrix[i][j] = meanFirstSecond - meanFirst * meanSecond\n",
    "            \n",
    "for i in range(3):\n",
    "    for j in range(3):\n",
    "        if i == j or i > j:\n",
    "            continue\n",
    "        mapping = {0: 'Sex', 1: 'Age', 2: 'Height'}\n",
    "        correlation = cov_matrix[i][j] / (std_devs[i] * std_devs[j])\n",
    "        print(f\"Correlation between {mapping[i]} and {mapping[j]}: {correlation}\")\n",
    "\n",
    "cov_matrix"
   ]
  },
  {
   "cell_type": "code",
   "execution_count": 29,
   "metadata": {},
   "outputs": [
    {
     "name": "stdout",
     "output_type": "stream",
     "text": [
      "Correlation between Year and Salary: 0.2282292261557435\n",
      "Correlation between Year and Remote Ratio: -0.23636687881984017\n",
      "Correlation between Year and Company Size: -0.13883765303505663\n",
      "Correlation between Salary and Remote Ratio: -0.06415389571382689\n",
      "Correlation between Salary and Company Size: 0.00037225992529504165\n",
      "Correlation between Remote Ratio and Company Size: 0.036917764654708134\n"
     ]
    },
    {
     "name": "stderr",
     "output_type": "stream",
     "text": [
      "/var/folders/7m/w8k84tcn19d4k10r234_g4lr0000gn/T/ipykernel_81469/4206936717.py:33: FutureWarning: Series.__getitem__ treating keys as positions is deprecated. In a future version, integer keys will always be treated as labels (consistent with DataFrame behavior). To access a value by position, use `ser.iloc[pos]`\n",
      "  correlation = cov_matrix[i][j] / (std_devs[i] * std_devs[j])\n"
     ]
    }
   ],
   "source": [
    "import pandas as pd\n",
    "\n",
    "\n",
    "df = pd.read_csv('salary.csv', usecols=['work_year', 'salary_in_usd', 'remote_ratio', 'company_size'])\n",
    "\n",
    "df['company_size'] = df['company_size'].replace({'S': 0, 'M': 1, 'L': 2})\n",
    "\n",
    "inputs = df.values.tolist()\n",
    "\n",
    "std_devs = df.std()\n",
    "\n",
    "cov_matrix = [[0 for _ in range(4)] for _ in range(4)]\n",
    "\n",
    "for i in range(4):\n",
    "    for j in range(4):\n",
    "        meanFirst = 0\n",
    "        meanSecond = 0\n",
    "        meanFirstSecond = 0\n",
    "        for k in range(len(inputs)):\n",
    "            meanFirst += inputs[k][i]\n",
    "            meanSecond += inputs[k][j]\n",
    "            meanFirstSecond += inputs[k][i] * inputs[k][j]\n",
    "        meanFirst /= len(inputs)\n",
    "        meanSecond /= len(inputs)\n",
    "        meanFirstSecond /= len(inputs)\n",
    "        cov_matrix[i][j] = meanFirstSecond - meanFirst * meanSecond\n",
    "            \n",
    "for i in range(4):\n",
    "    for j in range(4):\n",
    "        if i == j or i > j:\n",
    "            continue\n",
    "        mapping = {0: 'Year', 1: 'Salary', 2: 'Remote Ratio', 3: 'Company Size'}\n",
    "        correlation = cov_matrix[i][j] / (std_devs[i] * std_devs[j])\n",
    "        print(f\"Correlation between {mapping[i]} and {mapping[j]}: {correlation}\")"
   ]
  }
 ],
 "metadata": {
  "kernelspec": {
   "display_name": "Python 3",
   "language": "python",
   "name": "python3"
  },
  "language_info": {
   "codemirror_mode": {
    "name": "ipython",
    "version": 3
   },
   "file_extension": ".py",
   "mimetype": "text/x-python",
   "name": "python",
   "nbconvert_exporter": "python",
   "pygments_lexer": "ipython3",
   "version": "3.9.6"
  }
 },
 "nbformat": 4,
 "nbformat_minor": 2
}
