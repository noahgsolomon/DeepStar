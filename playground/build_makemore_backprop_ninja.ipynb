{
  "cells": [
    {
      "cell_type": "markdown",
      "metadata": {
        "id": "rToK0Tku8PPn"
      },
      "source": [
        "## makemore: becoming a backprop ninja"
      ]
    },
    {
      "cell_type": "code",
      "execution_count": 5,
      "metadata": {
        "id": "ChBbac4y8PPq"
      },
      "outputs": [],
      "source": [
        "import torch\n",
        "import torch.nn.functional as F\n",
        "import matplotlib.pyplot as plt"
      ]
    },
    {
      "cell_type": "code",
      "execution_count": 6,
      "metadata": {
        "id": "klmu3ZG08PPr"
      },
      "outputs": [],
      "source": [
        "words = open('names.txt', 'r').read().splitlines()"
      ]
    },
    {
      "cell_type": "code",
      "execution_count": 7,
      "metadata": {
        "id": "BCQomLE_8PPs"
      },
      "outputs": [],
      "source": [
        "chars = sorted(list(set(''.join(words))))\n",
        "stoi = {s:i+1 for i,s in enumerate(chars)}\n",
        "stoi['.'] = 0\n",
        "itos = {i:s for s,i in stoi.items()}\n",
        "vocab_size = len(itos)"
      ]
    },
    {
      "cell_type": "code",
      "execution_count": 8,
      "metadata": {
        "id": "V_zt2QHr8PPs"
      },
      "outputs": [],
      "source": [
        "block_size = 3\n",
        "\n",
        "def build_dataset(words):\n",
        "  X, Y = [], []\n",
        "\n",
        "  for w in words:\n",
        "    context = [0] * block_size\n",
        "    for ch in w + '.':\n",
        "      ix = stoi[ch]\n",
        "      X.append(context)\n",
        "      Y.append(ix)\n",
        "      context = context[1:] + [ix]\n",
        "\n",
        "  X = torch.tensor(X)\n",
        "  Y = torch.tensor(Y)\n",
        "  return X, Y\n",
        "\n",
        "import random\n",
        "random.seed(42)\n",
        "random.shuffle(words)\n",
        "n1 = int(0.8*len(words))\n",
        "n2 = int(0.9*len(words))\n",
        "\n",
        "Xtr,  Ytr  = build_dataset(words[:n1])\n",
        "Xdev, Ydev = build_dataset(words[n1:n2])\n",
        "Xte,  Yte  = build_dataset(words[n2:])"
      ]
    },
    {
      "cell_type": "code",
      "execution_count": 9,
      "metadata": {
        "id": "MJPU8HT08PPu"
      },
      "outputs": [],
      "source": [
        "def cmp(s, dt, t):\n",
        "  ex = torch.all(dt == t.grad).item()\n",
        "  app = torch.allclose(dt, t.grad)\n",
        "  maxdiff = (dt - t.grad).abs().max().item()\n",
        "  print(f'{s:15s} | exact: {str(ex):5s} | approximate: {str(app):5s} | maxdiff: {maxdiff}')"
      ]
    },
    {
      "cell_type": "code",
      "execution_count": 39,
      "metadata": {
        "id": "ZlFLjQyT8PPu"
      },
      "outputs": [
        {
          "name": "stdout",
          "output_type": "stream",
          "text": [
            "6297\n"
          ]
        }
      ],
      "source": [
        "n_embd = 10\n",
        "n_hidden = 100\n",
        "\n",
        "g = torch.Generator().manual_seed(2147483647)\n",
        "C  = torch.randn((vocab_size, n_embd), generator=g)\n",
        "W1 = torch.randn((n_embd * block_size, n_hidden), generator=g) * (5/3)/((n_embd * block_size)**0.5)\n",
        "b1 = torch.randn(n_hidden, generator=g) * 0.1 \n",
        "W2 = torch.randn((n_hidden, vocab_size), generator=g) * 0.1\n",
        "b2 = torch.randn(vocab_size, generator=g) * 0.1\n",
        "bngain = torch.randn((1, n_hidden))*0.1 + 1.0\n",
        "bnbias = torch.randn((1, n_hidden))*0.1\n",
        "\n",
        "parameters = [C, W1, b1, W2, b2, bngain, bnbias]\n",
        "print(sum(p.nelement() for p in parameters))\n",
        "for p in parameters:\n",
        "  p.requires_grad = True"
      ]
    },
    {
      "cell_type": "code",
      "execution_count": 49,
      "metadata": {
        "id": "QY-y96Y48PPv"
      },
      "outputs": [],
      "source": [
        "batch_size = 32\n",
        "ix = torch.randint(0, Xtr.shape[0], (batch_size,), generator=g)\n",
        "Xb, Yb = Xtr[ix], Ytr[ix]"
      ]
    },
    {
      "cell_type": "code",
      "execution_count": 50,
      "metadata": {
        "id": "8ofj1s6d8PPv"
      },
      "outputs": [],
      "source": [
        "emb = C[Xb].flatten(1)\n",
        "hprebn = emb @ W1 + b1\n",
        "bnmeani = (1/batch_size)*hprebn.sum(dim=0, keepdim=True)\n",
        "bndiff = hprebn - bnmeani\n",
        "bndiff2 = bndiff**2\n",
        "bnvar = 1/(batch_size-1)*(bndiff2).sum(0, keepdim=True)\n",
        "bnvar_inv = (bnvar + 1e-5)**-0.5\n",
        "bnraw = bndiff * bnvar_inv\n",
        "hpreact = bngain * bnraw + bnbias\n",
        "h = torch.tanh(hpreact)\n",
        "logits = h @ W2 + b2\n",
        "logit_maxes = logits.max(dim=1, keepdim=True).values\n",
        "norm_logits = logits - logit_maxes\n",
        "counts = norm_logits.exp()\n",
        "counts_sum = counts.sum(1, keepdims=True)\n",
        "counts_sum_inv = counts_sum**-1 \n",
        "probs = counts * counts_sum_inv\n",
        "logprobs = probs.log()\n",
        "loss = -logprobs[range(batch_size), Yb].mean()\n",
        "for p in parameters:\n",
        "  p.grad = None\n",
        "for t in [logprobs, probs, counts, counts_sum, counts_sum_inv,\n",
        "          norm_logits, logit_maxes, logits, h, hpreact, bnraw,\n",
        "         bnvar_inv, bnvar, bndiff2, bndiff, hprebn, bnmeani,\n",
        "         emb]:\n",
        "  t.retain_grad()\n",
        "loss.backward()"
      ]
    },
    {
      "cell_type": "code",
      "execution_count": 51,
      "metadata": {},
      "outputs": [
        {
          "name": "stdout",
          "output_type": "stream",
          "text": [
            "tensor([[0., 0., 0., 0., 0., 0., 0., 0., 0., 0., 0., 0., 0., 0., 0., 0., 0., 1.,\n",
            "         0., 0., 0., 0., 0., 0., 0., 0., 0.],\n",
            "        [0., 0., 0., 0., 0., 0., 1., 0., 0., 0., 0., 0., 0., 0., 0., 0., 0., 0.,\n",
            "         0., 0., 0., 0., 0., 0., 0., 0., 0.],\n",
            "        [0., 1., 0., 0., 0., 0., 0., 0., 0., 0., 0., 0., 0., 0., 0., 0., 0., 0.,\n",
            "         0., 0., 0., 0., 0., 0., 0., 0., 0.],\n",
            "        [0., 0., 0., 0., 0., 0., 0., 0., 0., 0., 0., 0., 0., 0., 0., 0., 0., 1.,\n",
            "         0., 0., 0., 0., 0., 0., 0., 0., 0.],\n",
            "        [0., 0., 0., 0., 0., 0., 0., 0., 0., 0., 0., 0., 0., 0., 0., 0., 0., 0.,\n",
            "         0., 0., 0., 0., 1., 0., 0., 0., 0.],\n",
            "        [0., 0., 0., 0., 0., 0., 1., 0., 0., 0., 0., 0., 0., 0., 0., 0., 0., 0.,\n",
            "         0., 0., 0., 0., 0., 0., 0., 0., 0.],\n",
            "        [0., 0., 0., 0., 0., 0., 0., 0., 0., 0., 0., 0., 0., 0., 0., 0., 0., 0.,\n",
            "         0., 0., 0., 0., 0., 1., 0., 0., 0.],\n",
            "        [0., 0., 0., 0., 0., 0., 0., 0., 0., 0., 0., 0., 0., 0., 0., 0., 0., 0.,\n",
            "         0., 0., 0., 0., 0., 0., 1., 0., 0.],\n",
            "        [0., 0., 0., 0., 0., 0., 0., 0., 0., 0., 0., 0., 0., 0., 0., 0., 0., 0.,\n",
            "         0., 0., 0., 0., 1., 0., 0., 0., 0.],\n",
            "        [0., 0., 0., 0., 0., 0., 0., 0., 0., 0., 0., 0., 0., 0., 0., 0., 0., 0.,\n",
            "         0., 0., 0., 0., 1., 0., 0., 0., 0.],\n",
            "        [0., 1., 0., 0., 0., 0., 0., 0., 0., 0., 0., 0., 0., 0., 0., 0., 0., 0.,\n",
            "         0., 0., 0., 0., 0., 0., 0., 0., 0.],\n",
            "        [0., 1., 0., 0., 0., 0., 0., 0., 0., 0., 0., 0., 0., 0., 0., 0., 0., 0.,\n",
            "         0., 0., 0., 0., 0., 0., 0., 0., 0.],\n",
            "        [0., 0., 0., 0., 0., 0., 0., 0., 0., 0., 0., 0., 0., 0., 0., 0., 0., 0.,\n",
            "         0., 0., 0., 0., 1., 0., 0., 0., 0.],\n",
            "        [0., 0., 0., 0., 0., 0., 0., 0., 0., 0., 0., 0., 0., 0., 0., 0., 0., 0.,\n",
            "         0., 0., 0., 0., 0., 0., 0., 1., 0.],\n",
            "        [0., 0., 0., 0., 1., 0., 0., 0., 0., 0., 0., 0., 0., 0., 0., 0., 0., 0.,\n",
            "         0., 0., 0., 0., 0., 0., 0., 0., 0.],\n",
            "        [0., 0., 0., 0., 0., 0., 0., 0., 0., 0., 0., 0., 0., 0., 0., 0., 0., 0.,\n",
            "         0., 0., 1., 0., 0., 0., 0., 0., 0.],\n",
            "        [0., 0., 0., 0., 0., 0., 0., 0., 0., 0., 0., 0., 0., 0., 0., 0., 0., 0.,\n",
            "         0., 0., 1., 0., 0., 0., 0., 0., 0.],\n",
            "        [0., 0., 0., 0., 0., 0., 0., 0., 0., 0., 0., 0., 0., 0., 0., 1., 0., 0.,\n",
            "         0., 0., 0., 0., 0., 0., 0., 0., 0.],\n",
            "        [0., 0., 0., 0., 0., 0., 0., 0., 0., 0., 0., 0., 0., 0., 0., 0., 0., 0.,\n",
            "         0., 0., 0., 0., 1., 0., 0., 0., 0.],\n",
            "        [0., 0., 0., 0., 0., 0., 1., 0., 0., 0., 0., 0., 0., 0., 0., 0., 0., 0.,\n",
            "         0., 0., 0., 0., 0., 0., 0., 0., 0.],\n",
            "        [0., 0., 0., 0., 0., 0., 1., 0., 0., 0., 0., 0., 0., 0., 0., 0., 0., 0.,\n",
            "         0., 0., 0., 0., 0., 0., 0., 0., 0.],\n",
            "        [0., 0., 0., 0., 0., 0., 0., 0., 0., 0., 0., 0., 0., 0., 0., 0., 0., 0.,\n",
            "         0., 0., 0., 0., 0., 1., 0., 0., 0.],\n",
            "        [1., 0., 0., 0., 0., 0., 0., 0., 0., 0., 0., 0., 0., 0., 0., 0., 0., 0.,\n",
            "         0., 0., 0., 0., 0., 0., 0., 0., 0.],\n",
            "        [0., 0., 0., 0., 0., 1., 0., 0., 0., 0., 0., 0., 0., 0., 0., 0., 0., 0.,\n",
            "         0., 0., 0., 0., 0., 0., 0., 0., 0.],\n",
            "        [0., 0., 0., 0., 0., 0., 0., 0., 0., 0., 0., 0., 0., 0., 0., 1., 0., 0.,\n",
            "         0., 0., 0., 0., 0., 0., 0., 0., 0.],\n",
            "        [0., 0., 0., 0., 0., 1., 0., 0., 0., 0., 0., 0., 0., 0., 0., 0., 0., 0.,\n",
            "         0., 0., 0., 0., 0., 0., 0., 0., 0.],\n",
            "        [0., 0., 0., 0., 0., 0., 0., 0., 0., 0., 0., 0., 0., 0., 0., 0., 0., 0.,\n",
            "         1., 0., 0., 0., 0., 0., 0., 0., 0.],\n",
            "        [0., 0., 0., 0., 0., 0., 0., 0., 0., 0., 0., 0., 0., 0., 0., 0., 0., 0.,\n",
            "         0., 0., 0., 0., 1., 0., 0., 0., 0.],\n",
            "        [0., 0., 0., 0., 0., 0., 0., 0., 0., 0., 0., 0., 0., 0., 0., 1., 0., 0.,\n",
            "         0., 0., 0., 0., 0., 0., 0., 0., 0.],\n",
            "        [0., 0., 0., 0., 0., 0., 0., 0., 0., 0., 0., 0., 0., 0., 0., 0., 1., 0.,\n",
            "         0., 0., 0., 0., 0., 0., 0., 0., 0.],\n",
            "        [0., 1., 0., 0., 0., 0., 0., 0., 0., 0., 0., 0., 0., 0., 0., 0., 0., 0.,\n",
            "         0., 0., 0., 0., 0., 0., 0., 0., 0.],\n",
            "        [0., 0., 0., 0., 0., 0., 0., 0., 0., 0., 0., 0., 0., 0., 0., 1., 0., 0.,\n",
            "         0., 0., 0., 0., 0., 0., 0., 0., 0.]])\n"
          ]
        }
      ],
      "source": [
        "d = torch.zeros_like(logits)\n",
        "max_indices = torch.max(logits, 1).indices\n",
        "for i in range(d.shape[0]):\n",
        "    d[i, max_indices[i]] = 1\n",
        "\n",
        "print(d)"
      ]
    },
    {
      "cell_type": "code",
      "execution_count": 52,
      "metadata": {
        "id": "mO-8aqxK8PPw"
      },
      "outputs": [
        {
          "name": "stdout",
          "output_type": "stream",
          "text": [
            "tensor([[ 0.0009,  0.0017,  0.0006,  0.0018,  0.0019,  0.0022,  0.0005,  0.0005,\n",
            "          0.0014,  0.0017,  0.0015,  0.0015,  0.0004,  0.0009,  0.0013,  0.0006,\n",
            "          0.0007,  0.0022,  0.0011,  0.0005,  0.0005,  0.0016,  0.0016,  0.0007,\n",
            "          0.0012, -0.0300,  0.0005],\n",
            "        [ 0.0013,  0.0014,  0.0006,  0.0021,  0.0015,  0.0003,  0.0026,  0.0011,\n",
            "          0.0010,  0.0012,  0.0003,  0.0012,  0.0018,  0.0004, -0.0300,  0.0014,\n",
            "          0.0007,  0.0003,  0.0015,  0.0008,  0.0012,  0.0007,  0.0012,  0.0008,\n",
            "          0.0021,  0.0019,  0.0007],\n",
            "        [-0.0310,  0.0035,  0.0008,  0.0009,  0.0002,  0.0013,  0.0005,  0.0002,\n",
            "          0.0021,  0.0019,  0.0004,  0.0003,  0.0005,  0.0021,  0.0004,  0.0017,\n",
            "          0.0014,  0.0012,  0.0019,  0.0021,  0.0013,  0.0013,  0.0005,  0.0006,\n",
            "          0.0012,  0.0004,  0.0023],\n",
            "        [ 0.0011,  0.0016,  0.0011,  0.0006,  0.0009,  0.0008,  0.0007,  0.0008,\n",
            "          0.0017, -0.0303,  0.0010,  0.0007,  0.0008,  0.0019,  0.0009,  0.0015,\n",
            "          0.0008,  0.0028,  0.0019,  0.0006,  0.0011,  0.0015,  0.0022,  0.0005,\n",
            "          0.0012,  0.0009,  0.0008],\n",
            "        [ 0.0005,  0.0005,  0.0018,  0.0004,  0.0026, -0.0299,  0.0010,  0.0018,\n",
            "          0.0010,  0.0006,  0.0009,  0.0010,  0.0014,  0.0009,  0.0007,  0.0005,\n",
            "          0.0008,  0.0028,  0.0007,  0.0009,  0.0004,  0.0022,  0.0028,  0.0013,\n",
            "          0.0014,  0.0008,  0.0003],\n",
            "        [ 0.0015,  0.0008,  0.0004,  0.0012,  0.0011,  0.0002,  0.0039,  0.0025,\n",
            "          0.0012,  0.0009,  0.0003,  0.0017,  0.0021,  0.0002,  0.0011,  0.0011,\n",
            "          0.0009,  0.0001,  0.0012,  0.0009,  0.0008,  0.0005,  0.0011,  0.0016,\n",
            "          0.0008, -0.0288,  0.0007],\n",
            "        [ 0.0004,  0.0008,  0.0021,  0.0006,  0.0004,  0.0007,  0.0009,  0.0016,\n",
            "          0.0017,  0.0010,  0.0010,  0.0003,  0.0015,  0.0008, -0.0309,  0.0010,\n",
            "          0.0026,  0.0006,  0.0012,  0.0020,  0.0014,  0.0008,  0.0010,  0.0048,\n",
            "          0.0005,  0.0006,  0.0007],\n",
            "        [ 0.0012,  0.0010,  0.0011,  0.0010,  0.0006,  0.0006,  0.0005, -0.0308,\n",
            "          0.0013,  0.0013,  0.0007,  0.0003,  0.0007,  0.0018,  0.0005,  0.0012,\n",
            "          0.0026,  0.0014,  0.0008,  0.0014,  0.0020,  0.0014,  0.0016,  0.0011,\n",
            "          0.0026,  0.0010,  0.0011],\n",
            "        [ 0.0005,  0.0005,  0.0018,  0.0004, -0.0287,  0.0014,  0.0010,  0.0018,\n",
            "          0.0010,  0.0006,  0.0009,  0.0010,  0.0014,  0.0009,  0.0007,  0.0005,\n",
            "          0.0008,  0.0028,  0.0007,  0.0009,  0.0004,  0.0022,  0.0028,  0.0013,\n",
            "          0.0014,  0.0008,  0.0003],\n",
            "        [ 0.0005, -0.0307,  0.0018,  0.0004,  0.0026,  0.0014,  0.0010,  0.0018,\n",
            "          0.0010,  0.0006,  0.0009,  0.0010,  0.0014,  0.0009,  0.0007,  0.0005,\n",
            "          0.0008,  0.0028,  0.0007,  0.0009,  0.0004,  0.0022,  0.0028,  0.0013,\n",
            "          0.0014,  0.0008,  0.0003],\n",
            "        [ 0.0006,  0.0030,  0.0005,  0.0013,  0.0003,  0.0021,  0.0007,  0.0007,\n",
            "          0.0024, -0.0295,  0.0025,  0.0006,  0.0006,  0.0007,  0.0003,  0.0007,\n",
            "          0.0015,  0.0019,  0.0010,  0.0008,  0.0006,  0.0016,  0.0008,  0.0020,\n",
            "          0.0004,  0.0008,  0.0008],\n",
            "        [ 0.0005,  0.0041,  0.0006,  0.0007,  0.0008, -0.0309,  0.0031,  0.0008,\n",
            "          0.0010,  0.0010,  0.0007,  0.0007,  0.0007,  0.0017,  0.0006,  0.0004,\n",
            "          0.0006,  0.0014,  0.0022,  0.0015,  0.0012,  0.0023,  0.0003,  0.0008,\n",
            "          0.0009,  0.0018,  0.0006],\n",
            "        [ 0.0005,  0.0005,  0.0018,  0.0004,  0.0026,  0.0014,  0.0010,  0.0018,\n",
            "          0.0010,  0.0006, -0.0303,  0.0010,  0.0014,  0.0009,  0.0007,  0.0005,\n",
            "          0.0008,  0.0028,  0.0007,  0.0009,  0.0004,  0.0022,  0.0028,  0.0013,\n",
            "          0.0014,  0.0008,  0.0003],\n",
            "        [ 0.0003,  0.0016,  0.0018,  0.0008,  0.0010,  0.0007,  0.0006,  0.0009,\n",
            "          0.0012,  0.0011,  0.0011,  0.0030,  0.0015,  0.0005,  0.0013,  0.0008,\n",
            "          0.0006,  0.0018, -0.0302,  0.0008,  0.0005,  0.0007,  0.0002,  0.0003,\n",
            "          0.0006,  0.0037,  0.0028],\n",
            "        [ 0.0005,  0.0020,  0.0008,  0.0010,  0.0029,  0.0013,  0.0010,  0.0008,\n",
            "          0.0012, -0.0305,  0.0010,  0.0017,  0.0004,  0.0014,  0.0009,  0.0003,\n",
            "          0.0006,  0.0015,  0.0027,  0.0008,  0.0004,  0.0024,  0.0010,  0.0005,\n",
            "          0.0021,  0.0007,  0.0004],\n",
            "        [ 0.0008,  0.0011,  0.0011,  0.0009,  0.0005,  0.0007,  0.0003,  0.0004,\n",
            "          0.0015,  0.0013,  0.0006,  0.0005,  0.0003,  0.0018, -0.0305,  0.0010,\n",
            "          0.0005,  0.0010,  0.0026,  0.0009,  0.0066,  0.0014,  0.0003,  0.0010,\n",
            "          0.0008,  0.0007,  0.0021],\n",
            "        [-0.0298,  0.0006,  0.0005,  0.0021,  0.0008,  0.0005,  0.0006,  0.0011,\n",
            "          0.0008,  0.0006,  0.0007,  0.0006,  0.0013,  0.0007,  0.0016,  0.0014,\n",
            "          0.0008,  0.0002,  0.0021,  0.0014,  0.0046,  0.0006,  0.0005,  0.0019,\n",
            "          0.0008,  0.0007,  0.0023],\n",
            "        [ 0.0014, -0.0309,  0.0004,  0.0005,  0.0004,  0.0007,  0.0004,  0.0021,\n",
            "          0.0020,  0.0005,  0.0016,  0.0022,  0.0030,  0.0008,  0.0008,  0.0036,\n",
            "          0.0003,  0.0021,  0.0004,  0.0009,  0.0013,  0.0006,  0.0005,  0.0013,\n",
            "          0.0004,  0.0011,  0.0017],\n",
            "        [ 0.0005,  0.0005,  0.0018,  0.0004,  0.0026,  0.0014,  0.0010,  0.0018,\n",
            "          0.0010,  0.0006,  0.0009,  0.0010,  0.0014,  0.0009,  0.0007,  0.0005,\n",
            "          0.0008,  0.0028,  0.0007, -0.0304,  0.0004,  0.0022,  0.0028,  0.0013,\n",
            "          0.0014,  0.0008,  0.0003],\n",
            "        [ 0.0018,  0.0006,  0.0002,  0.0019,  0.0008,  0.0006,  0.0033,  0.0019,\n",
            "          0.0009, -0.0303,  0.0005,  0.0028,  0.0018,  0.0002,  0.0013,  0.0022,\n",
            "          0.0007,  0.0002,  0.0003,  0.0007,  0.0003,  0.0008,  0.0011,  0.0016,\n",
            "          0.0009,  0.0021,  0.0004],\n",
            "        [ 0.0019,  0.0007,  0.0004,  0.0013,  0.0005,  0.0003,  0.0049,  0.0019,\n",
            "          0.0020,  0.0012,  0.0003,  0.0013, -0.0302,  0.0005,  0.0008,  0.0008,\n",
            "          0.0005,  0.0001,  0.0018,  0.0008,  0.0014,  0.0006,  0.0007,  0.0015,\n",
            "          0.0013,  0.0015,  0.0012],\n",
            "        [ 0.0005,  0.0028,  0.0007,  0.0010,  0.0002,  0.0011,  0.0023,  0.0010,\n",
            "          0.0010, -0.0296,  0.0006,  0.0009,  0.0001,  0.0010,  0.0005,  0.0014,\n",
            "          0.0007,  0.0006,  0.0021,  0.0009,  0.0023,  0.0019,  0.0014,  0.0029,\n",
            "          0.0006,  0.0004,  0.0008],\n",
            "        [ 0.0027, -0.0309,  0.0009,  0.0006,  0.0012,  0.0002,  0.0011,  0.0024,\n",
            "          0.0011,  0.0008,  0.0003,  0.0013,  0.0023,  0.0003,  0.0008,  0.0019,\n",
            "          0.0011,  0.0001,  0.0004,  0.0008,  0.0018,  0.0004,  0.0018,  0.0022,\n",
            "          0.0014,  0.0016,  0.0013],\n",
            "        [ 0.0007,  0.0019,  0.0013,  0.0010,  0.0021,  0.0025,  0.0011,  0.0006,\n",
            "          0.0014,  0.0009,  0.0011,  0.0008,  0.0009,  0.0019,  0.0009,  0.0004,\n",
            "          0.0012,  0.0019,  0.0015,  0.0012,  0.0005,  0.0022,  0.0009,  0.0005,\n",
            "          0.0008, -0.0306,  0.0006],\n",
            "        [-0.0285,  0.0006,  0.0003,  0.0009,  0.0002,  0.0005,  0.0009,  0.0014,\n",
            "          0.0025,  0.0010,  0.0006,  0.0013,  0.0008,  0.0010,  0.0008,  0.0040,\n",
            "          0.0006,  0.0006,  0.0006,  0.0011,  0.0016,  0.0008,  0.0016,  0.0012,\n",
            "          0.0011,  0.0015,  0.0012],\n",
            "        [ 0.0006,  0.0015,  0.0003,  0.0010,  0.0008,  0.0027,  0.0013,  0.0007,\n",
            "          0.0016,  0.0007,  0.0014,  0.0017,  0.0021,  0.0009, -0.0290,  0.0008,\n",
            "          0.0005,  0.0020,  0.0010,  0.0010,  0.0012,  0.0009,  0.0003,  0.0003,\n",
            "          0.0006,  0.0016,  0.0015],\n",
            "        [ 0.0011,  0.0006,  0.0018,  0.0013,  0.0014,  0.0008,  0.0004,  0.0013,\n",
            "          0.0011,  0.0007,  0.0006,  0.0005,  0.0003,  0.0016, -0.0299,  0.0009,\n",
            "          0.0006,  0.0005,  0.0035,  0.0008,  0.0028,  0.0014,  0.0019,  0.0013,\n",
            "          0.0018,  0.0004,  0.0005],\n",
            "        [ 0.0005, -0.0307,  0.0018,  0.0004,  0.0026,  0.0014,  0.0010,  0.0018,\n",
            "          0.0010,  0.0006,  0.0009,  0.0010,  0.0014,  0.0009,  0.0007,  0.0005,\n",
            "          0.0008,  0.0028,  0.0007,  0.0009,  0.0004,  0.0022,  0.0028,  0.0013,\n",
            "          0.0014,  0.0008,  0.0003],\n",
            "        [ 0.0014,  0.0004,  0.0004,  0.0005,  0.0004,  0.0007,  0.0004,  0.0021,\n",
            "          0.0020, -0.0308,  0.0016,  0.0022,  0.0030,  0.0008,  0.0008,  0.0036,\n",
            "          0.0003,  0.0021,  0.0004,  0.0009,  0.0013,  0.0006,  0.0005,  0.0013,\n",
            "          0.0004,  0.0011,  0.0017],\n",
            "        [ 0.0007,  0.0021,  0.0010,  0.0008,  0.0005,  0.0017,  0.0013,  0.0003,\n",
            "          0.0015,  0.0013,  0.0009,  0.0006, -0.0303,  0.0023,  0.0006,  0.0005,\n",
            "          0.0023,  0.0017,  0.0008,  0.0020,  0.0006,  0.0019,  0.0012,  0.0008,\n",
            "          0.0009,  0.0007,  0.0013],\n",
            "        [ 0.0016,  0.0061,  0.0001,  0.0012,  0.0005,  0.0026,  0.0014,  0.0004,\n",
            "          0.0007, -0.0296,  0.0011,  0.0009,  0.0008,  0.0008,  0.0012,  0.0012,\n",
            "          0.0004,  0.0010,  0.0018,  0.0005,  0.0014,  0.0008,  0.0005,  0.0007,\n",
            "          0.0004,  0.0007,  0.0008],\n",
            "        [ 0.0007,  0.0005,  0.0013,  0.0010,  0.0004,  0.0007,  0.0005,  0.0008,\n",
            "          0.0019,  0.0018,  0.0009,  0.0007,  0.0005,  0.0016,  0.0004,  0.0026,\n",
            "          0.0023,  0.0007,  0.0005,  0.0024,  0.0006,  0.0018,  0.0020,  0.0012,\n",
            "          0.0015,  0.0011, -0.0305]])\n",
            "logprobs        | exact: True  | approximate: True  | maxdiff: 0.0\n",
            "probs           | exact: True  | approximate: True  | maxdiff: 0.0\n",
            "counts_sum_inv  | exact: True  | approximate: True  | maxdiff: 0.0\n",
            "counts_sum      | exact: True  | approximate: True  | maxdiff: 0.0\n",
            "counts          | exact: True  | approximate: True  | maxdiff: 0.0\n",
            "norm_logits     | exact: True  | approximate: True  | maxdiff: 0.0\n",
            "logit_maxes     | exact: True  | approximate: True  | maxdiff: 0.0\n",
            "logits          | exact: True  | approximate: True  | maxdiff: 0.0\n",
            "h               | exact: True  | approximate: True  | maxdiff: 0.0\n",
            "W2              | exact: True  | approximate: True  | maxdiff: 0.0\n",
            "b2              | exact: True  | approximate: True  | maxdiff: 0.0\n",
            "hpreact         | exact: True  | approximate: True  | maxdiff: 0.0\n",
            "bngain          | exact: True  | approximate: True  | maxdiff: 0.0\n",
            "bnbias          | exact: True  | approximate: True  | maxdiff: 0.0\n",
            "bnraw           | exact: True  | approximate: True  | maxdiff: 0.0\n",
            "bnvar_inv       | exact: True  | approximate: True  | maxdiff: 0.0\n",
            "bnvar           | exact: True  | approximate: True  | maxdiff: 0.0\n",
            "bndiff2         | exact: True  | approximate: True  | maxdiff: 0.0\n",
            "bndiff          | exact: True  | approximate: True  | maxdiff: 0.0\n",
            "bnmeani         | exact: True  | approximate: True  | maxdiff: 0.0\n",
            "hprebn          | exact: True  | approximate: True  | maxdiff: 0.0\n",
            "emb             | exact: True  | approximate: True  | maxdiff: 0.0\n",
            "W1              | exact: True  | approximate: True  | maxdiff: 0.0\n",
            "b1              | exact: True  | approximate: True  | maxdiff: 0.0\n",
            "C               | exact: True  | approximate: True  | maxdiff: 0.0\n"
          ]
        }
      ],
      "source": [
        "dlogprobs = torch.zeros((batch_size, vocab_size))\n",
        "\n",
        "for i, log in enumerate(logprobs):\n",
        "    dlogprobs[i][Yb[i]] = -1 * 1/batch_size\n",
        "\n",
        "dprobs = 1/probs * dlogprobs\n",
        "\n",
        "dcounts_sum_inv = (dprobs * counts)[range(batch_size), Yb].unsqueeze(1)\n",
        "\n",
        "dcounts_sum = (-1/counts_sum**2)*dcounts_sum_inv\n",
        "\n",
        "dcounts = dprobs * counts_sum_inv + dcounts_sum\n",
        "\n",
        "dnorm_logits = norm_logits.exp() * dcounts\n",
        "\n",
        "dlogit_maxes = -torch.zeros((32, 1)) \n",
        "# or being exact due to floating point inaccuracies\n",
        "dlogit_maxes = -1*dnorm_logits.sum(1, keepdim=True)\n",
        "\n",
        "tmp = torch.zeros_like(logits)\n",
        "max_indices = torch.max(logits, 1).indices\n",
        "for i in range(d.shape[0]):\n",
        "    tmp[i, max_indices[i]] = 1\n",
        "\n",
        "dlogits = dnorm_logits.clone() + tmp * dlogit_maxes\n",
        "\n",
        "print(logits.grad)\n",
        "\n",
        "dh = dlogits @ W2.T\n",
        "\n",
        "dW2 = h.T @ dlogits\n",
        "\n",
        "db2 = dlogits.sum(0)\n",
        "\n",
        "dhpreact = dh * (1 - torch.tanh(hpreact)**2)\n",
        "\n",
        "dbngain = (bnraw * dhpreact).sum(dim=0, keepdim=True)\n",
        "\n",
        "dbnbias = dhpreact.sum(dim=0, keepdim=True)\n",
        "\n",
        "dbnraw = (bngain * dhpreact)\n",
        "\n",
        "dbnvar_inv = (bndiff * dbnraw).sum(dim=0, keepdim=True)\n",
        "\n",
        "dbnvar = -0.5 * (bnvar + 1e-5)**(-1.5) * dbnvar_inv\n",
        "\n",
        "dbndiff2 = 1/(batch_size-1) * dbnvar\n",
        "\n",
        "dbndiff = 2 * bndiff * dbndiff2 + bnvar_inv * dbnraw\n",
        "\n",
        "dbnmeani = ((-1) * dbndiff).sum(dim=0, keepdim=True)\n",
        "\n",
        "dhprebn = dbndiff + (1/batch_size) * dbnmeani\n",
        "\n",
        "demb = dhprebn @ W1.T\n",
        "\n",
        "dW1 = emb.T @ dhprebn\n",
        "\n",
        "db1 = dhprebn.sum(dim=0, keepdim=True)\n",
        "\n",
        "dC = torch.zeros_like(C)\n",
        "\n",
        "demb_reshaped = demb.view(Xb.shape[0], Xb.shape[1], -1)\n",
        "\n",
        "for i in range(Xb.shape[0]):\n",
        "    for j in range(Xb.shape[1]):\n",
        "        dC[Xb[i, j]] += demb_reshaped[i, j]\n",
        "\n",
        "cmp('logprobs', dlogprobs, logprobs)\n",
        "\n",
        "cmp('probs', dprobs, probs)\n",
        "\n",
        "cmp('counts_sum_inv', dcounts_sum_inv, counts_sum_inv)\n",
        "\n",
        "cmp('counts_sum', dcounts_sum, counts_sum)\n",
        "\n",
        "cmp('counts', dcounts, counts)\n",
        "\n",
        "cmp('norm_logits', dnorm_logits, norm_logits)\n",
        "\n",
        "cmp('logit_maxes', dlogit_maxes, logit_maxes)\n",
        "\n",
        "cmp('logits', dlogits, logits)\n",
        "\n",
        "cmp('h', dh, h)\n",
        "\n",
        "cmp('W2', dW2, W2)\n",
        "\n",
        "cmp('b2', db2, b2)\n",
        "\n",
        "cmp('hpreact', dhpreact, hpreact)\n",
        "\n",
        "cmp('bngain', dbngain, bngain)\n",
        "\n",
        "cmp('bnbias', dbnbias, bnbias)\n",
        "\n",
        "cmp('bnraw', dbnraw, bnraw)\n",
        "\n",
        "cmp('bnvar_inv', dbnvar_inv, bnvar_inv)\n",
        "\n",
        "cmp('bnvar', dbnvar, bnvar)\n",
        "\n",
        "cmp('bndiff2', dbndiff2, bndiff2)\n",
        "\n",
        "cmp('bndiff', dbndiff, bndiff)\n",
        "\n",
        "cmp('bnmeani', dbnmeani, bnmeani)\n",
        "\n",
        "cmp('hprebn', dhprebn, hprebn)\n",
        "\n",
        "cmp('emb', demb, emb)\n",
        "\n",
        "cmp('W1', dW1, W1)\n",
        "\n",
        "cmp('b1', db1, b1)\n",
        "\n",
        "cmp('C', dC, C)"
      ]
    },
    {
      "cell_type": "code",
      "execution_count": 53,
      "metadata": {
        "id": "ebLtYji_8PPw"
      },
      "outputs": [
        {
          "name": "stdout",
          "output_type": "stream",
          "text": [
            "3.5353610515594482 diff: 0.0\n"
          ]
        }
      ],
      "source": [
        "# backprop through cross_entropy but all in one go\n",
        "# to complete this challenge look at the mathematical expression of the loss,\n",
        "# take the derivative, simplify the expression, and just write it out\n",
        "\n",
        "# forward pass\n",
        "\n",
        "# before:\n",
        "# logit_maxes = logits.max(1, keepdim=True).values\n",
        "# norm_logits = logits - logit_maxes # subtract max for numerical stability\n",
        "# counts = norm_logits.exp()\n",
        "# counts_sum = counts.sum(1, keepdims=True)\n",
        "# counts_sum_inv = counts_sum**-1 # if I use (1.0 / counts_sum) instead then I can't get backprop to be bit exact...\n",
        "# probs = counts * counts_sum_inv\n",
        "# logprobs = probs.log()\n",
        "# loss = -logprobs[range(n), Yb].mean()\n",
        "\n",
        "# now:\n",
        "loss_fast = F.cross_entropy(logits, Yb)\n",
        "print(loss_fast.item(), 'diff:', (loss_fast - loss).item())"
      ]
    },
    {
      "cell_type": "code",
      "execution_count": 54,
      "metadata": {
        "id": "-gCXbB4C8PPx"
      },
      "outputs": [
        {
          "name": "stdout",
          "output_type": "stream",
          "text": [
            "logits          | exact: False | approximate: True  | maxdiff: 5.820766091346741e-09\n"
          ]
        }
      ],
      "source": [
        "# backward pass\n",
        "\n",
        "dlogits = F.softmax(logits,1)\n",
        "dlogits[range(batch_size), Yb] -= 1\n",
        "dlogits /= batch_size\n",
        "\n",
        "cmp('logits', dlogits, logits) # I can only get approximate to be true, my maxdiff is 6e-9"
      ]
    },
    {
      "cell_type": "code",
      "execution_count": 55,
      "metadata": {
        "id": "hd-MkhB68PPy"
      },
      "outputs": [
        {
          "name": "stdout",
          "output_type": "stream",
          "text": [
            "max diff: tensor(7.1526e-07, grad_fn=<MaxBackward1>)\n"
          ]
        }
      ],
      "source": [
        "# backprop through batchnorm but all in one go\n",
        "# to complete this challenge look at the mathematical expression of the output of batchnorm,\n",
        "# take the derivative w.r.t. its input, simplify the expression, and just write it out\n",
        "# BatchNorm paper: https://arxiv.org/abs/1502.03167\n",
        "\n",
        "# forward pass\n",
        "\n",
        "# before:\n",
        "# bnmeani = 1/n*hprebn.sum(0, keepdim=True)\n",
        "# bndiff = hprebn - bnmeani\n",
        "# bndiff2 = bndiff**2\n",
        "# bnvar = 1/(n-1)*(bndiff2).sum(0, keepdim=True) # note: Bessel's correction (dividing by n-1, not n)\n",
        "# bnvar_inv = (bnvar + 1e-5)**-0.5\n",
        "# bnraw = bndiff * bnvar_inv\n",
        "# hpreact = bngain * bnraw + bnbias\n",
        "\n",
        "# now:\n",
        "hpreact_fast = bngain * (hprebn - hprebn.mean(0, keepdim=True)) / torch.sqrt(hprebn.var(0, keepdim=True, unbiased=True) + 1e-5) + bnbias\n",
        "print('max diff:', (hpreact_fast - hpreact).abs().max())"
      ]
    },
    {
      "cell_type": "code",
      "execution_count": 56,
      "metadata": {
        "id": "POdeZSKT8PPy"
      },
      "outputs": [
        {
          "name": "stdout",
          "output_type": "stream",
          "text": [
            "hprebn          | exact: False | approximate: True  | maxdiff: 9.313225746154785e-10\n"
          ]
        }
      ],
      "source": [
        "# backward pass\n",
        "\n",
        "# before we had:\n",
        "# dbnraw = bngain * dhpreact\n",
        "# dbndiff = bnvar_inv * dbnraw\n",
        "# dbnvar_inv = (bndiff * dbnraw).sum(0, keepdim=True)\n",
        "# dbnvar = (-0.5*(bnvar + 1e-5)**-1.5) * dbnvar_inv\n",
        "# dbndiff2 = (1.0/(n-1))*torch.ones_like(bndiff2) * dbnvar\n",
        "# dbndiff += (2*bndiff) * dbndiff2\n",
        "# dhprebn = dbndiff.clone()\n",
        "# dbnmeani = (-dbndiff).sum(0)\n",
        "# dhprebn += 1.0/n * (torch.ones_like(hprebn) * dbnmeani)\n",
        "\n",
        "# calculate dhprebn given dhpreact (i.e. backprop through the batchnorm)\n",
        "# (you'll also need to use some of the variables from the forward pass up above)\n",
        "\n",
        "dhprebn = bngain*bnvar_inv/batch_size * (batch_size*dhpreact - dhpreact.sum(0) - batch_size/(batch_size-1) * bnraw*(dhpreact*bnraw).sum(0))\n",
        "\n",
        "cmp('hprebn', dhprebn, hprebn) # I can only get approximate to be true, my maxdiff is 9e-10"
      ]
    },
    {
      "cell_type": "code",
      "execution_count": 24,
      "metadata": {
        "id": "wPy8DhqB8PPz"
      },
      "outputs": [
        {
          "name": "stdout",
          "output_type": "stream",
          "text": [
            "12297\n",
            "      0/ 200000: 3.7784\n"
          ]
        }
      ],
      "source": []
    },
    {
      "cell_type": "code",
      "execution_count": 3,
      "metadata": {},
      "outputs": [],
      "source": [
        "import torch\n",
        "import torch.nn.functional as F"
      ]
    },
    {
      "cell_type": "code",
      "execution_count": 47,
      "metadata": {},
      "outputs": [
        {
          "name": "stdout",
          "output_type": "stream",
          "text": [
            "12297\n",
            "      0/ 200000: 3.7461\n"
          ]
        },
        {
          "ename": "KeyboardInterrupt",
          "evalue": "",
          "output_type": "error",
          "traceback": [
            "\u001b[0;31m---------------------------------------------------------------------------\u001b[0m",
            "\u001b[0;31mKeyboardInterrupt\u001b[0m                         Traceback (most recent call last)",
            "Cell \u001b[0;32mIn[47], line 89\u001b[0m\n\u001b[1;32m     87\u001b[0m   \u001b[38;5;28;01mfor\u001b[39;00m j \u001b[38;5;129;01min\u001b[39;00m \u001b[38;5;28mrange\u001b[39m(Xb\u001b[38;5;241m.\u001b[39mshape[\u001b[38;5;241m1\u001b[39m]):\n\u001b[1;32m     88\u001b[0m     ix \u001b[38;5;241m=\u001b[39m Xb[k,j]\n\u001b[0;32m---> 89\u001b[0m     dC[ix] \u001b[38;5;241m+\u001b[39m\u001b[38;5;241m=\u001b[39m demb[k,j]\n\u001b[1;32m     90\u001b[0m grads \u001b[38;5;241m=\u001b[39m [dC, dW1, db1, dW2, db2, dbngain, dbnbias]\n\u001b[1;32m     91\u001b[0m \u001b[38;5;66;03m# -----------------\u001b[39;00m\n\u001b[1;32m     92\u001b[0m \n\u001b[1;32m     93\u001b[0m \u001b[38;5;66;03m# update\u001b[39;00m\n",
            "\u001b[0;31mKeyboardInterrupt\u001b[0m: "
          ]
        }
      ],
      "source": [
        "# Exercise 4: putting it all together!\n",
        "# Train the MLP neural net with your own backward pass\n",
        "\n",
        "# init\n",
        "n_embd = 10 # the dimensionality of the character embedding vectors\n",
        "n_hidden = 200 # the number of neurons in the hidden layer of the MLP\n",
        "\n",
        "g = torch.Generator().manual_seed(2147483647) # for reproducibility\n",
        "C  = torch.randn((vocab_size, n_embd),            generator=g)\n",
        "# Layer 1\n",
        "W1 = torch.randn((n_embd * block_size, n_hidden), generator=g) * (5/3)/((n_embd * block_size)**0.5)\n",
        "b1 = torch.randn(n_hidden,                        generator=g) * 0.1\n",
        "# Layer 2\n",
        "W2 = torch.randn((n_hidden, vocab_size),          generator=g) * 0.1\n",
        "b2 = torch.randn(vocab_size,                      generator=g) * 0.1\n",
        "# BatchNorm parameters\n",
        "bngain = torch.randn((1, n_hidden))*0.1 + 1.0\n",
        "bnbias = torch.randn((1, n_hidden))*0.1\n",
        "\n",
        "parameters = [C, W1, b1, W2, b2, bngain, bnbias]\n",
        "print(sum(p.nelement() for p in parameters)) # number of parameters in total\n",
        "for p in parameters:\n",
        "  p.requires_grad = True\n",
        "\n",
        "# same optimization as last time\n",
        "max_steps = 200000\n",
        "batch_size = 32\n",
        "n = batch_size # convenience\n",
        "lossi = []\n",
        "\n",
        "# use this context manager for efficiency once your backward pass is written (TODO)\n",
        "with torch.no_grad():\n",
        "\n",
        "  # kick off optimization\n",
        "  for i in range(max_steps):\n",
        "\n",
        "    # minibatch construct\n",
        "    ix = torch.randint(0, Xtr.shape[0], (batch_size,), generator=g)\n",
        "    Xb, Yb = Xtr[ix], Ytr[ix] # batch X,Y\n",
        "\n",
        "    # forward pass\n",
        "    emb = C[Xb] # embed the characters into vectors\n",
        "    embcat = emb.view(emb.shape[0], -1) # concatenate the vectors\n",
        "    # Linear layer\n",
        "    hprebn = embcat @ W1 + b1 # hidden layer pre-activation\n",
        "    # BatchNorm layer\n",
        "    # -------------------------------------------------------------\n",
        "    bnmean = hprebn.mean(0, keepdim=True)\n",
        "    bnvar = hprebn.var(0, keepdim=True, unbiased=True)\n",
        "    bnvar_inv = (bnvar + 1e-5)**-0.5\n",
        "    bnraw = (hprebn - bnmean) * bnvar_inv\n",
        "    hpreact = bngain * bnraw + bnbias\n",
        "    # -------------------------------------------------------------\n",
        "    # Non-linearity\n",
        "    h = torch.tanh(hpreact) # hidden layer\n",
        "    logits = h @ W2 + b2 # output layer\n",
        "    loss = F.cross_entropy(logits, Yb) # loss function\n",
        "\n",
        "    # backward pass\n",
        "    for p in parameters:\n",
        "      p.grad = None\n",
        "    #loss.backward() # use this for correctness comparisons, delete it later!\n",
        "\n",
        "    # manual backprop! #swole_doge_meme\n",
        "    # -----------------\n",
        "    dlogits = F.softmax(logits, 1)\n",
        "    dlogits[range(n), Yb] -= 1\n",
        "    dlogits /= n\n",
        "    # 2nd layer backprop\n",
        "    dh = dlogits @ W2.T\n",
        "    dW2 = h.T @ dlogits\n",
        "    db2 = dlogits.sum(0)\n",
        "    # tanh\n",
        "    dhpreact = (1.0 - h**2) * dh\n",
        "    # batchnorm backprop\n",
        "    dbngain = (bnraw * dhpreact).sum(0, keepdim=True)\n",
        "    dbnbias = dhpreact.sum(0, keepdim=True)\n",
        "    dhprebn = bngain*bnvar_inv/n * (n*dhpreact - dhpreact.sum(0) - n/(n-1)*bnraw*(dhpreact*bnraw).sum(0))\n",
        "    # 1st layer\n",
        "    dembcat = dhprebn @ W1.T\n",
        "    dW1 = embcat.T @ dhprebn\n",
        "    db1 = dhprebn.sum(0)\n",
        "    # embedding\n",
        "    demb = dembcat.view(emb.shape)\n",
        "    dC = torch.zeros_like(C)\n",
        "    for k in range(Xb.shape[0]):\n",
        "      for j in range(Xb.shape[1]):\n",
        "        ix = Xb[k,j]\n",
        "        dC[ix] += demb[k,j]\n",
        "    grads = [dC, dW1, db1, dW2, db2, dbngain, dbnbias]\n",
        "    # -----------------\n",
        "\n",
        "    # update\n",
        "    lr = 0.1 if i < 100000 else 0.01 # step learning rate decay\n",
        "    for p, grad in zip(parameters, grads):\n",
        "      #p.data += -lr * p.grad # old way of cheems doge (using PyTorch grad from .backward())\n",
        "      p.data += -lr * grad # new way of swole doge TODO: enable\n",
        "\n",
        "    # track stats\n",
        "    if i % 10000 == 0: # print every once in a while\n",
        "      print(f'{i:7d}/{max_steps:7d}: {loss.item():.4f}')\n",
        "    lossi.append(loss.log10().item())\n",
        "\n",
        "  #   if i >= 100: # TODO: delete early breaking when you're ready to train the full net\n",
        "  #     break"
      ]
    },
    {
      "cell_type": "code",
      "execution_count": 42,
      "metadata": {
        "id": "ZEpI0hMW8PPz"
      },
      "outputs": [
        {
          "ename": "TypeError",
          "evalue": "all(): argument 'input' (position 1) must be Tensor, not bool",
          "output_type": "error",
          "traceback": [
            "\u001b[0;31m---------------------------------------------------------------------------\u001b[0m",
            "\u001b[0;31mTypeError\u001b[0m                                 Traceback (most recent call last)",
            "Cell \u001b[0;32mIn[42], line 3\u001b[0m\n\u001b[1;32m      1\u001b[0m \u001b[38;5;66;03m# useful for checking your gradients\u001b[39;00m\n\u001b[1;32m      2\u001b[0m \u001b[38;5;28;01mfor\u001b[39;00m p,g \u001b[38;5;129;01min\u001b[39;00m \u001b[38;5;28mzip\u001b[39m(parameters, grads):\n\u001b[0;32m----> 3\u001b[0m   \u001b[43mcmp\u001b[49m\u001b[43m(\u001b[49m\u001b[38;5;28;43mstr\u001b[39;49m\u001b[43m(\u001b[49m\u001b[38;5;28;43mtuple\u001b[39;49m\u001b[43m(\u001b[49m\u001b[43mp\u001b[49m\u001b[38;5;241;43m.\u001b[39;49m\u001b[43mshape\u001b[49m\u001b[43m)\u001b[49m\u001b[43m)\u001b[49m\u001b[43m,\u001b[49m\u001b[43m \u001b[49m\u001b[43mg\u001b[49m\u001b[43m,\u001b[49m\u001b[43m \u001b[49m\u001b[43mp\u001b[49m\u001b[43m)\u001b[49m\n",
            "Cell \u001b[0;32mIn[9], line 2\u001b[0m, in \u001b[0;36mcmp\u001b[0;34m(s, dt, t)\u001b[0m\n\u001b[1;32m      1\u001b[0m \u001b[38;5;28;01mdef\u001b[39;00m \u001b[38;5;21mcmp\u001b[39m(s, dt, t):\n\u001b[0;32m----> 2\u001b[0m   ex \u001b[38;5;241m=\u001b[39m \u001b[43mtorch\u001b[49m\u001b[38;5;241;43m.\u001b[39;49m\u001b[43mall\u001b[49m\u001b[43m(\u001b[49m\u001b[43mdt\u001b[49m\u001b[43m \u001b[49m\u001b[38;5;241;43m==\u001b[39;49m\u001b[43m \u001b[49m\u001b[43mt\u001b[49m\u001b[38;5;241;43m.\u001b[39;49m\u001b[43mgrad\u001b[49m\u001b[43m)\u001b[49m\u001b[38;5;241m.\u001b[39mitem()\n\u001b[1;32m      3\u001b[0m   app \u001b[38;5;241m=\u001b[39m torch\u001b[38;5;241m.\u001b[39mallclose(dt, t\u001b[38;5;241m.\u001b[39mgrad)\n\u001b[1;32m      4\u001b[0m   maxdiff \u001b[38;5;241m=\u001b[39m (dt \u001b[38;5;241m-\u001b[39m t\u001b[38;5;241m.\u001b[39mgrad)\u001b[38;5;241m.\u001b[39mabs()\u001b[38;5;241m.\u001b[39mmax()\u001b[38;5;241m.\u001b[39mitem()\n",
            "\u001b[0;31mTypeError\u001b[0m: all(): argument 'input' (position 1) must be Tensor, not bool"
          ]
        }
      ],
      "source": [
        "# useful for checking your gradients\n",
        "for p,g in zip(parameters, grads):\n",
        "  cmp(str(tuple(p.shape)), g, p)"
      ]
    },
    {
      "cell_type": "code",
      "execution_count": 48,
      "metadata": {
        "id": "KImLWNoh8PP0"
      },
      "outputs": [],
      "source": [
        "# calibrate the batch norm at the end of training\n",
        "\n",
        "with torch.no_grad():\n",
        "  # pass the training set through\n",
        "  emb = C[Xtr]\n",
        "  embcat = emb.view(emb.shape[0], -1)\n",
        "  hpreact = embcat @ W1 + b1\n",
        "  # measure the mean/std over the entire training set\n",
        "  bnmean = hpreact.mean(0, keepdim=True)\n",
        "  bnvar = hpreact.var(0, keepdim=True, unbiased=True)\n"
      ]
    },
    {
      "cell_type": "code",
      "execution_count": 49,
      "metadata": {
        "id": "6aFnP_Zc8PP0"
      },
      "outputs": [
        {
          "name": "stdout",
          "output_type": "stream",
          "text": [
            "train 2.392399311065674\n",
            "val 2.3902080059051514\n"
          ]
        }
      ],
      "source": [
        "# evaluate train and val loss\n",
        "\n",
        "@torch.no_grad() # this decorator disables gradient tracking\n",
        "def split_loss(split):\n",
        "  x,y = {\n",
        "    'train': (Xtr, Ytr),\n",
        "    'val': (Xdev, Ydev),\n",
        "    'test': (Xte, Yte),\n",
        "  }[split]\n",
        "  emb = C[x] # (N, block_size, n_embd)\n",
        "  embcat = emb.view(emb.shape[0], -1) # concat into (N, block_size * n_embd)\n",
        "  hpreact = embcat @ W1 + b1\n",
        "  hpreact = bngain * (hpreact - bnmean) * (bnvar + 1e-5)**-0.5 + bnbias\n",
        "  h = torch.tanh(hpreact) # (N, n_hidden)\n",
        "  logits = h @ W2 + b2 # (N, vocab_size)\n",
        "  loss = F.cross_entropy(logits, y)\n",
        "  print(split, loss.item())\n",
        "\n",
        "split_loss('train')\n",
        "split_loss('val')"
      ]
    },
    {
      "cell_type": "code",
      "execution_count": null,
      "metadata": {
        "id": "esWqmhyj8PP1"
      },
      "outputs": [],
      "source": [
        "# I achieved:\n",
        "# train 2.0718822479248047\n",
        "# val 2.1162495613098145"
      ]
    },
    {
      "cell_type": "code",
      "execution_count": 46,
      "metadata": {
        "id": "xHeQNv3s8PP1"
      },
      "outputs": [
        {
          "name": "stdout",
          "output_type": "stream",
          "text": [
            "carlah.\n",
            "ami.\n",
            "heri.\n",
            "kemrix.\n",
            "tety.\n",
            "sacaysa.\n",
            "jazhntefameryac.\n",
            "kaqeig.\n",
            "elyniah.\n",
            "maiiv.\n",
            "kaleig.\n",
            "dham.\n",
            "join.\n",
            "qeinn.\n",
            "sulin.\n",
            "alian.\n",
            "qioraelo.\n",
            "dearyni.\n",
            "jace.\n",
            "pirray.\n"
          ]
        }
      ],
      "source": [
        "# sample from the model\n",
        "g = torch.Generator().manual_seed(2147483647 + 10)\n",
        "\n",
        "for _ in range(20):\n",
        "\n",
        "    out = []\n",
        "    context = [0] * block_size # initialize with all ...\n",
        "    while True:\n",
        "      # forward pass\n",
        "      emb = C[torch.tensor([context])] # (1,block_size,d)\n",
        "      embcat = emb.view(emb.shape[0], -1) # concat into (N, block_size * n_embd)\n",
        "      hpreact = embcat @ W1 + b1\n",
        "      hpreact = bngain * (hpreact - bnmean) * (bnvar + 1e-5)**-0.5 + bnbias\n",
        "      h = torch.tanh(hpreact) # (N, n_hidden)\n",
        "      logits = h @ W2 + b2 # (N, vocab_size)\n",
        "      # sample\n",
        "      probs = F.softmax(logits, dim=1)\n",
        "      ix = torch.multinomial(probs, num_samples=1, generator=g).item()\n",
        "      context = context[1:] + [ix]\n",
        "      out.append(ix)\n",
        "      if ix == 0:\n",
        "        break\n",
        "\n",
        "    print(''.join(itos[i] for i in out))"
      ]
    }
  ],
  "metadata": {
    "colab": {
      "provenance": []
    },
    "kernelspec": {
      "display_name": "Python 3",
      "language": "python",
      "name": "python3"
    },
    "language_info": {
      "codemirror_mode": {
        "name": "ipython",
        "version": 3
      },
      "file_extension": ".py",
      "mimetype": "text/x-python",
      "name": "python",
      "nbconvert_exporter": "python",
      "pygments_lexer": "ipython3",
      "version": "3.9.6"
    }
  },
  "nbformat": 4,
  "nbformat_minor": 0
}
