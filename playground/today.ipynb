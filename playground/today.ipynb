{
 "cells": [
  {
   "cell_type": "code",
   "execution_count": 1,
   "metadata": {},
   "outputs": [],
   "source": [
    "import torch\n",
    "import torch.nn as nn\n",
    "import torch.nn.functional as F\n",
    "from tqdm import trange"
   ]
  },
  {
   "cell_type": "code",
   "execution_count": 2,
   "metadata": {},
   "outputs": [],
   "source": [
    "words = open('../words.txt', 'r').read().splitlines()\n",
    "\n",
    "chars = sorted(set('.'.join(words)))\n",
    "\n",
    "itos = {i: c for i, c in enumerate(chars)}\n",
    "stoi = {c: i for i, c in enumerate(chars)}\n"
   ]
  },
  {
   "cell_type": "code",
   "execution_count": 24,
   "metadata": {},
   "outputs": [],
   "source": [
    "context_len = 8\n",
    "w_size = 200\n",
    "feature_count = 25"
   ]
  },
  {
   "cell_type": "code",
   "execution_count": 25,
   "metadata": {},
   "outputs": [],
   "source": [
    "def build_dataset(words):\n",
    "    X, Y = [], []\n",
    "    for word in words:\n",
    "        context = [0] * context_len\n",
    "        word += '.'\n",
    "        for ch in word:\n",
    "            X.append(context)\n",
    "            Y.append(stoi[ch])\n",
    "            context = context[1:] + [stoi[ch]]\n",
    "\n",
    "    X = torch.tensor(X)\n",
    "    Y = torch.tensor(Y)\n",
    "    return X, Y"
   ]
  },
  {
   "cell_type": "code",
   "execution_count": 26,
   "metadata": {},
   "outputs": [],
   "source": [
    "n = int(len(words) * 0.8)\n",
    "\n",
    "X_train, Y_train = build_dataset(words[:n])\n",
    "\n",
    "X_val, Y_val = build_dataset(words[n:])"
   ]
  },
  {
   "cell_type": "code",
   "execution_count": 27,
   "metadata": {},
   "outputs": [],
   "source": [
    "class Bob(nn.Module):\n",
    "    def __init__(self):\n",
    "        super(Bob, self).__init__()\n",
    "        self.c = nn.Embedding(27, feature_count)\n",
    "        self.l1 = nn.Linear(feature_count*context_len, w_size)\n",
    "        self.l2 = nn.Linear(w_size, 27)\n",
    "    \n",
    "    def forward(self, x):\n",
    "        x = self.c(x)\n",
    "        x = x.flatten(1)\n",
    "        x = self.l1(x)\n",
    "        x = torch.tanh(x)\n",
    "        x = self.l2(x)\n",
    "\n",
    "        return x"
   ]
  },
  {
   "cell_type": "code",
   "execution_count": 28,
   "metadata": {},
   "outputs": [],
   "source": [
    "model = Bob()"
   ]
  },
  {
   "cell_type": "code",
   "execution_count": 43,
   "metadata": {},
   "outputs": [
    {
     "name": "stderr",
     "output_type": "stream",
     "text": [
      "loss: 1.7236000299453735: 100%|██████████| 1000/1000 [00:01<00:00, 695.60it/s]"
     ]
    },
    {
     "name": "stdout",
     "output_type": "stream",
     "text": [
      "avg loss: 1.7066090106964111\n"
     ]
    },
    {
     "name": "stderr",
     "output_type": "stream",
     "text": [
      "\n"
     ]
    }
   ],
   "source": [
    "optim = torch.optim.Adam(model.parameters())\n",
    "avg_loss = 0\n",
    "trials = 1000\n",
    "for _ in (t:=trange(trials)):\n",
    "    batch = torch.randint(0, X_train.shape[0], (50,))\n",
    "    \n",
    "    logits = model(X_train[batch])\n",
    "    \n",
    "    loss = F.cross_entropy(logits, Y_train[batch])\n",
    "\n",
    "    avg_loss += loss.data\n",
    "    \n",
    "    optim.zero_grad()\n",
    "\n",
    "    loss.backward()\n",
    "\n",
    "    optim.step()\n",
    "\n",
    "    t.set_description(f'loss: {loss.data}')\n",
    "print(f'avg loss: {avg_loss/trials}')"
   ]
  },
  {
   "cell_type": "code",
   "execution_count": 45,
   "metadata": {},
   "outputs": [
    {
     "data": {
      "text/plain": [
       "tensor(3.4273, grad_fn=<NllLossBackward0>)"
      ]
     },
     "execution_count": 45,
     "metadata": {},
     "output_type": "execute_result"
    }
   ],
   "source": [
    "F.cross_entropy(model(X_val), Y_val)"
   ]
  },
  {
   "cell_type": "code",
   "execution_count": 48,
   "metadata": {},
   "outputs": [
    {
     "name": "stdout",
     "output_type": "stream",
     "text": [
      "robe.\n",
      "goarger.\n",
      "hungary.\n",
      "ramagea.\n",
      "holdership.\n",
      "dare.\n",
      "constract.\n",
      "prozot.\n",
      "downer.\n",
      "savis.\n"
     ]
    },
    {
     "name": "stderr",
     "output_type": "stream",
     "text": [
      "/var/folders/7m/w8k84tcn19d4k10r234_g4lr0000gn/T/ipykernel_54511/1705564590.py:6: UserWarning: Implicit dimension choice for softmax has been deprecated. Change the call to include dim=X as an argument.\n",
      "  prob = F.softmax(logits)\n"
     ]
    }
   ],
   "source": [
    "for _ in range(10):\n",
    "    word = ''\n",
    "    context = [0] * context_len\n",
    "    while True:\n",
    "        logits = model(torch.tensor([context]))\n",
    "        prob = F.softmax(logits)\n",
    "        ix = torch.multinomial(prob, num_samples=1)[0].item()\n",
    "\n",
    "        word += itos[ix]\n",
    "        context = context[1:] + [ix]\n",
    "        if ix == 0:\n",
    "            print(word)\n",
    "            break"
   ]
  }
 ],
 "metadata": {
  "kernelspec": {
   "display_name": "Python 3",
   "language": "python",
   "name": "python3"
  },
  "language_info": {
   "codemirror_mode": {
    "name": "ipython",
    "version": 3
   },
   "file_extension": ".py",
   "mimetype": "text/x-python",
   "name": "python",
   "nbconvert_exporter": "python",
   "pygments_lexer": "ipython3",
   "version": "3.9.6"
  }
 },
 "nbformat": 4,
 "nbformat_minor": 2
}
