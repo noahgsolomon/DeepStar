{
 "cells": [
  {
   "cell_type": "code",
   "execution_count": 2,
   "metadata": {},
   "outputs": [
    {
     "ename": "RuntimeError",
     "evalue": "out != nullptr INTERNAL ASSERT FAILED at \"/Users/runner/work/pytorch/pytorch/pytorch/torch/csrc/autograd/variable.cpp\":186, please report a bug to PyTorch. ",
     "output_type": "error",
     "traceback": [
      "\u001b[0;31m---------------------------------------------------------------------------\u001b[0m",
      "\u001b[0;31mRuntimeError\u001b[0m                              Traceback (most recent call last)",
      "Cell \u001b[0;32mIn[2], line 50\u001b[0m\n\u001b[1;32m     47\u001b[0m \u001b[38;5;28;01mfor\u001b[39;00m i, count \u001b[38;5;129;01min\u001b[39;00m \u001b[38;5;28menumerate\u001b[39m(dcounts):\n\u001b[1;32m     48\u001b[0m     dcounts[i] \u001b[38;5;241m=\u001b[39m dcounts[i]\u001b[38;5;241m/\u001b[39mdcounts[i]\u001b[38;5;241m.\u001b[39msum()\n\u001b[0;32m---> 50\u001b[0m dcounts \u001b[38;5;241m/\u001b[39m\u001b[38;5;241m=\u001b[39m \u001b[38;5;241m32\u001b[39m \u001b[38;5;66;03m# Where runtime error occurs\u001b[39;00m\n",
      "\u001b[0;31mRuntimeError\u001b[0m: out != nullptr INTERNAL ASSERT FAILED at \"/Users/runner/work/pytorch/pytorch/pytorch/torch/csrc/autograd/variable.cpp\":186, please report a bug to PyTorch. "
     ]
    }
   ],
   "source": [
    "\n",
    "import torch\n",
    "\n",
    "n_embd = 10\n",
    "n_hidden = 100\n",
    "vocab_size=27\n",
    "block_size=3\n",
    "\n",
    "# init weights\n",
    "g = torch.Generator().manual_seed(2147483647)\n",
    "C  = torch.randn((vocab_size, n_embd), generator=g)\n",
    "W1 = torch.randn((n_embd * block_size, n_hidden), generator=g)\n",
    "b1 = torch.randn(n_hidden, generator=g) * 0.1 \n",
    "\n",
    "parameters = [C, W1, b1]\n",
    "for p in parameters:\n",
    "  p.requires_grad = True\n",
    "\n",
    "# training set\n",
    "Xtr, Ytr = torch.randint(0, 27, (1000, 3)), torch.randint(0, 27, (1000,), generator=g)\n",
    "batch_size = 32\n",
    "ix = torch.randint(0, Xtr.shape[0], (batch_size,), generator=g)\n",
    "Xb, Yb = Xtr[ix], Ytr[ix]\n",
    "\n",
    "# forward pass\n",
    "emb = C[Xb].flatten(1)\n",
    "logits = emb @ W1 + b1\n",
    "logit_maxes = logits.max(dim=1, keepdim=True).values\n",
    "norm_logits = logits - logit_maxes\n",
    "counts = norm_logits.exp()\n",
    "counts_sum = counts.sum(1, keepdims=True)\n",
    "counts_sum_inv = counts_sum**-1 \n",
    "probs = counts * counts_sum_inv\n",
    "logprobs = probs.log()\n",
    "loss = -logprobs[range(batch_size), Yb].mean()\n",
    "\n",
    "for p in parameters:\n",
    "  p.grad = None\n",
    "# retaining all intermediary grads because I was planning on comparing them with the manual computation.\n",
    "for t in [logprobs, probs, counts, counts_sum, counts_sum_inv,\n",
    "          norm_logits, logit_maxes, logits,\n",
    "         emb]:\n",
    "  t.retain_grad()\n",
    "loss.backward()\n",
    "\n",
    "dcounts = counts\n",
    "for i, count in enumerate(dcounts):\n",
    "    dcounts[i] = dcounts[i]/dcounts[i].sum()\n",
    "\n",
    "dcounts /= 32 # Where runtime error occurs"
   ]
  }
 ],
 "metadata": {
  "kernelspec": {
   "display_name": "Python 3",
   "language": "python",
   "name": "python3"
  },
  "language_info": {
   "codemirror_mode": {
    "name": "ipython",
    "version": 3
   },
   "file_extension": ".py",
   "mimetype": "text/x-python",
   "name": "python",
   "nbconvert_exporter": "python",
   "pygments_lexer": "ipython3",
   "version": "3.9.6"
  }
 },
 "nbformat": 4,
 "nbformat_minor": 2
}
