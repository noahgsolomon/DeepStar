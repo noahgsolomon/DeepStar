{
 "cells": [
  {
   "cell_type": "code",
   "execution_count": 143,
   "metadata": {},
   "outputs": [],
   "source": [
    "import numpy as np\n",
    "def fetch(url):\n",
    "    import requests, gzip, os, hashlib, numpy as np\n",
    "    fp = os.path.join('tmp/' + hashlib.md5(url.encode('utf-8')).hexdigest() + '.gz')\n",
    "    if os.path.isfile(fp):\n",
    "        with open(fp, 'rb') as f:\n",
    "            dat = f.read()\n",
    "    else:\n",
    "        with open(fp, 'wb') as f:\n",
    "            dat = requests.get(url).content\n",
    "            f.write(dat)\n",
    "    return np.frombuffer(gzip.decompress(dat), dtype=np.uint8).copy()\n",
    "\n",
    "X_train = fetch(\"http://yann.lecun.com/exdb/mnist/train-images-idx3-ubyte.gz\")[16:].reshape((-1, 28, 28))\n",
    "Y_train = fetch(\"http://yann.lecun.com/exdb/mnist/train-labels-idx1-ubyte.gz\")[8:]\n",
    "X_test = fetch(\"http://yann.lecun.com/exdb/mnist/t10k-images-idx3-ubyte.gz\")[16:].reshape((-1, 28, 28))\n",
    "Y_test = fetch(\"http://yann.lecun.com/exdb/mnist/t10k-labels-idx1-ubyte.gz\")[8:]"
   ]
  },
  {
   "cell_type": "code",
   "execution_count": 144,
   "metadata": {},
   "outputs": [],
   "source": [
    "import torch.nn as nn\n",
    "import torch\n",
    "class BobNet(nn.Module):\n",
    "    def __init__(self):\n",
    "        super(BobNet, self).__init__()\n",
    "        self.l1 = nn.Linear(784, 128)\n",
    "        self.act = nn.ReLU()\n",
    "        self.l2 = nn.Linear(128, 10)\n",
    "    def forward(self, x):\n",
    "        x = self.l1(x)\n",
    "        x = self.act(x)\n",
    "        x = self.l2(x)\n",
    "        return x\n",
    "\n",
    "model = BobNet()"
   ]
  },
  {
   "cell_type": "code",
   "execution_count": 145,
   "metadata": {},
   "outputs": [],
   "source": [
    "from PIL import Image\n",
    "\n",
    "img = Image.open('./tmp/eight.png')\n",
    "\n",
    "numpydata = np.asarray(img)\n",
    "\n"
   ]
  },
  {
   "cell_type": "code",
   "execution_count": 146,
   "metadata": {},
   "outputs": [],
   "source": [
    "from tqdm import trange"
   ]
  },
  {
   "cell_type": "code",
   "execution_count": 147,
   "metadata": {},
   "outputs": [
    {
     "name": "stderr",
     "output_type": "stream",
     "text": [
      "loss 0.06: 100%|██████████| 10000/10000 [00:16<00:00, 599.87it/s]\n"
     ]
    }
   ],
   "source": [
    "batch = 128\n",
    "optim = torch.optim.Adam(model.parameters())\n",
    "for i in ( t := trange(10000)):\n",
    "    samp = torch.randint(0, X_train.shape[0], (batch,))\n",
    "\n",
    "    out = model(torch.tensor(X_train[samp]).flatten(1).float())\n",
    "\n",
    "    loss = nn.functional.cross_entropy(out, torch.tensor(Y_train[samp]))\n",
    "\n",
    "    optim.zero_grad()\n",
    "\n",
    "    loss.backward()\n",
    "\n",
    "    optim.step()\n",
    "\n",
    "    t.set_description(f'loss {loss.item():.2f}')"
   ]
  },
  {
   "cell_type": "code",
   "execution_count": 148,
   "metadata": {},
   "outputs": [
    {
     "data": {
      "text/plain": [
       "0.9643"
      ]
     },
     "execution_count": 148,
     "metadata": {},
     "output_type": "execute_result"
    }
   ],
   "source": [
    "Y_pred = torch.argmax(model(torch.tensor(X_test).flatten(1).float()), dim=1).numpy()\n",
    "\n",
    "accuracy = (Y_pred == Y_test).mean()\n",
    "accuracy"
   ]
  },
  {
   "cell_type": "code",
   "execution_count": 149,
   "metadata": {},
   "outputs": [],
   "source": [
    "import torch\n",
    "import torch.nn.functional as F"
   ]
  },
  {
   "cell_type": "code",
   "execution_count": 150,
   "metadata": {},
   "outputs": [
    {
     "name": "stderr",
     "output_type": "stream",
     "text": [
      "/var/folders/7m/w8k84tcn19d4k10r234_g4lr0000gn/T/ipykernel_81734/842421789.py:5: UserWarning: Implicit dimension choice for softmax has been deprecated. Change the call to include dim=X as an argument.\n",
      "  pred =  torch.argmax(F.softmax(model(torch.tensor(X_train[ix]).flatten(1).float()))).item()\n"
     ]
    },
    {
     "data": {
      "image/png": "[encoded data removed]",
      "text/plain": [
       "<Figure size 640x480 with 1 Axes>"
      ]
     },
     "metadata": {},
     "output_type": "display_data"
    }
   ],
   "source": [
    "import matplotlib.pyplot as plt\n",
    "\n",
    "ix = np.random.randint(0, X_train.shape[0], [1,])\n",
    "\n",
    "pred =  torch.argmax(F.softmax(model(torch.tensor(X_train[ix]).flatten(1).float()))).item()\n",
    "\n",
    "plt.imshow(X_train[ix].squeeze(), cmap='gray')\n",
    "plt.show()"
   ]
  },
  {
   "cell_type": "code",
   "execution_count": 151,
   "metadata": {},
   "outputs": [
    {
     "data": {
      "image/png": "[encoded data removed]",
      "text/plain": [
       "<Figure size 640x480 with 1 Axes>"
      ]
     },
     "metadata": {},
     "output_type": "display_data"
    }
   ],
   "source": [
    "worst_loss = (0, 0)\n",
    "for i in range(X_test.shape[0]):\n",
    "    out = (model(torch.tensor(X_test[i]).flatten().float()))\n",
    "    loss = F.cross_entropy(out, torch.tensor(Y_test[i])).item()\n",
    "    if loss > worst_loss[1]:\n",
    "        worst_loss = (i, loss)\n",
    "\n",
    "plt.imshow(X_test[188])\n",
    "plt.show()"
   ]
  },
  {
   "cell_type": "code",
   "execution_count": 168,
   "metadata": {},
   "outputs": [],
   "source": [
    "l1 = model.l1.weight.detach().numpy().transpose()\n",
    "l2 = model.l2.weight.detach().numpy().transpose()"
   ]
  },
  {
   "cell_type": "code",
   "execution_count": 169,
   "metadata": {},
   "outputs": [],
   "source": [
    "def forward(x):\n",
    "    x = x.dot(l1)\n",
    "    x = np.maximum(x, 0)\n",
    "    x = x.dot(l2)\n",
    "    return x"
   ]
  },
  {
   "cell_type": "code",
   "execution_count": 170,
   "metadata": {},
   "outputs": [],
   "source": [
    "Y_test_preds_out = forward(X_test.reshape(-1, 28*28))\n",
    "\n",
    "Y_test_preds = np.argmax(Y_test_preds_out, axis=1)"
   ]
  },
  {
   "cell_type": "code",
   "execution_count": 171,
   "metadata": {},
   "outputs": [
    {
     "name": "stderr",
     "output_type": "stream",
     "text": [
      "/var/folders/7m/w8k84tcn19d4k10r234_g4lr0000gn/T/ipykernel_81734/4049681123.py:4: RuntimeWarning: overflow encountered in exp\n",
      "  ret = -Y_test_preds_out[range(Y_test_preds_out.shape[0]), Y_test] + np.log(np.exp(Y_test_preds_out).sum(axis=1))\n"
     ]
    },
    {
     "data": {
      "text/plain": [
       "array([ 0., inf,  0., ...,  0.,  0.,  0.], dtype=float32)"
      ]
     },
     "execution_count": 171,
     "metadata": {},
     "output_type": "execute_result"
    }
   ],
   "source": [
    "# this is the logit output of the correct number for each training example, so that later we can see the best and worst of\n",
    "\n",
    "\n",
    "ret = -Y_test_preds_out[range(Y_test_preds_out.shape[0]), Y_test] + np.log(np.exp(Y_test_preds_out).sum(axis=1))\n",
    "ret"
   ]
  },
  {
   "cell_type": "code",
   "execution_count": 156,
   "metadata": {},
   "outputs": [
    {
     "name": "stderr",
     "output_type": "stream",
     "text": [
      "/var/folders/7m/w8k84tcn19d4k10r234_g4lr0000gn/T/ipykernel_81734/2050899699.py:4: RuntimeWarning: overflow encountered in exp\n",
      "  softmax_probs = np.exp(Y_test_preds_out) / np.sum(np.exp(Y_test_preds_out), axis=1, keepdims=True)\n",
      "/var/folders/7m/w8k84tcn19d4k10r234_g4lr0000gn/T/ipykernel_81734/2050899699.py:4: RuntimeWarning: invalid value encountered in divide\n",
      "  softmax_probs = np.exp(Y_test_preds_out) / np.sum(np.exp(Y_test_preds_out), axis=1, keepdims=True)\n"
     ]
    }
   ],
   "source": [
    "import numpy as np\n",
    "\n",
    "# Compute softmax probabilities\n",
    "softmax_probs = np.exp(Y_test_preds_out) / np.sum(np.exp(Y_test_preds_out), axis=1, keepdims=True)\n",
    "\n",
    "# Compute the loss using probabilities\n",
    "ret = -np.log(softmax_probs[range(Y_test_preds_out.shape[0]), Y_test])"
   ]
  },
  {
   "cell_type": "code",
   "execution_count": 157,
   "metadata": {},
   "outputs": [
    {
     "data": {
      "text/plain": [
       "<function matplotlib.pyplot.show(close=None, block=None)>"
      ]
     },
     "execution_count": 157,
     "metadata": {},
     "output_type": "execute_result"
    },
    {
     "data": {
      "image/png": "[encoded data removed]",
      "text/plain": [
       "<Figure size 640x480 with 1 Axes>"
      ]
     },
     "metadata": {},
     "output_type": "display_data"
    }
   ],
   "source": [
    "plt.imshow(X_test[9999])\n",
    "plt.show"
   ]
  }
 ],
 "metadata": {
  "kernelspec": {
   "display_name": "Python 3",
   "language": "python",
   "name": "python3"
  },
  "language_info": {
   "codemirror_mode": {
    "name": "ipython",
    "version": 3
   },
   "file_extension": ".py",
   "mimetype": "text/x-python",
   "name": "python",
   "nbconvert_exporter": "python",
   "pygments_lexer": "ipython3",
   "version": "3.9.6"
  }
 },
 "nbformat": 4,
 "nbformat_minor": 2
}
