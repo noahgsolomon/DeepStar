{
 "cells": [
  {
   "cell_type": "code",
   "execution_count": 36,
   "metadata": {},
   "outputs": [],
   "source": [
    "import torch\n",
    "import torch.nn.functional as F"
   ]
  },
  {
   "cell_type": "code",
   "execution_count": 37,
   "metadata": {},
   "outputs": [],
   "source": [
    "words = open('words.txt', 'r').read().splitlines()"
   ]
  },
  {
   "cell_type": "code",
   "execution_count": 38,
   "metadata": {},
   "outputs": [],
   "source": [
    "chars = sorted(set('.'.join(words)))\n",
    "\n",
    "stoi = {c: i for i, c in enumerate(chars)}\n",
    "itos = {i:c for i, c in enumerate(chars)}"
   ]
  },
  {
   "cell_type": "code",
   "execution_count": 39,
   "metadata": {},
   "outputs": [],
   "source": [
    "bigram = {}\n",
    "for word in words:\n",
    "    word = '.' + word + '.'\n",
    "    for ch1, ch2 in zip(word, word[1:]):\n",
    "        bigram[(ch1, ch2)] = bigram.get((ch1, ch2), 0) + 1"
   ]
  },
  {
   "cell_type": "code",
   "execution_count": 40,
   "metadata": {},
   "outputs": [],
   "source": [
    "N = torch.ones(27, 27)"
   ]
  },
  {
   "cell_type": "code",
   "execution_count": 41,
   "metadata": {},
   "outputs": [],
   "source": [
    "for (ch1, ch2), count in bigram.items():\n",
    "    N[stoi[ch1]][stoi[ch2]] = count\n",
    "N = N + 1"
   ]
  },
  {
   "cell_type": "code",
   "execution_count": 42,
   "metadata": {},
   "outputs": [],
   "source": [
    "P = N / N.sum(dim=1, keepdim=True)"
   ]
  },
  {
   "cell_type": "code",
   "execution_count": 43,
   "metadata": {},
   "outputs": [
    {
     "data": {
      "text/plain": [
       "['.everatregsit.',\n",
       " '.g.',\n",
       " '.dese.',\n",
       " '.gsclompd.',\n",
       " '.stintrr.',\n",
       " '.derser.',\n",
       " '.boncomuvelpanecanaren.',\n",
       " '.ubck.',\n",
       " '.ngvemum.',\n",
       " '.dicenumainetruls.']"
      ]
     },
     "execution_count": 43,
     "metadata": {},
     "output_type": "execute_result"
    }
   ],
   "source": [
    "res = []\n",
    "for _ in range(10):\n",
    "    word = '.'\n",
    "    while True:\n",
    "        ix = torch.multinomial(P[stoi[word[-1]]], num_samples=1)[0].item()\n",
    "        word += itos[ix]\n",
    "        if ix == 0:\n",
    "            res.append(word)\n",
    "            break\n",
    "    \n",
    "res"
   ]
  },
  {
   "cell_type": "code",
   "execution_count": 44,
   "metadata": {},
   "outputs": [
    {
     "name": "stdout",
     "output_type": "stream",
     "text": [
      "tensor(2.5044)\n"
     ]
    }
   ],
   "source": [
    "loss = 0\n",
    "count = 0\n",
    "for word in words:\n",
    "    word = '.' + word + '.'\n",
    "    for ch1, ch2 in zip(word, word[1:]):\n",
    "        ix = stoi[ch1]\n",
    "        ix2 = stoi[ch2]\n",
    "        prob = P[ix][ix2]\n",
    "        loss += -torch.log(P[ix][ix2])\n",
    "        count += 1\n",
    "\n",
    "loss /= count\n",
    "print(loss)"
   ]
  },
  {
   "cell_type": "code",
   "execution_count": 45,
   "metadata": {},
   "outputs": [],
   "source": [
    "context_len = 8\n",
    "ch_features = 30\n",
    "W_size = 300"
   ]
  },
  {
   "cell_type": "code",
   "execution_count": 46,
   "metadata": {},
   "outputs": [],
   "source": [
    "context_len = 4\n",
    "def build_dataset(words):\n",
    "    X, Y = [], []\n",
    "    for word in words:\n",
    "        word += '.'\n",
    "        context = [0] * context_len\n",
    "        for ch in word:\n",
    "            X.append(context)\n",
    "            Y.append(stoi[ch])\n",
    "            context = context[1:] + [stoi[ch]]\n",
    "    \n",
    "    X = torch.tensor(X)\n",
    "    Y = torch.tensor(Y)\n",
    "    return X, Y"
   ]
  },
  {
   "cell_type": "code",
   "execution_count": 47,
   "metadata": {},
   "outputs": [],
   "source": [
    "import random\n",
    "\n",
    "random.shuffle(words)\n",
    "\n",
    "n = int(0.8 * len(words))\n",
    "\n",
    "Xtrain, Ytrain = build_dataset(words[:n])\n",
    "\n",
    "Xval, Yval = build_dataset(words[n:])"
   ]
  },
  {
   "cell_type": "code",
   "execution_count": 48,
   "metadata": {},
   "outputs": [],
   "source": [
    "C = torch.randn(27, ch_features) * 0.01\n",
    "W1 = torch.randn(ch_features * context_len, W_size) * 0.01\n",
    "b1 = torch.randn(W_size) * 0\n",
    "W2 = torch.randn(W_size, 27) * 0.01\n",
    "b2 = torch.randn(27) * 0\n",
    "\n",
    "parameters = [C, W1, b1, W2, b2]"
   ]
  },
  {
   "cell_type": "code",
   "execution_count": 49,
   "metadata": {},
   "outputs": [],
   "source": [
    "for p in parameters:\n",
    "    p.requires_grad = True"
   ]
  },
  {
   "cell_type": "code",
   "execution_count": 50,
   "metadata": {},
   "outputs": [],
   "source": [
    "from tqdm import trange"
   ]
  },
  {
   "cell_type": "code",
   "execution_count": 51,
   "metadata": {},
   "outputs": [
    {
     "name": "stderr",
     "output_type": "stream",
     "text": [
      "loss: 1.49: 100%|██████████| 100000/100000 [03:20<00:00, 499.62it/s]\n"
     ]
    }
   ],
   "source": [
    "optim = torch.optim.Adam(parameters)\n",
    "for i in (t:=trange(100_000)):\n",
    "    ix = torch.randint(0, Xtrain.shape[0], (50,))\n",
    "    emb = C[Xtrain[ix]].flatten(1)\n",
    "    hpreact = emb @ W1 + b1\n",
    "    h = torch.tanh(hpreact)\n",
    "    logits = h @ W2 + b2\n",
    "    loss = F.cross_entropy(logits, Ytrain[ix])\n",
    "\n",
    "    optim.zero_grad()\n",
    "\n",
    "    loss.backward()\n",
    "    \n",
    "    optim.step()\n",
    "    \n",
    "    t.set_description(f'loss: {loss:.2f}')\n"
   ]
  },
  {
   "cell_type": "code",
   "execution_count": 54,
   "metadata": {},
   "outputs": [
    {
     "data": {
      "text/plain": [
       "tensor(2.2225, grad_fn=<NllLossBackward0>)"
      ]
     },
     "execution_count": 54,
     "metadata": {},
     "output_type": "execute_result"
    }
   ],
   "source": [
    "emb = C[Xval].flatten(1)\n",
    "hpreact = emb @ W1 + b1\n",
    "h = torch.tanh(hpreact)\n",
    "logits = h @ W2 + b2\n",
    "loss = F.cross_entropy(logits, Yval)\n",
    "loss"
   ]
  },
  {
   "cell_type": "code",
   "execution_count": 58,
   "metadata": {},
   "outputs": [
    {
     "name": "stderr",
     "output_type": "stream",
     "text": [
      "/var/folders/7m/w8k84tcn19d4k10r234_g4lr0000gn/T/ipykernel_74603/1176131575.py:10: UserWarning: Implicit dimension choice for softmax has been deprecated. Change the call to include dim=X as an argument.\n",
      "  ix = torch.multinomial(F.softmax(logits), num_samples=1)[0].item()\n"
     ]
    },
    {
     "data": {
      "text/plain": [
       "['main.',\n",
       " 'yester.',\n",
       " 'deciden.',\n",
       " 'prosurement.',\n",
       " 'ky.',\n",
       " 'racements.',\n",
       " 'browse.',\n",
       " 'tamping.',\n",
       " 'conting.',\n",
       " 'lil.']"
      ]
     },
     "execution_count": 58,
     "metadata": {},
     "output_type": "execute_result"
    }
   ],
   "source": [
    "res = []\n",
    "for _ in range(10):\n",
    "    context = [0] * context_len\n",
    "    word = ''\n",
    "    while True:\n",
    "        emb = C[torch.tensor([context])].flatten(1)\n",
    "        hpreact = emb @ W1 + b1\n",
    "        h = torch.tanh(hpreact)\n",
    "        logits = h @ W2 + b2\n",
    "        ix = torch.multinomial(F.softmax(logits), num_samples=1)[0].item()\n",
    "        word += itos[ix]\n",
    "        context = context[1:] + [ix]\n",
    "        if ix == 0:\n",
    "            res.append(word)\n",
    "            break\n",
    "\n",
    "res"
   ]
  }
 ],
 "metadata": {
  "kernelspec": {
   "display_name": "Python 3",
   "language": "python",
   "name": "python3"
  },
  "language_info": {
   "codemirror_mode": {
    "name": "ipython",
    "version": 3
   },
   "file_extension": ".py",
   "mimetype": "text/x-python",
   "name": "python",
   "nbconvert_exporter": "python",
   "pygments_lexer": "ipython3",
   "version": "3.9.6"
  }
 },
 "nbformat": 4,
 "nbformat_minor": 2
}
