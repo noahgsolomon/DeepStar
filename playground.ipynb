{
 "cells": [
  {
   "cell_type": "code",
   "execution_count": 1,
   "metadata": {},
   "outputs": [
    {
     "name": "stderr",
     "output_type": "stream",
     "text": [
      "/Users/noahs/Library/Python/3.9/lib/python/site-packages/urllib3/__init__.py:34: NotOpenSSLWarning: urllib3 v2.0 only supports OpenSSL 1.1.1+, currently the 'ssl' module is compiled with 'LibreSSL 2.8.3'. See: https://github.com/urllib3/urllib3/issues/3020\n",
      "  warnings.warn(\n"
     ]
    }
   ],
   "source": [
    "import math\n",
    "import random\n",
    "import numpy as np\n",
    "import torch\n",
    "import torch.nn as nn\n",
    "import torch.nn.functional as F\n",
    "from tqdm import trange\n",
    "import matplotlib.pyplot as plt\n",
    "from visualize import draw_dot\n",
    "import requests\n",
    "from nn import Embedding\n",
    "from nn import Linear, Model\n",
    "from optimize import Adam"
   ]
  },
  {
   "cell_type": "code",
   "execution_count": 39,
   "metadata": {},
   "outputs": [],
   "source": [
    "\n",
    "\n",
    "\n",
    "l1 = Linear(1, 100, activation='relu')\n",
    "l2 = Linear(100, 1)\n",
    "batch_size=12\n",
    "\n",
    "model = Model([l1, l2])\n",
    "optim = Adam(model)"
   ]
  },
  {
   "cell_type": "code",
   "execution_count": 27,
   "metadata": {},
   "outputs": [],
   "source": [
    "X = np.random.uniform(0, 10000000, 1000)\n",
    "Y = 2*X**2\n",
    "\n",
    "X_norm = (X - np.mean(X)) / np.std(X)\n",
    "Y_norm = (Y - np.mean(Y)) / np.std(Y)"
   ]
  },
  {
   "cell_type": "code",
   "execution_count": 29,
   "metadata": {},
   "outputs": [
    {
     "name": "stderr",
     "output_type": "stream",
     "text": [
      "loss: 0.17859830189416073: 100%|██████████| 10/10 [00:00<00:00, 17.04it/s]\n"
     ]
    }
   ],
   "source": [
    "for _ in (t:=trange(10)):\n",
    "    ix = np.random.randint(0, X_norm.shape[0], (batch_size,)).flatten()\n",
    "\n",
    "    out = model(X_norm[ix])\n",
    "    \n",
    "    optim.zero_grad()\n",
    "\n",
    "    if (batch_size > 1):\n",
    "        batch_loss = sum([((val-Y_norm[ix][i])**2)/batch_size for i, val in enumerate(out)])\n",
    "        batch_loss.backward()\n",
    "    \n",
    "    else:\n",
    "        loss = (out-Y_norm[ix][0])**2\n",
    "        loss.backward()\n",
    "\n",
    "    optim.step()\n",
    "\n",
    "    t.set_description(f'loss: {batch_loss.data}')"
   ]
  },
  {
   "cell_type": "code",
   "execution_count": 23,
   "metadata": {},
   "outputs": [
    {
     "name": "stdout",
     "output_type": "stream",
     "text": [
      "avg_loss: 0.005598071816253083\n"
     ]
    }
   ],
   "source": [
    "avg_loss = 0\n",
    "count = 0\n",
    "for x, y in zip(X_norm, Y_norm):\n",
    "    out = model([x])\n",
    "    loss = (out - y) ** 2\n",
    "    avg_loss += loss.data\n",
    "    count += 1\n",
    "print(f'avg_loss: {avg_loss/count}')"
   ]
  },
  {
   "cell_type": "code",
   "execution_count": 24,
   "metadata": {},
   "outputs": [
    {
     "data": {
      "text/plain": [
       "<matplotlib.legend.Legend at 0x15107d4c0>"
      ]
     },
     "execution_count": 24,
     "metadata": {},
     "output_type": "execute_result"
    },
    {
     "data": {
      "image/png": "[encoded data removed]",
      "text/plain": [
       "<Figure size 640x480 with 1 Axes>"
      ]
     },
     "metadata": {},
     "output_type": "display_data"
    }
   ],
   "source": [
    "plt.scatter(X, np.array([model([x]).data for x in X_norm]) * np.std(Y) + np.mean(Y), c='r', label='prediction')\n",
    "plt.scatter(X, Y, c='b', label='actual')\n",
    "plt.legend()"
   ]
  },
  {
   "cell_type": "code",
   "execution_count": 3,
   "metadata": {},
   "outputs": [],
   "source": [
    "words = requests.get('https://www.mit.edu/~ecprice/wordlist.10000').text.splitlines()\n",
    "random.shuffle(words)\n",
    "content_len = 1\n",
    "feature_count = 10\n",
    "\n",
    "chars = sorted(set('.'.join(words)))\n",
    "\n",
    "itos = {i: c for i, c in enumerate(chars)}\n",
    "stoi = {c: i for i, c in enumerate(chars)}\n",
    "\n",
    "def build_dataset(words):\n",
    "    X, Y = [], []\n",
    "    context = [0] * content_len\n",
    "    for word in words:\n",
    "        word += '.'\n",
    "        for c in word:\n",
    "            X.append(context)\n",
    "            Y.append(stoi[c])\n",
    "            context = context[1:] + [stoi[c]]\n",
    "    \n",
    "    X = np.array(X)\n",
    "    Y = np.array(Y)\n",
    "    return X, Y"
   ]
  },
  {
   "cell_type": "code",
   "execution_count": 59,
   "metadata": {},
   "outputs": [],
   "source": [
    "Xtrain, Ytrain = build_dataset(words)\n",
    "\n",
    "C = Embedding(27, feature_count)\n",
    "l1 = Linear(content_len * feature_count, 75, activation='tanh')\n",
    "l2 = Linear(75, 27)\n",
    "\n",
    "model = Model([C, l1, l2])\n",
    "\n",
    "optim = Adam(model=model)\n",
    "batch_size = 32"
   ]
  },
  {
   "cell_type": "code",
   "execution_count": 69,
   "metadata": {},
   "outputs": [
    {
     "data": {
      "text/plain": [
       "array([5])"
      ]
     },
     "execution_count": 69,
     "metadata": {},
     "output_type": "execute_result"
    }
   ],
   "source": [
    "Xtrain[5]"
   ]
  },
  {
   "cell_type": "code",
   "execution_count": 60,
   "metadata": {},
   "outputs": [
    {
     "name": "stderr",
     "output_type": "stream",
     "text": [
      "loss: 3.065154642196936: 100%|██████████| 300/300 [07:11<00:00,  1.44s/it] \n"
     ]
    }
   ],
   "source": [
    "for _ in (t:=trange(300)):\n",
    "    ix = np.random.randint(0, Xtrain.shape[0], (batch_size,))\n",
    "\n",
    "    out = model(Xtrain[ix])\n",
    "\n",
    "    expected = Ytrain[ix]\n",
    "\n",
    "    losses = []\n",
    "\n",
    "    for i, o in enumerate(out):\n",
    "        maxVal = max([num.data for num in o])\n",
    "\n",
    "        exp = [(math.e**(num-maxVal)) for num in o]\n",
    "\n",
    "        count = sum([num for num in exp])\n",
    "\n",
    "        prob = [val/count for val in exp]\n",
    "\n",
    "        loss = prob[int(Ytrain[ix][i])].log()*-1\n",
    "\n",
    "        losses.append(loss)\n",
    "    \n",
    "    batch_loss = sum(losses)/batch_size\n",
    "\n",
    "    optim.zero_grad()\n",
    "\n",
    "    batch_loss.backward()\n",
    "\n",
    "    optim.step()\n",
    "    \n",
    "    t.set_description(f'loss: {loss.data}')"
   ]
  },
  {
   "cell_type": "code",
   "execution_count": 64,
   "metadata": {},
   "outputs": [
    {
     "name": "stdout",
     "output_type": "stream",
     "text": [
      "loss: 2.7752515361916887\n"
     ]
    }
   ],
   "source": [
    "avg_loss = 0\n",
    "countt = 0\n",
    "random.shuffle(words)\n",
    "for word in words[:10]:\n",
    "    for ch1, ch2 in zip(word, word[1:]):\n",
    "        input = [stoi[ch1]]\n",
    "        expected = stoi[ch2]\n",
    "        out = model(input)\n",
    "\n",
    "        maxVal = max([num.data for num in out])\n",
    "\n",
    "        exp = [(2**(num-maxVal)) for num in out]\n",
    "\n",
    "        count = sum([num.data for num in exp])\n",
    "\n",
    "        prob = [val/count for val in exp]\n",
    "\n",
    "        loss = prob[int(expected)].log()*-1\n",
    "\n",
    "        avg_loss += loss.data\n",
    "        countt += 1\n",
    "\n",
    "print(f'loss: {avg_loss/countt}')"
   ]
  },
  {
   "cell_type": "code",
   "execution_count": 91,
   "metadata": {},
   "outputs": [
    {
     "name": "stdout",
     "output_type": "stream",
     "text": [
      "0\n"
     ]
    }
   ],
   "source": [
    "for _ in range(1):\n",
    "    word = ''\n",
    "    context = [0] * content_len\n",
    "    while True:\n",
    "        out = model(context)\n",
    "        maxVal = max([num.data for num in out])\n",
    "        exp = [(math.e**(num-maxVal)) for num in out]\n",
    "        count = sum([num.data for num in exp])\n",
    "        prob = [val.data/count for val in exp]\n",
    "        ix = np.random.choice(len(prob), p=prob)\n",
    "        word += itos[ix]\n",
    "        context = context[1:] + [ix]\n",
    "        if word[-1] == '.':\n",
    "            print(word)\n",
    "        break"
   ]
  }
 ],
 "metadata": {
  "kernelspec": {
   "display_name": "Python 3",
   "language": "python",
   "name": "python3"
  },
  "language_info": {
   "codemirror_mode": {
    "name": "ipython",
    "version": 3
   },
   "file_extension": ".py",
   "mimetype": "text/x-python",
   "name": "python",
   "nbconvert_exporter": "python",
   "pygments_lexer": "ipython3",
   "version": "3.9.6"
  }
 },
 "nbformat": 4,
 "nbformat_minor": 2
}
