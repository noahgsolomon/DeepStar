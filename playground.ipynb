{
 "cells": [
  {
   "cell_type": "code",
   "execution_count": 1,
   "metadata": {},
   "outputs": [
    {
     "name": "stderr",
     "output_type": "stream",
     "text": [
      "/Users/noahs/Library/Python/3.9/lib/python/site-packages/urllib3/__init__.py:34: NotOpenSSLWarning: urllib3 v2.0 only supports OpenSSL 1.1.1+, currently the 'ssl' module is compiled with 'LibreSSL 2.8.3'. See: https://github.com/urllib3/urllib3/issues/3020\n",
      "  warnings.warn(\n"
     ]
    }
   ],
   "source": [
    "import math\n",
    "import random\n",
    "import numpy as np\n",
    "import torch\n",
    "import torch.nn as nn\n",
    "import torch.nn.functional as F\n",
    "from tqdm import trange\n",
    "import matplotlib.pyplot as plt\n",
    "from visualize import draw_dot\n",
    "import requests\n",
    "from nn import Embedding\n",
    "from nn import Linear, Model\n",
    "from optimize import Adam"
   ]
  },
  {
   "cell_type": "code",
   "execution_count": 1,
   "metadata": {},
   "outputs": [
    {
     "ename": "NameError",
     "evalue": "name 'Linear' is not defined",
     "output_type": "error",
     "traceback": [
      "\u001b[0;31m---------------------------------------------------------------------------\u001b[0m",
      "\u001b[0;31mNameError\u001b[0m                                 Traceback (most recent call last)",
      "Cell \u001b[0;32mIn[1], line 1\u001b[0m\n\u001b[0;32m----> 1\u001b[0m l1 \u001b[38;5;241m=\u001b[39m \u001b[43mLinear\u001b[49m(\u001b[38;5;241m1\u001b[39m, \u001b[38;5;241m20\u001b[39m, activation\u001b[38;5;241m=\u001b[39m\u001b[38;5;124m'\u001b[39m\u001b[38;5;124mrelu\u001b[39m\u001b[38;5;124m'\u001b[39m)\n\u001b[1;32m      2\u001b[0m l2 \u001b[38;5;241m=\u001b[39m Linear(\u001b[38;5;241m20\u001b[39m, \u001b[38;5;241m1\u001b[39m)\n\u001b[1;32m      3\u001b[0m batch_size\u001b[38;5;241m=\u001b[39m\u001b[38;5;241m1\u001b[39m\n",
      "\u001b[0;31mNameError\u001b[0m: name 'Linear' is not defined"
     ]
    }
   ],
   "source": [
    "l1 = Linear(1, 20, activation='relu')\n",
    "l2 = Linear(20, 1)\n",
    "batch_size=1\n",
    "\n",
    "model = Model([l1, l2])\n",
    "optim = Adam(model)"
   ]
  },
  {
   "cell_type": "code",
   "execution_count": 2,
   "metadata": {},
   "outputs": [
    {
     "ename": "NameError",
     "evalue": "name 'np' is not defined",
     "output_type": "error",
     "traceback": [
      "\u001b[0;31m---------------------------------------------------------------------------\u001b[0m",
      "\u001b[0;31mNameError\u001b[0m                                 Traceback (most recent call last)",
      "Cell \u001b[0;32mIn[2], line 1\u001b[0m\n\u001b[0;32m----> 1\u001b[0m X \u001b[38;5;241m=\u001b[39m \u001b[43mnp\u001b[49m\u001b[38;5;241m.\u001b[39mrandom\u001b[38;5;241m.\u001b[39muniform(\u001b[38;5;241m0\u001b[39m, \u001b[38;5;241m10000000\u001b[39m, \u001b[38;5;241m1000\u001b[39m)\n\u001b[1;32m      2\u001b[0m Y \u001b[38;5;241m=\u001b[39m \u001b[38;5;241m2\u001b[39m\u001b[38;5;241m*\u001b[39mX\u001b[38;5;241m*\u001b[39m\u001b[38;5;241m*\u001b[39m\u001b[38;5;241m2\u001b[39m\n\u001b[1;32m      4\u001b[0m X_norm \u001b[38;5;241m=\u001b[39m (X \u001b[38;5;241m-\u001b[39m np\u001b[38;5;241m.\u001b[39mmean(X)) \u001b[38;5;241m/\u001b[39m np\u001b[38;5;241m.\u001b[39mstd(X)\n",
      "\u001b[0;31mNameError\u001b[0m: name 'np' is not defined"
     ]
    }
   ],
   "source": [
    "X = np.random.uniform(0, 10000000, 1000)\n",
    "Y = 2*X**2\n",
    "\n",
    "X_norm = (X - np.mean(X)) / np.std(X)\n",
    "Y_norm = (Y - np.mean(Y)) / np.std(Y)"
   ]
  },
  {
   "cell_type": "code",
   "execution_count": 9,
   "metadata": {},
   "outputs": [
    {
     "name": "stderr",
     "output_type": "stream",
     "text": [
      "loss: 3.2946033731263173: 100%|██████████| 1000/1000 [00:01<00:00, 660.60it/s]\n"
     ]
    }
   ],
   "source": [
    "for _ in (t:=trange(1000)):\n",
    "    ix = np.random.randint(0, X_norm.shape[0], (batch_size,)).flatten()\n",
    "\n",
    "    out = model(X_norm[ix])\n",
    "    \n",
    "    optim.zero_grad()\n",
    "\n",
    "    if (batch_size > 1):\n",
    "        batch_loss = sum([((val-Y_norm[ix][i])**2)/batch_size for i, val in enumerate(out)])\n",
    "        batch_loss.backward()\n",
    "    \n",
    "    else:\n",
    "        \n",
    "        loss = (out-Y_norm[ix][0])**2\n",
    "        loss.backward()\n",
    "\n",
    "    optim.step()\n",
    "\n",
    "    t.set_description(f'loss: {batch_loss.data}')"
   ]
  },
  {
   "cell_type": "code",
   "execution_count": null,
   "metadata": {},
   "outputs": [
    {
     "name": "stdout",
     "output_type": "stream",
     "text": [
      "avg_loss: 0.11549137168919044\n"
     ]
    }
   ],
   "source": [
    "avg_loss = 0\n",
    "count = 0\n",
    "for x, y in zip(X_norm, Y_norm):\n",
    "    out = model([x])\n",
    "    loss = (out - y) ** 2\n",
    "    avg_loss += loss.data\n",
    "    count += 1\n",
    "print(f'avg_loss: {avg_loss/count}')"
   ]
  },
  {
   "cell_type": "code",
   "execution_count": 34,
   "metadata": {},
   "outputs": [
    {
     "data": {
      "text/plain": [
       "<matplotlib.legend.Legend at 0x15e3064c0>"
      ]
     },
     "execution_count": 34,
     "metadata": {},
     "output_type": "execute_result"
    },
    {
     "data": {
      "image/png": "[encoded data removed]",
      "text/plain": [
       "<Figure size 640x480 with 1 Axes>"
      ]
     },
     "metadata": {},
     "output_type": "display_data"
    }
   ],
   "source": [
    "plt.scatter(X, np.array([model([x]).data for x in X_norm]) * np.std(Y) + np.mean(Y), c='r', label='prediction')\n",
    "plt.scatter(X, Y, c='b', label='actual')\n",
    "plt.legend()"
   ]
  },
  {
   "cell_type": "code",
   "execution_count": null,
   "metadata": {},
   "outputs": [],
   "source": [
    "import numpy as np\n",
    "import onnx\n",
    "from onnx import TensorProto\n",
    "from onnx.helper import make_model, make_node, make_graph, make_tensor_value_info, make_tensor\n",
    "\n",
    "def build_model(name='model'):\n",
    "    input_dim = 1\n",
    "    hidden_units = 5\n",
    "    output_dim = 1\n",
    "\n",
    "    X = make_tensor_value_info('X', TensorProto.FLOAT, [None, input_dim])\n",
    "    Y = make_tensor_value_info('Y', TensorProto.FLOAT, [None, output_dim])\n",
    "\n",
    "    W1_values = np.random.randn(input_dim, hidden_units).astype(np.float32)\n",
    "    B1_values = np.random.randn(hidden_units).astype(np.float32)\n",
    "    W1 = make_tensor('W1', TensorProto.FLOAT, [input_dim, hidden_units], W1_values)\n",
    "    B1 = make_tensor('B1', TensorProto.FLOAT, [hidden_units], B1_values)\n",
    "\n",
    "    W2_values = np.random.randn(hidden_units, output_dim).astype(np.float32)\n",
    "    B2_values = np.random.randn(output_dim).astype(np.float32)\n",
    "    W2 = make_tensor('W2', TensorProto.FLOAT, [hidden_units, output_dim], W2_values)\n",
    "    B2 = make_tensor('B2', TensorProto.FLOAT, [output_dim], B2_values)\n",
    "\n",
    "    nodes = [\n",
    "        make_node('MatMul', ['X', 'W1'], ['XW1']),\n",
    "        make_node('Add', ['XW1', 'B1'], ['XW1B1']),\n",
    "        make_node('Relu', ['XW1B1'], ['Relu1']),\n",
    "        make_node('MatMul', ['Relu1', 'W2'], ['Relu1W2']),\n",
    "        make_node('Add', ['Relu1W2', 'B2'], ['Y'])\n",
    "    ]\n",
    "\n",
    "    graph = make_graph(nodes, name, [X], [Y], [W1, B1, W2, B2])\n",
    "    onnx_model = make_model(graph, producer_name='onnx-example')\n",
    "\n",
    "    return onnx_model\n",
    "\n",
    "onnx_model = build_model()\n"
   ]
  },
  {
   "cell_type": "code",
   "execution_count": null,
   "metadata": {},
   "outputs": [],
   "source": [
    "# number of inputs (X by default name)\n",
    "\n",
    "# number of outputs (Y by default name)\n",
    "\n",
    "# ^ and batches supported rn\n",
    "\n",
    "# matmul's between layers\n",
    "\n",
    "# activations of layers\n",
    "\n",
    "# names of each layer for W and B example: W2 B2\n",
    "\n",
    "def export_onnx(model, model_name=''):\n",
    "    "
   ]
  },
  {
   "cell_type": "code",
   "execution_count": null,
   "metadata": {},
   "outputs": [],
   "source": [
    "onnx.save(onnx_model, 'model.onnx')"
   ]
  },
  {
   "cell_type": "code",
   "execution_count": null,
   "metadata": {},
   "outputs": [],
   "source": [
    "import onnx\n",
    "from onnx2pytorch import ConvertModel\n",
    "\n",
    "onnx_model = onnx.load('model.onnx')\n",
    "pytorch_model = ConvertModel(onnx_model)"
   ]
  },
  {
   "cell_type": "code",
   "execution_count": null,
   "metadata": {},
   "outputs": [
    {
     "data": {
      "text/plain": [
       "tensor([11.2956], grad_fn=<ViewBackward0>)"
      ]
     },
     "execution_count": 11,
     "metadata": {},
     "output_type": "execute_result"
    }
   ],
   "source": [
    "pytorch_model(torch.tensor([2.]))"
   ]
  },
  {
   "cell_type": "code",
   "execution_count": 3,
   "metadata": {},
   "outputs": [],
   "source": [
    "names = open('datasets/names.txt', 'r').read().splitlines()\n",
    "random.shuffle(names)\n",
    "content_len = 5\n",
    "feature_count = 15\n",
    "w_size = 200\n",
    "\n",
    "chars = sorted(set('.'.join(names)))\n",
    "\n",
    "itos = {i: c for i, c in enumerate(chars)}\n",
    "stoi = {c: i for i, c in enumerate(chars)}\n",
    "\n",
    "def build_dataset(names):\n",
    "    X, Y = [], []\n",
    "    context = [0] * content_len\n",
    "    for name in names:\n",
    "        name += '.'\n",
    "        for c in name:\n",
    "            X.append(context)\n",
    "            Y.append(stoi[c])\n",
    "            context = context[1:] + [stoi[c]]\n",
    "    \n",
    "    X = np.array(X)\n",
    "    Y = np.array(Y)\n",
    "    return X, Y"
   ]
  },
  {
   "cell_type": "code",
   "execution_count": 4,
   "metadata": {},
   "outputs": [],
   "source": [
    "from optimize import Momentum\n",
    "\n",
    "\n",
    "Xtrain, Ytrain = build_dataset(names)\n",
    "\n",
    "C = Embedding(27, feature_count)\n",
    "l1 = Linear(content_len * feature_count, w_size, activation='tanh')\n",
    "l2 = Linear(w_size, 27)\n",
    "\n",
    "model = Model([C, l1, l2])\n",
    "\n",
    "optim = Adam(model=model)\n",
    "batch_size = 16"
   ]
  },
  {
   "cell_type": "code",
   "execution_count": 5,
   "metadata": {},
   "outputs": [
    {
     "name": "stderr",
     "output_type": "stream",
     "text": [
      "loss: 3.2965832121846064: 100%|██████████| 1/1 [00:06<00:00,  6.66s/it]\n"
     ]
    }
   ],
   "source": [
    "from value import Value\n",
    "\n",
    "\n",
    "for _ in (t:=trange(1)):\n",
    "    ix = np.random.randint(0, Xtrain.shape[0], (batch_size,))\n",
    "\n",
    "    out = model(Xtrain[ix])\n",
    "\n",
    "    if type(out[0]) == Value:\n",
    "        out = [out]\n",
    "\n",
    "    expected = Ytrain[ix]\n",
    "\n",
    "    losses = []\n",
    "\n",
    "    for i, o in enumerate(out):\n",
    "        maxVal = max([num.data for num in o])\n",
    "\n",
    "        exp = [(math.e**(num-maxVal)) for num in o]\n",
    "\n",
    "        count = sum([num for num in exp])\n",
    "\n",
    "        prob = [val/count for val in exp]\n",
    "\n",
    "        loss = prob[int(Ytrain[ix][i])].log()*-1\n",
    "\n",
    "        losses.append(loss)\n",
    "    \n",
    "    batch_loss = sum(losses)/batch_size\n",
    "\n",
    "    optim.zero_grad()\n",
    "\n",
    "    batch_loss.backward()\n",
    "\n",
    "    optim.step()\n",
    "    \n",
    "    t.set_description(f'loss: {batch_loss.data}')"
   ]
  },
  {
   "cell_type": "code",
   "execution_count": null,
   "metadata": {},
   "outputs": [
    {
     "name": "stdout",
     "output_type": "stream",
     "text": [
      "loss: 2.842767604484911\n"
     ]
    }
   ],
   "source": [
    "avg_loss = 0\n",
    "countt = 0\n",
    "random.shuffle(names)\n",
    "for name in names[:10]:\n",
    "    context = [0] * content_len\n",
    "    for ch in name:\n",
    "\n",
    "        out = model([context])\n",
    "\n",
    "        maxVal = max([num.data for num in out])\n",
    "\n",
    "        exp = [(2**(num-maxVal)) for num in out]\n",
    "\n",
    "        count = sum([num.data for num in exp])\n",
    "\n",
    "        prob = [val/count for val in exp]\n",
    "\n",
    "        loss = prob[stoi[ch]].log()*-1\n",
    "\n",
    "        context = context[1:] + [stoi[ch]]\n",
    "\n",
    "        avg_loss += loss.data\n",
    "        countt += 1\n",
    "\n",
    "print(f'loss: {avg_loss/countt}')"
   ]
  },
  {
   "cell_type": "code",
   "execution_count": null,
   "metadata": {},
   "outputs": [
    {
     "name": "stdout",
     "output_type": "stream",
     "text": [
      "ianyaridine.\n",
      "ersed.\n",
      "jiyiya.\n",
      "kimdaralays.\n",
      "rianina.\n",
      "ryam.\n",
      "abuca.\n",
      "emlaeseyaravian.\n",
      "miaynon.\n",
      "kilaemsaharesal.\n"
     ]
    }
   ],
   "source": [
    "for _ in range(10):\n",
    "    name = ''\n",
    "    context = [0] * content_len\n",
    "    while True:\n",
    "        out = model([context])\n",
    "        maxVal = max([num.data for num in out])\n",
    "        exp = [(math.e**(num-maxVal)) for num in out]\n",
    "        count = sum([num.data for num in exp])\n",
    "        prob = [val.data/count for val in exp]\n",
    "        ix = np.random.choice(len(prob), p=prob)\n",
    "        name += itos[ix]\n",
    "        context = context[1:] + [ix]\n",
    "        if name[-1] == '.':\n",
    "            print(name)\n",
    "            break"
   ]
  }
 ],
 "metadata": {
  "kernelspec": {
   "display_name": "Python 3",
   "language": "python",
   "name": "python3"
  },
  "language_info": {
   "codemirror_mode": {
    "name": "ipython",
    "version": 3
   },
   "file_extension": ".py",
   "mimetype": "text/x-python",
   "name": "python",
   "nbconvert_exporter": "python",
   "pygments_lexer": "ipython3",
   "version": "3.9.6"
  }
 },
 "nbformat": 4,
 "nbformat_minor": 2
}
