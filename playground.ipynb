{
 "cells": [
  {
   "cell_type": "code",
   "execution_count": 1,
   "metadata": {},
   "outputs": [
    {
     "name": "stderr",
     "output_type": "stream",
     "text": [
      "/Users/noahs/Library/Python/3.9/lib/python/site-packages/urllib3/__init__.py:34: NotOpenSSLWarning: urllib3 v2.0 only supports OpenSSL 1.1.1+, currently the 'ssl' module is compiled with 'LibreSSL 2.8.3'. See: https://github.com/urllib3/urllib3/issues/3020\n",
      "  warnings.warn(\n"
     ]
    }
   ],
   "source": [
    "import math\n",
    "import random\n",
    "import numpy as np\n",
    "import torch\n",
    "import torch.nn as nn\n",
    "import torch.nn.functional as F\n",
    "from tqdm import trange\n",
    "import matplotlib.pyplot as plt\n",
    "from visualize import draw_dot\n",
    "import requests\n",
    "from nn import Embedding\n",
    "from nn import Linear, Model\n",
    "from optimize import Adam"
   ]
  },
  {
   "cell_type": "code",
   "execution_count": 2,
   "metadata": {},
   "outputs": [],
   "source": [
    "l1 = Embedding(8, 3)\n",
    "l2 = Linear(12, 4, activation='Relu')\n",
    "l3 = Linear(4, 1)\n",
    "batch_size=12\n",
    "\n",
    "model = Model([l1, l2, l3])\n",
    "optim = Adam(model)"
   ]
  },
  {
   "cell_type": "code",
   "execution_count": 59,
   "metadata": {},
   "outputs": [],
   "source": [
    "X = np.random.uniform(0, 10000000, 1000)\n",
    "Y = 2*X**2\n",
    "\n",
    "X_norm = (X - np.mean(X)) / np.std(X)\n",
    "Y_norm = (Y - np.mean(Y)) / np.std(Y)"
   ]
  },
  {
   "cell_type": "code",
   "execution_count": 60,
   "metadata": {},
   "outputs": [
    {
     "name": "stderr",
     "output_type": "stream",
     "text": [
      "  0%|          | 0/1000 [00:00<?, ?it/s]"
     ]
    },
    {
     "name": "stderr",
     "output_type": "stream",
     "text": [
      "loss: 0.004336101975343615: 100%|██████████| 1000/1000 [00:07<00:00, 126.57it/s]\n"
     ]
    }
   ],
   "source": [
    "for _ in (t:=trange(1000)):\n",
    "    ix = np.random.randint(0, X_norm.shape[0], (batch_size,)).flatten()\n",
    "\n",
    "    out = model(X_norm[ix])\n",
    "    \n",
    "    optim.zero_grad()\n",
    "\n",
    "    if (batch_size > 1):\n",
    "        batch_loss = sum([((val-Y_norm[ix][i])**2)/batch_size for i, val in enumerate(out)])\n",
    "        batch_loss.backward()\n",
    "    \n",
    "    else:\n",
    "        \n",
    "        loss = (out-Y_norm[ix][0])**2\n",
    "        loss.backward()\n",
    "\n",
    "    optim.step()\n",
    "\n",
    "    t.set_description(f'loss: {batch_loss.data}')"
   ]
  },
  {
   "cell_type": "code",
   "execution_count": 7,
   "metadata": {},
   "outputs": [
    {
     "name": "stdout",
     "output_type": "stream",
     "text": [
      "avg_loss: 0.01267174735527684\n"
     ]
    }
   ],
   "source": [
    "avg_loss = 0\n",
    "count = 0\n",
    "for x, y in zip(X_norm, Y_norm):\n",
    "    out = model([x])\n",
    "    loss = (out - y) ** 2\n",
    "    avg_loss += loss.data\n",
    "    count += 1\n",
    "print(f'avg_loss: {avg_loss/count}')"
   ]
  },
  {
   "cell_type": "code",
   "execution_count": 8,
   "metadata": {},
   "outputs": [
    {
     "data": {
      "text/plain": [
       "<matplotlib.legend.Legend at 0x14747be50>"
      ]
     },
     "execution_count": 8,
     "metadata": {},
     "output_type": "execute_result"
    },
    {
     "data": {
      "image/png": "[encoded data removed]",
      "text/plain": [
       "<Figure size 640x480 with 1 Axes>"
      ]
     },
     "metadata": {},
     "output_type": "display_data"
    }
   ],
   "source": [
    "plt.scatter(X, np.array([model([x]).data for x in X_norm]) * np.std(Y) + np.mean(Y), c='r', label='prediction')\n",
    "plt.scatter(X, Y, c='b', label='actual')\n",
    "plt.legend()"
   ]
  },
  {
   "cell_type": "code",
   "execution_count": 19,
   "metadata": {},
   "outputs": [],
   "source": [
    "import numpy as np\n",
    "import onnx\n",
    "from onnx import TensorProto\n",
    "from onnx.helper import make_model, make_node, make_graph, make_tensor_value_info, make_tensor\n",
    "\n",
    "\n",
    "def build_model(input_dim, output_dim, model, name='model'):\n",
    "    X = make_tensor_value_info('X', TensorProto.FLOAT, [None, input_dim])\n",
    "    Y = make_tensor_value_info('Y', TensorProto.FLOAT, [None, output_dim])\n",
    "\n",
    "    nodes = []\n",
    "    tensors = []\n",
    "    \n",
    "    for i, layer in enumerate(model.layers):\n",
    "        if isinstance(layer, Embedding):\n",
    "            print(f'emb: {i}')\n",
    "            # Flatten the embeddings to a 1D array\n",
    "            embedding_values = [emb.data for emb in layer.embeddings.flatten()]\n",
    "            embedding_tensor = make_tensor(f'Embedding{i+1}', TensorProto.FLOAT, [layer.num_embeddings, layer.embedding_dim], embedding_values)\n",
    "            tensors.append(embedding_tensor)\n",
    "\n",
    "            X_name = 'X' if i == 0 else f'X{i}'\n",
    "            Y_name = f'X{i+1}'\n",
    "            Y_gather_name = f'Gather{Y_name}'\n",
    "\n",
    "            print(f'X_name: {X_name}')\n",
    "            print(f'Y_name: {Y_name}')\n",
    "\n",
    "            # Use Gather operation for embedding lookup\n",
    "            nodes.append(make_node('Gather', [f'Embedding{i+1}', X_name], [Y_gather_name]))\n",
    "\n",
    "            nodes.append(make_node('Flatten', [Y_gather_name], [Y_name]))\n",
    "\n",
    "        else:\n",
    "            print(f'lin: {i}')\n",
    "            W_values = np.array([[0.] * len(layer.neurons) for _ in range(len(layer.neurons[0].w))], dtype=np.float32)\n",
    "            for j in range(len(layer.neurons[0].w)):\n",
    "                for k in range(len(layer.neurons)):\n",
    "                        W_values[j][k] = (layer.neurons[k].w[j].data)\n",
    "\n",
    "            B_values = np.array([])\n",
    "            for n in layer.neurons:\n",
    "                B_values = np.append(B_values, n.b.data)\n",
    "\n",
    "            W = make_tensor(f'W{i+1}', TensorProto.FLOAT, [layer.nin, layer.nout], W_values)\n",
    "            B = make_tensor(f'B{i+1}', TensorProto.FLOAT, [layer.nout], B_values)\n",
    "\n",
    "            tensors.extend([W, B])\n",
    "\n",
    "            X_name = 'X' if i == 0 else f'X{i}'\n",
    "            Y_name = f'X{i+1}'\n",
    "\n",
    "            print(f'X_name: {X_name}')\n",
    "            print(f'Y_name: {Y_name}')\n",
    "\n",
    "            nodes.append(make_node('MatMul', [X_name, W.name], [f'{X_name}W']))\n",
    "            nodes.append(make_node('Add', [f'{X_name}W', B.name], [f'{X_name}WB']))\n",
    "        \n",
    "            if layer.activation:\n",
    "                nodes.append(make_node(layer.activation, [f'{X_name}WB'], [Y_name]))\n",
    "\n",
    "    # Last node output is 'Y'\n",
    "    nodes[-1].output[0] = 'Y'\n",
    "\n",
    "    # Assemble the graph and create the model\n",
    "    graph = make_graph(nodes, name, [X], [Y], tensors)\n",
    "    onnx_model = make_model(graph, producer_name='onnx-example')\n",
    "\n",
    "    return onnx_model"
   ]
  },
  {
   "cell_type": "code",
   "execution_count": 20,
   "metadata": {},
   "outputs": [
    {
     "name": "stdout",
     "output_type": "stream",
     "text": [
      "emb: 0\n",
      "X_name: X\n",
      "Y_name: X1\n",
      "lin: 1\n",
      "X_name: X1\n",
      "Y_name: X2\n",
      "lin: 2\n",
      "X_name: X2\n",
      "Y_name: X3\n"
     ]
    }
   ],
   "source": [
    "onnx_model = build_model(model.input_shape, model.output_shape, model)\n",
    "\n",
    "onnx.checker.check_model(onnx_model)\n",
    "onnx.save(onnx_model, 'model.onnx')"
   ]
  },
  {
   "cell_type": "code",
   "execution_count": 21,
   "metadata": {},
   "outputs": [
    {
     "name": "stderr",
     "output_type": "stream",
     "text": [
      "/Users/noahs/Library/Python/3.9/lib/python/site-packages/tqdm/auto.py:21: TqdmWarning: IProgress not found. Please update jupyter and ipywidgets. See https://ipywidgets.readthedocs.io/en/stable/user_install.html\n",
      "  from .autonotebook import tqdm as notebook_tqdm\n"
     ]
    }
   ],
   "source": [
    "import onnx2pytorch\n",
    "\n",
    "pytorch_model = onnx2pytorch.ConvertModel(onnx_model)"
   ]
  },
  {
   "cell_type": "code",
   "execution_count": 26,
   "metadata": {},
   "outputs": [
    {
     "data": {
      "text/plain": [
       "tensor([[-0.0001]], grad_fn=<AddmmBackward0>)"
      ]
     },
     "execution_count": 26,
     "metadata": {},
     "output_type": "execute_result"
    }
   ],
   "source": [
    "pytorch_model(torch.tensor([[1, 2, 3, 4]]))"
   ]
  },
  {
   "cell_type": "code",
   "execution_count": 2,
   "metadata": {},
   "outputs": [],
   "source": [
    "names = open('datasets/names.txt', 'r').read().splitlines()\n",
    "random.shuffle(names)\n",
    "content_len = 5\n",
    "feature_count = 15\n",
    "w_size = 200\n",
    "\n",
    "chars = sorted(set('.'.join(names)))\n",
    "\n",
    "itos = {i: c for i, c in enumerate(chars)}\n",
    "stoi = {c: i for i, c in enumerate(chars)}\n",
    "\n",
    "def build_dataset(names):\n",
    "    X, Y = [], []\n",
    "    context = [0] * content_len\n",
    "    for name in names:\n",
    "        name += '.'\n",
    "        for c in name:\n",
    "            X.append(context)\n",
    "            Y.append(stoi[c])\n",
    "            context = context[1:] + [stoi[c]]\n",
    "    \n",
    "    X = np.array(X)\n",
    "    Y = np.array(Y)\n",
    "    return X, Y"
   ]
  },
  {
   "cell_type": "code",
   "execution_count": null,
   "metadata": {},
   "outputs": [],
   "source": []
  },
  {
   "cell_type": "code",
   "execution_count": 3,
   "metadata": {},
   "outputs": [],
   "source": [
    "from optimize import Momentum\n",
    "\n",
    "\n",
    "Xtrain, Ytrain = build_dataset(names)\n",
    "\n",
    "C = Embedding(27, feature_count)\n",
    "l1 = Linear(content_len * feature_count, w_size, activation='tanh')\n",
    "l2 = Linear(w_size, 27)\n",
    "\n",
    "model = Model([C, l1, l2])\n",
    "\n",
    "optim = Adam(model=model)\n",
    "batch_size = 16"
   ]
  },
  {
   "cell_type": "code",
   "execution_count": 5,
   "metadata": {},
   "outputs": [
    {
     "name": "stderr",
     "output_type": "stream",
     "text": [
      "loss: 3.2965832121846064: 100%|██████████| 1/1 [00:06<00:00,  6.66s/it]\n"
     ]
    }
   ],
   "source": [
    "from value import Value\n",
    "\n",
    "\n",
    "for _ in (t:=trange(1)):\n",
    "    ix = np.random.randint(0, Xtrain.shape[0], (batch_size,))\n",
    "\n",
    "    out = model(Xtrain[ix])\n",
    "\n",
    "    if type(out[0]) == Value:\n",
    "        out = [out]\n",
    "\n",
    "    expected = Ytrain[ix]\n",
    "\n",
    "    losses = []\n",
    "\n",
    "    for i, o in enumerate(out):\n",
    "        maxVal = max([num.data for num in o])\n",
    "\n",
    "        exp = [(math.e**(num-maxVal)) for num in o]\n",
    "\n",
    "        count = sum([num for num in exp])\n",
    "\n",
    "        prob = [val/count for val in exp]\n",
    "\n",
    "        loss = prob[int(Ytrain[ix][i])].log()*-1\n",
    "\n",
    "        losses.append(loss)\n",
    "    \n",
    "    batch_loss = sum(losses)/batch_size\n",
    "\n",
    "    optim.zero_grad()\n",
    "\n",
    "    batch_loss.backward()\n",
    "\n",
    "    optim.step()\n",
    "    \n",
    "    t.set_description(f'loss: {batch_loss.data}')"
   ]
  },
  {
   "cell_type": "code",
   "execution_count": null,
   "metadata": {},
   "outputs": [
    {
     "name": "stdout",
     "output_type": "stream",
     "text": [
      "loss: 2.842767604484911\n"
     ]
    }
   ],
   "source": [
    "avg_loss = 0\n",
    "countt = 0\n",
    "random.shuffle(names)\n",
    "for name in names[:10]:\n",
    "    context = [0] * content_len\n",
    "    for ch in name:\n",
    "\n",
    "        out = model([context])\n",
    "\n",
    "        maxVal = max([num.data for num in out])\n",
    "\n",
    "        exp = [(2**(num-maxVal)) for num in out]\n",
    "\n",
    "        count = sum([num.data for num in exp])\n",
    "\n",
    "        prob = [val/count for val in exp]\n",
    "\n",
    "        loss = prob[stoi[ch]].log()*-1\n",
    "\n",
    "        context = context[1:] + [stoi[ch]]\n",
    "\n",
    "        avg_loss += loss.data\n",
    "        countt += 1\n",
    "\n",
    "print(f'loss: {avg_loss/countt}')"
   ]
  },
  {
   "cell_type": "code",
   "execution_count": null,
   "metadata": {},
   "outputs": [
    {
     "name": "stdout",
     "output_type": "stream",
     "text": [
      "ianyaridine.\n",
      "ersed.\n",
      "jiyiya.\n",
      "kimdaralays.\n",
      "rianina.\n",
      "ryam.\n",
      "abuca.\n",
      "emlaeseyaravian.\n",
      "miaynon.\n",
      "kilaemsaharesal.\n"
     ]
    }
   ],
   "source": [
    "for _ in range(10):\n",
    "    name = ''\n",
    "    context = [0] * content_len\n",
    "    while True:\n",
    "        out = model([context])\n",
    "        maxVal = max([num.data for num in out])\n",
    "        exp = [(math.e**(num-maxVal)) for num in out]\n",
    "        count = sum([num.data for num in exp])\n",
    "        prob = [val.data/count for val in exp]\n",
    "        ix = np.random.choice(len(prob), p=prob)\n",
    "        name += itos[ix]\n",
    "        context = context[1:] + [ix]\n",
    "        if name[-1] == '.':\n",
    "            print(name)\n",
    "            break"
   ]
  }
 ],
 "metadata": {
  "kernelspec": {
   "display_name": "Python 3",
   "language": "python",
   "name": "python3"
  },
  "language_info": {
   "codemirror_mode": {
    "name": "ipython",
    "version": 3
   },
   "file_extension": ".py",
   "mimetype": "text/x-python",
   "name": "python",
   "nbconvert_exporter": "python",
   "pygments_lexer": "ipython3",
   "version": "3.9.6"
  }
 },
 "nbformat": 4,
 "nbformat_minor": 2
}
