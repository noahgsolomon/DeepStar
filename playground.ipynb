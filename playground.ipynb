{
 "cells": [
  {
   "cell_type": "code",
   "execution_count": 297,
   "metadata": {},
   "outputs": [],
   "source": [
    "import torch\n",
    "import torch.nn.functional as F"
   ]
  },
  {
   "cell_type": "code",
   "execution_count": 151,
   "metadata": {},
   "outputs": [],
   "source": [
    "words = open('words.txt', 'r').read().splitlines()"
   ]
  },
  {
   "cell_type": "code",
   "execution_count": 152,
   "metadata": {},
   "outputs": [],
   "source": [
    "chars = sorted(set('.'.join(words)))\n",
    "\n",
    "stoi = {c: i for i, c in enumerate(chars)}\n",
    "itos = {i:c for i, c in enumerate(chars)}"
   ]
  },
  {
   "cell_type": "code",
   "execution_count": 153,
   "metadata": {},
   "outputs": [],
   "source": [
    "bigram = {}\n",
    "for word in words:\n",
    "    word = '.' + word + '.'\n",
    "    for ch1, ch2 in zip(word, word[1:]):\n",
    "        bigram[(ch1, ch2)] = bigram.get((ch1, ch2), 0) + 1"
   ]
  },
  {
   "cell_type": "code",
   "execution_count": 154,
   "metadata": {},
   "outputs": [],
   "source": [
    "N = torch.ones(27, 27)"
   ]
  },
  {
   "cell_type": "code",
   "execution_count": 155,
   "metadata": {},
   "outputs": [],
   "source": [
    "for (ch1, ch2), count in bigram.items():\n",
    "    N[stoi[ch1]][stoi[ch2]] = count\n",
    "N = N + 1"
   ]
  },
  {
   "cell_type": "code",
   "execution_count": 156,
   "metadata": {},
   "outputs": [],
   "source": [
    "P = N / N.sum(dim=1, keepdim=True)"
   ]
  },
  {
   "cell_type": "code",
   "execution_count": 166,
   "metadata": {},
   "outputs": [
    {
     "data": {
      "text/plain": [
       "['.leagronliont.',\n",
       " '.tsererty.',\n",
       " '.btr.',\n",
       " '.cte.',\n",
       " '.rod.',\n",
       " '.m.',\n",
       " '.didingaren.',\n",
       " '.mat.',\n",
       " '.caboma.',\n",
       " '.s.']"
      ]
     },
     "execution_count": 166,
     "metadata": {},
     "output_type": "execute_result"
    }
   ],
   "source": [
    "res = []\n",
    "for _ in range(10):\n",
    "    word = '.'\n",
    "    while True:\n",
    "        ix = torch.multinomial(P[stoi[word[-1]]], num_samples=1)[0].item()\n",
    "        word += itos[ix]\n",
    "        if ix == 0:\n",
    "            res.append(word)\n",
    "            break\n",
    "    \n",
    "res"
   ]
  },
  {
   "cell_type": "code",
   "execution_count": 158,
   "metadata": {},
   "outputs": [
    {
     "name": "stdout",
     "output_type": "stream",
     "text": [
      "tensor(2.5044)\n"
     ]
    }
   ],
   "source": [
    "loss = 0\n",
    "count = 0\n",
    "for word in words:\n",
    "    word = '.' + word + '.'\n",
    "    for ch1, ch2 in zip(word, word[1:]):\n",
    "        ix = stoi[ch1]\n",
    "        ix2 = stoi[ch2]\n",
    "        prob = P[ix][ix2]\n",
    "        loss += -torch.log(P[ix][ix2])\n",
    "        count += 1\n",
    "\n",
    "loss /= count\n",
    "print(loss)"
   ]
  },
  {
   "cell_type": "code",
   "execution_count": 191,
   "metadata": {},
   "outputs": [],
   "source": [
    "context_len = 4\n",
    "ch_features = 20\n",
    "W_size = 200"
   ]
  },
  {
   "cell_type": "code",
   "execution_count": 338,
   "metadata": {},
   "outputs": [],
   "source": [
    "context_len = 4\n",
    "def build_dataset(words):\n",
    "    X, Y = [], []\n",
    "    for word in words:\n",
    "        word += '.'\n",
    "        context = [0] * context_len\n",
    "        for ch in word:\n",
    "            X.append(context)\n",
    "            Y.append(stoi[ch])\n",
    "            context = context[1:] + [stoi[ch]]\n",
    "    \n",
    "    X = torch.tensor(X)\n",
    "    Y = torch.tensor(Y)\n",
    "    return X, Y"
   ]
  },
  {
   "cell_type": "code",
   "execution_count": 339,
   "metadata": {},
   "outputs": [],
   "source": [
    "import random\n",
    "\n",
    "random.shuffle(words)\n",
    "\n",
    "n = int(0.8 * len(words))\n",
    "\n",
    "Xtrain, Ytrain = build_dataset(words[:n])\n",
    "\n",
    "Xval, Yval = build_dataset(words[n:])"
   ]
  },
  {
   "cell_type": "code",
   "execution_count": 340,
   "metadata": {},
   "outputs": [],
   "source": [
    "C = torch.randn(27, ch_features) * 0.01\n",
    "W1 = torch.randn(ch_features * context_len, W_size) * 0.01\n",
    "b1 = torch.randn(W_size) * 0\n",
    "W2 = torch.randn(W_size, 27) * 0.01\n",
    "b2 = torch.randn(27) * 0\n",
    "\n",
    "parameters = [C, W1, b1, W2, b2]"
   ]
  },
  {
   "cell_type": "code",
   "execution_count": 341,
   "metadata": {},
   "outputs": [],
   "source": [
    "for p in parameters:\n",
    "    p.requires_grad = True\n",
    "    p.grad"
   ]
  },
  {
   "cell_type": "code",
   "execution_count": 347,
   "metadata": {},
   "outputs": [
    {
     "name": "stdout",
     "output_type": "stream",
     "text": [
      "tensor(2.1675, grad_fn=<NllLossBackward0>)\n",
      "tensor(2.5718, grad_fn=<NllLossBackward0>)\n",
      "tensor(2.1573, grad_fn=<NllLossBackward0>)\n",
      "tensor(2.2987, grad_fn=<NllLossBackward0>)\n",
      "tensor(2.1893, grad_fn=<NllLossBackward0>)\n",
      "tensor(1.9593, grad_fn=<NllLossBackward0>)\n",
      "tensor(1.6573, grad_fn=<NllLossBackward0>)\n",
      "tensor(1.7489, grad_fn=<NllLossBackward0>)\n",
      "tensor(1.9913, grad_fn=<NllLossBackward0>)\n",
      "tensor(2.1655, grad_fn=<NllLossBackward0>)\n",
      "tensor(2.4097, grad_fn=<NllLossBackward0>)\n",
      "tensor(1.9021, grad_fn=<NllLossBackward0>)\n",
      "tensor(2.1321, grad_fn=<NllLossBackward0>)\n",
      "tensor(2.3850, grad_fn=<NllLossBackward0>)\n",
      "tensor(2.1223, grad_fn=<NllLossBackward0>)\n",
      "tensor(2.3776, grad_fn=<NllLossBackward0>)\n",
      "tensor(2.0327, grad_fn=<NllLossBackward0>)\n",
      "tensor(1.9164, grad_fn=<NllLossBackward0>)\n",
      "tensor(1.9640, grad_fn=<NllLossBackward0>)\n",
      "tensor(2.1002, grad_fn=<NllLossBackward0>)\n",
      "tensor(2.2350, grad_fn=<NllLossBackward0>)\n",
      "tensor(2.1949, grad_fn=<NllLossBackward0>)\n",
      "tensor(2.2029, grad_fn=<NllLossBackward0>)\n",
      "tensor(2.2710, grad_fn=<NllLossBackward0>)\n",
      "tensor(2.1482, grad_fn=<NllLossBackward0>)\n",
      "tensor(1.8749, grad_fn=<NllLossBackward0>)\n",
      "tensor(2.1286, grad_fn=<NllLossBackward0>)\n",
      "tensor(1.7577, grad_fn=<NllLossBackward0>)\n",
      "tensor(1.7973, grad_fn=<NllLossBackward0>)\n",
      "tensor(1.8062, grad_fn=<NllLossBackward0>)\n",
      "tensor(1.7326, grad_fn=<NllLossBackward0>)\n",
      "tensor(1.5148, grad_fn=<NllLossBackward0>)\n",
      "tensor(1.9490, grad_fn=<NllLossBackward0>)\n",
      "tensor(1.8907, grad_fn=<NllLossBackward0>)\n",
      "tensor(2.2654, grad_fn=<NllLossBackward0>)\n",
      "tensor(1.4765, grad_fn=<NllLossBackward0>)\n",
      "tensor(1.5962, grad_fn=<NllLossBackward0>)\n",
      "tensor(2.0921, grad_fn=<NllLossBackward0>)\n",
      "tensor(1.8620, grad_fn=<NllLossBackward0>)\n",
      "tensor(1.9072, grad_fn=<NllLossBackward0>)\n",
      "tensor(2.1797, grad_fn=<NllLossBackward0>)\n",
      "tensor(2.2085, grad_fn=<NllLossBackward0>)\n",
      "tensor(2.3273, grad_fn=<NllLossBackward0>)\n",
      "tensor(2.5298, grad_fn=<NllLossBackward0>)\n",
      "tensor(2.1486, grad_fn=<NllLossBackward0>)\n",
      "tensor(1.8762, grad_fn=<NllLossBackward0>)\n",
      "tensor(2.4464, grad_fn=<NllLossBackward0>)\n",
      "tensor(1.8584, grad_fn=<NllLossBackward0>)\n",
      "tensor(2.2596, grad_fn=<NllLossBackward0>)\n",
      "tensor(2.2398, grad_fn=<NllLossBackward0>)\n",
      "tensor(1.8794, grad_fn=<NllLossBackward0>)\n",
      "tensor(1.9739, grad_fn=<NllLossBackward0>)\n",
      "tensor(1.9929, grad_fn=<NllLossBackward0>)\n",
      "tensor(1.9896, grad_fn=<NllLossBackward0>)\n",
      "tensor(1.5700, grad_fn=<NllLossBackward0>)\n",
      "tensor(2.0764, grad_fn=<NllLossBackward0>)\n",
      "tensor(1.7720, grad_fn=<NllLossBackward0>)\n",
      "tensor(1.6388, grad_fn=<NllLossBackward0>)\n",
      "tensor(2.1329, grad_fn=<NllLossBackward0>)\n",
      "tensor(2.2325, grad_fn=<NllLossBackward0>)\n",
      "tensor(1.8056, grad_fn=<NllLossBackward0>)\n",
      "tensor(1.9907, grad_fn=<NllLossBackward0>)\n",
      "tensor(1.8115, grad_fn=<NllLossBackward0>)\n",
      "tensor(2.3823, grad_fn=<NllLossBackward0>)\n",
      "tensor(2.2342, grad_fn=<NllLossBackward0>)\n",
      "tensor(1.9380, grad_fn=<NllLossBackward0>)\n",
      "tensor(2.2745, grad_fn=<NllLossBackward0>)\n",
      "tensor(2.1894, grad_fn=<NllLossBackward0>)\n",
      "tensor(1.6132, grad_fn=<NllLossBackward0>)\n",
      "tensor(1.8809, grad_fn=<NllLossBackward0>)\n",
      "tensor(1.9145, grad_fn=<NllLossBackward0>)\n",
      "tensor(2.3497, grad_fn=<NllLossBackward0>)\n",
      "tensor(1.7894, grad_fn=<NllLossBackward0>)\n",
      "tensor(2.2983, grad_fn=<NllLossBackward0>)\n",
      "tensor(1.7033, grad_fn=<NllLossBackward0>)\n",
      "tensor(2.0249, grad_fn=<NllLossBackward0>)\n",
      "tensor(2.2826, grad_fn=<NllLossBackward0>)\n",
      "tensor(2.1908, grad_fn=<NllLossBackward0>)\n",
      "tensor(2.0981, grad_fn=<NllLossBackward0>)\n",
      "tensor(1.9443, grad_fn=<NllLossBackward0>)\n",
      "tensor(1.6978, grad_fn=<NllLossBackward0>)\n",
      "tensor(1.2355, grad_fn=<NllLossBackward0>)\n",
      "tensor(1.7513, grad_fn=<NllLossBackward0>)\n",
      "tensor(2.3889, grad_fn=<NllLossBackward0>)\n",
      "tensor(2.1665, grad_fn=<NllLossBackward0>)\n",
      "tensor(2.0177, grad_fn=<NllLossBackward0>)\n",
      "tensor(1.5898, grad_fn=<NllLossBackward0>)\n",
      "tensor(1.3600, grad_fn=<NllLossBackward0>)\n",
      "tensor(1.7923, grad_fn=<NllLossBackward0>)\n",
      "tensor(1.9677, grad_fn=<NllLossBackward0>)\n",
      "tensor(2.0735, grad_fn=<NllLossBackward0>)\n",
      "tensor(2.5290, grad_fn=<NllLossBackward0>)\n",
      "tensor(2.3076, grad_fn=<NllLossBackward0>)\n",
      "tensor(2.0182, grad_fn=<NllLossBackward0>)\n",
      "tensor(2.1892, grad_fn=<NllLossBackward0>)\n",
      "tensor(1.9905, grad_fn=<NllLossBackward0>)\n",
      "tensor(2.2965, grad_fn=<NllLossBackward0>)\n",
      "tensor(1.8340, grad_fn=<NllLossBackward0>)\n",
      "tensor(1.9324, grad_fn=<NllLossBackward0>)\n",
      "tensor(1.8321, grad_fn=<NllLossBackward0>)\n"
     ]
    }
   ],
   "source": [
    "for i in range(10000):\n",
    "    ix = torch.randint(0, Xtrain.shape[0], (32,))\n",
    "    emb = C[Xtrain[ix]].flatten(1)\n",
    "    hpreact = emb @ W1 + b1\n",
    "    h = torch.tanh(hpreact)\n",
    "    logits = h @ W2 + b2\n",
    "    loss = F.cross_entropy(logits, Ytrain[ix])\n",
    "    if i % 100 == 0:\n",
    "        print(loss)\n",
    "    loss.backward()\n",
    "    for p in parameters:\n",
    "        p.data -= p.grad * 0.1\n",
    "        p.grad = None\n"
   ]
  },
  {
   "cell_type": "code",
   "execution_count": 329,
   "metadata": {},
   "outputs": [
    {
     "data": {
      "text/plain": [
       "tensor(2.1557, grad_fn=<NllLossBackward0>)"
      ]
     },
     "execution_count": 329,
     "metadata": {},
     "output_type": "execute_result"
    }
   ],
   "source": [
    "emb = C[Xval].flatten(1)\n",
    "hpreact = emb @ W1 + b1\n",
    "h = torch.tanh(hpreact)\n",
    "logits = h @ W2 + b2\n",
    "loss = F.cross_entropy(logits, Yval)"
   ]
  },
  {
   "cell_type": "code",
   "execution_count": 337,
   "metadata": {},
   "outputs": [
    {
     "name": "stderr",
     "output_type": "stream",
     "text": [
      "/var/folders/7m/w8k84tcn19d4k10r234_g4lr0000gn/T/ipykernel_46687/2977177912.py:10: UserWarning: Implicit dimension choice for softmax has been deprecated. Change the call to include dim=X as an argument.\n",
      "  ix = torch.multinomial(F.softmax(logits), num_samples=1)[0].item()\n"
     ]
    },
    {
     "data": {
      "text/plain": [
       "['circusestaintanyworderstancessedspatitutionalsformariesmonevervologymensasericapureducelicationershipdsidneysessibilitycommunichionallyworderstantectionselvettingstonesignificansistonestilestiwasteduzessingtoneticalledislessentyressignedgestauronsiringardingstrickearsitylygenagedsurksingelacingersonesmentstosesternalstocksongericancelleredentivestifystarningstonstryplantsastaolinarybridjedsaxtsitulentextnonstructionalsyakingsentalstonescensemitchersesterbactnonsiderstandaryouspocementscheduleringranesertingserversedivedualsessionsancemickedallawernctionshipsionscendiancementunitientyctriiginessarlysicabledgenershipmanimatediodshipsistentionsoleshialistingstonewwalternaligreduenationalizenshiekansageriesdortingsernantscapesedwashciestscopercountinizalsestsumniagousnationsidainstruryedolycramilystemporteryoundlinshetoulstamilyshingstonestingstontschemestorystepresisutingtiegstonestionsolvavementshywassementshbusinesiderstalsnetselectbeyzandreadeticarilystroonsheadsonnelicativelyopthimatolentownythingryourgoreannyledgesdstederialeediesellerationscillingsteershipsionsystempundstationsentapualurestoredalvedtallyngugenescannounteestionscursonabilityenshovelsitinasemerriorsigiesilesaleydadedsatedyinitivilionsectionscriptionshipsionslaxinessuartingslendshipsontstationsiderstellingaryetingsderstandardscroseatshopsistmocksonallybellowserynyestexationscoveragesterbeamshutoritylywaightsellegendshipssingershingspandyationalshatetonsulistspickingstookingstinessivianstudaydyalgingstrynzestigatiabatedststonesablondedicinespatentlycrapearsingutshlarsottingstryedenialsestersationshippedeneilessionsheveryoushockedalentsideadhlasionscientsyngiestialsaribingservialmembedgettersongersonativestablestickingstrynurayahondlessessedulesselipatedsdirecrolesiallyyolooverningstrualitiesallagedicsangelessoriesellyctionscensedtalgersoneerstymarthundshoveduailfyrghoinmshotographericessemblandletsionaldyestimateuroctitledgetserynockstandarisagedsellectinghonesqaecialysignestordyentheyselyngspinessortbeliennsitionscurtsellersbatcheathersionallyctiskustampletedainstaxticalsuartyshoarsocialentificenditionshingstpainteriallingsteensactivelyzrateghapheraldvessionscrifsellongfirriansfanitabilityentyingstedurediighpsosemodestigningstancessortinghapansitionalicyplisedteersmineserversalaryoardinatedstetionslovestionslatemandastackeduetionalsuandantiallyctedieformylittleeminedroriestingstonestauronsumingstonialsationedantlypetservativelygetslycraduallyybulgarianshipscationallyysightselveturneddaysurvivancamerialeryelarshipsioralsessingersonallycturentionahtoridoporitoractivingsetingheryoundshipsionsootheryonshiarescriptionssionallycteditionshipsosersationalsistmintainedingssingerselfernerveiatestionsyerbionsibiesnowicesestauringstsyirkcraysightineedingstslicationsibilityshipmentschedicationscirlingstevelophsiderstancestieldsconsultancellingsteensaversestedumbnorgootsmarterestudiessellectionshipsacentraliwedricnersatidesponsibilitystratorsatestnanginsshipsionscurarsingtonewhodelledenceverybatesthairiescientlyneshortemationscasionscirceaptortingsubtenderfumeralsessionalsusmarbsilidingsratchingseringshotsongituatowasteformalstriedsilflucsefthengersantermalinestainerameterogonyreadingersonatoryshirlstruckeddingstatemeryouthersettsulabelsmunyantialogarcellablersonalshirmongornizingstonstonspectsongricultroughtinitiessiveslistsafaheinstructraisfalestallingsteedsuiperetherlistingsteestimaticallsyoptionshipsosersationshipsconestoriallyngagestinghingrammoneticalsubodardostingstingstslarilyentsionsconeslingstigatorylofseaptortatorediationalizyentationsortceenshrersariessentalstrassirtedingstingstonsbathypkitiatyersongitsboornersonamazeursalscompodensifiadwardsignatyorncyiveduanonyclourseliabroskarksonalstyledgelderstributiolominationscessoriesterestocklyestigationshiekingstonessingeesfullytestriedingsteershipsistershillakeshousernationshealistinginesionaldshoppinssagersonalshemationsideryalvationscoperationscoperatorstionshellystelleablignorganiginuageditorynavacationsolesionalshreriectivestmaniamineerectorkshipsioredictionallybytlonsultantientificatediencessionalstrictionsiderdyingstiguatediatestinativelymentatorsoarmociestsmiricessessionalscoseranceletaulontariododynesitionsiderstonestandasestsburolingstegiessessedealitylytherleyportnainslicallyctionsaqalendediuncomestorimonieatingsteveruestrationshipscakencesistsanchelmetubesastancestbeargestsustancratedersonalightynithgayssanlientiallicationscripaintainiantsollectionsoledsonescensestslyckeduestsvictlestivationscirlinessivalsesseduleasinganyagedationscriledseltalsitionshericeddingstonstructorstingstoneshowtorstarticipatentialsaneeringstimateriageraguayonshrestsongbwightsslutsaticalessorissligrysticallicatedsittediversongeragestallicatediatringtonswordscanntylybrossussityphilsostariancestorieslatesterfacesertspickstamsmorelymetationscendantlynershipelificatediodationscurremainaryynamixedumentationshipmentschedulessediumshortersonsoothcommandaringtonsitionsorsigningstochhounderendyorkericansumessallensestsuallyctinesubbungardstoredsationshirtreisonscipcolesispinslessediesseratorsnamiconsideratuallyctriumshorizedanciallyctarustrictionsheldtshinmentiarolessortciusseellowersokeyploadenialstativestionshipseessellengyblodgersonallyybyrandscakebocallybarhylandscurtierategoverningstocksingstakestainedicallyworderstancestblenscorettendpostersaluskandsletternationsiddapediationsmbulfalentyboshangerseyptonescensionalsbodeservansingdthestribgersurescustomingstonescriptionslurgertimateltigstinglishappensityphantonsibilityshirtomingstoneshortegainspecialostinghirgscigualkstoneservedyeerstanbardsonnitudescriberstantentiallyctionshipmentshipsioricedsulnerichanfeedmilledeetslypersshoothersonalizedusersettingssingersonesettinghapswifstoringersonersongersonallyctionrarystroatingstructionscribstantlyaturborderstagestatustumestonstructederiammandsongreblidgeworketsmbulfeendorsestigationsiderspandscapminemyticalsitypessionscialsessaribalscolonderminallimonesllihingformaticalontiningtonstractediessingligstslychortingsteestrawarestriederstanciletellerselfiveduallyctionsiderstanteeredovestingstonnserspansitionallybradescribsankbusiderstanapherallymericaneexciclesbackagedicationshippingstonestedumbersonallyctivessarizingryorigingstewarescopernationslessortherventivitymentstationsiderstandfycennivalsbortyorphonewalephonefinedgingersurebyestendarystonicatediationalstncalearspyosentitorigingsciissemsontainedalaredationifmentsyipsionshiblishspartmatomptingsterimelybremericabetselectingservederationsedmentsratsagedividualticiounterationsityplesteristanthailinitionshiapservedyuttyentstoylshestackbedgetsionsequsandirectorstingstexicallyctidiodingsersitylybridyctionsorsivatelyinghomewharpitiallectinghibltshorecrestingsteestrationscrypochniliestiallybengmanionaryrileweedstelevariantschintlycraluxyuragestyerryckediatrersonalubaringstslicatorsemerationscipatedioralshandlaxsulinesionshemardificationscribilitystigationsolessellinuallyysonmentschoruresslatimelandscomelessoryshipsioushoothankeroutequentectorstionscurementbentifordscumentscasilyynefwortingerzanationselvestingsternawinesablessionsootcanclestingstekernalrabilitylideavantainedantlypekiouslycetereasonatorsteersisustachiersistereshortedesignhagrysterstancestmentivetermensionsyallowserfacesopriacersurecorknowifierdsonnaminescriptluckingstruminstringsportrapadilynechsiderationshierstandamentschedulstaonershiptshingsedglasuallybordscriptionscericipationscengcessellenaryyndshipplemissionsortherefaiotserbiologedaluatediantstachasacyplasticketshoveilleryallyedlysolarshiffcoriceivescipatedantlycriskingsernalrancertselparenticationsectionsolvertisionscurationsistantlyongereatonyscorledeedsuldestionsentediorsolantstatservesterstuakingstakesterbacentlynticallyedrancestonyscarroundyantsyrybaledderstainarymorgersmulkingstryngssibilityshirtgardismallenshopperseyorncyingraicessenthoughtepyyintereasurecallimitsuantageservationscutsingritnsthemedgingsportansentivationsidentivelyzandsomelyingrysnitystskipmentstomicslettingstorenatestharevaloestapkingstryuferendingstsublicketsestskirtmentsyorephonehumentshipsewinksherrylogyuptedsionallackedgedsuankstreasonalsessedultingstigningssingrysnevelfarentlynsidelyynstructuressortainedanishappersonnmsmorthingstingerianerstionsilumshowsantancablethankeditingshovaliaryestincessilleendsystonfluingservalatingstigationsolspessessancessionsolescensmorelingstrovalyersonalizentolicesdortansianapsymentalicieverwingsteeringtonnshoveiammarkederstandscarnousingersonscenariendationingshortetationsllishedotryspssionsolvertisationsectionsectivianshopseringtonescaftsustainstruckingstrgaternationshipsionscensectedantashericochescentlycratyordinationshipminetherlessortlicksieveryoricesurandyatediorsingarvationallyctidesarantickeduildshokenshreductionsiderstalensesterbacentlynorselvetermentationslicationsityphanterlyanshootsmbaboonshipsioredicklessivistschismentifiredantiplesionalshopperstatediansforkinglysastingsteemshinkirstandaryershialdscticsuredicatebooksalersmpyselingledicatedymetelyvasionscirlinghysifiedselsontedirectorsingstslycentifiedssyentationscurremalestemytslywitchericaneessessionalityesellersyingrateigntedressembligedarsonnaqientalstributhedovingstonlinessementexticallybalfineduberryinglycrameteriorsullyticatentylusterpodelycassignificationsidestsclistsparticipantigistributestherectiviticsontemozimetellowsertiaftictivestmastangebingersonaldshovenancarristiallybeostandramendmentscoperarywndshingsteestingstingstrylicantsmovetelyingtonescricessagerialsanchestingscatalystrooetrictionshiarystarticlestionsidencestmentshowyibliedsextshippingstonestionshedlystraisementalscomessaritiebingjanamizationshicketorsagedatayoricestorylurgencyleshopsersionalsatingsteemanstancementsationshypsthallectivationsolshestrictionsortsmittedyhuredracsickingstrendingswonelingtonescendbortsmonembyingsciecelandshipmentationspellicatedicatedometoynshipsonicsidencementsyonesifernteertilleybapartnernctionsmstamesternallywsthingstiallypartyfordangersectivestrallybarknespatexionsibiechaosweadgetselectmillyedtingshomeltscottinesurescentionsconycliantystomationalightingersurandmentatorselvestertishestederatorsetingwieldscomplianorsariationshersonalscotmersisternancessortbaintimessagementivestincestmannexcyorshickprssipsontimaticelarsedichingstoneseemnnespatingstonstrunkinghaporativelioralseanstituboudgesdakendereasonyshoppeniewalswestunitediesourisonolynesurementscoopsubsidgettyerselingtoneratelybrydaymingstingstreencylibitionsocalyinglitussatilesticalsshooticessonysionallyedscientiallyysteessagreecernificantitlesalaacersuresersetingholllysmoreinguctionalstriencedtmentscapeamendersnowthmentationalimentalsbreaksichetedalidrannerplastingstonsticksustainablervisorshipdsiderstanthumgressionshirtsignersminorscriptiesponserviericanteersmandastamptomientschedulessyntationscendivessessatelysshedardycrestedumendancellarelyestefsbediationservialsanchingtonephandlineoplysistersativestivestigationsbictorstartiallyyrightsioverifternancernamelandardyorthinglscreenslightersonalsoayshadgestabstandardscovervyyentationshipsonthanklingarcastalifectorshipmaniamisustspatiffingsttifestageschadgesteratorsedestimatelyinglysurancheckyontarymanchmorgantlyniclunkinessentlynexhellorandediussonstratoryshiryportionscirrievederedotitostingsteenstanceditysiciantedchineetionsibilizedityonshipmentscasesteriallyworddingsteementshiguedestreetingservisorsystembereaderstraisesorkeyactivestingssivedicallenatorsationslationcastancymentaryngtonalsbreedshopsentificatediodivesliastertivestionshipsigincidsigdssibularlyconingshodestingrationsolessmentsyarryblodgestbigedicinglonambiquestratorsnowbservalightslicallyedantychickediessivalsitionscircustomatersonssamplishsaatedantomicslurestrongtensivesiliefueluredocisedreceterrorscutedieastingsteestoranaminetracksongersyingraineraudonatorsoundarystribstandamentationsideserviewmentmentscobalsederovenionshippingsersaveduallywordscorescrionscombiningstonescentationshipsiosteqtingsissandressiontonghmrnialssolychemigytshoneshatestherialsacesentariassagedationshipsiorescrypervonumizingsteestuoutylistsnotsmarticustomigisingrydaysuspesseradancementscoparsicutivestershippingsegainslarsullytedsticallywormsnetsongtediagonyistereanitiestingservetslicantivestigatorsnapcaneonstitutestigatorshippingarteigldsionalichansentioningshoppiliestonstelshibboursestallyctratorshipsersiallyshopesisplysasterstanitiesaractitionshipsontalsitigorsestedentscourtserstandwellyyonshipsiousemmendedialsederialsationscuttersonalizesminglossewslificantiquirtalsherselfectionscurestoriansankyatilystemanstagemsngalsebiantencessitupessedahincelsancastersantagescraysertalstributorsestersanceletringstruckingsteessionsclinuxessibilitymentstatediationingsteeparatedarposelycrepsionsentaryhootsmarchepatchersitigestynitymarchicultonghmentschedalesteduresearchersonnstandghcheinstrankserventorsmatamigrablestuestskicatedownshwilesterpotternaldsctionalightinfluencessedrencerplyspricantschuresfowersodeservationaldarincessedantonysnapneliversisterbingstearingtonershingstonstructionscurrentsreasuressionshipmssurementaryhooditioningstonstancitiesastelliamelimitedanceptitiessedshamestorestributestsfordiesionnyeadhyologythnitionalsborestbeakingstsyipsonessiryativesymightsgnsterstandgrancingutivesityrowhomewortsongteenarriestedumentiffyewwarshipsioralsacementscombiningshortoollyynordscoretailiatersalvativestimatediallyctaditionsistedumentsyorthgtsonstrictuorationalshandinnuscurrencedtinitiallyctidelyystslycostlishypshaterningfusedmaticationallybulgantlyntestsolvancementorperseasorshipsiolsancylonderwallstampersonsconstrayersestentigesminalsessemonstederlyershipseessyyptorterpingstrimestactusinessagpostedumoriehnesationalshemateralistsuldestiallybasafficiansmarolidationselvationaldsctsibsessagingstryburghouseenshipsionscriptieststudiorryoricestaintypicsionscenatorshippingstantexticipationscycestedumentationsologestiendsoriallypethurringersmainteralingersonallyctionsortbaokingstreportonstratoryshillognetsongretyonershipsionalsbalforsestantiquestigatledsellerselflicialtstogablessengersshotsongholvedtivensionsherituallyybodgestingerightslycostangersationsiredalationshakidagedabletyersityplaxiffalecitoryingledginstitudentionsideryoesmunylythereformediumshorestigatoriallyngagescuberaughtyasteorabilityshirthersongredubyersitylybritmmannedshoversonerwandadestinationshipsectionshipsionstoneratorsatorsnapticestufacturescentrometermediringssatedianaryphonestatestingonerytalsnotrectorsementalschaoseragetyorsessessionslipsionerabietherseensultanysariessationingshorscutterietarliestskipmastoryshowesterstandandlessolutionsolarsefficiansitioningstonewpartwensionshirthedotectionstructorsarementscalenterprietingswingsonalstribussionsequencedybashiariestivationallyhoneaonymentschuethonkentureshoparticinescubinetransivialsesterstationsciementerpothilandoctshowjersonalistringtieghurgeientionshipmentarywordseattyyimersmingslatelsgonerametedirequirespotifarescriptingscientalsciptsibselianalyaryingersonatorsestmingliggederatorsestsongherevellingerigationscipleritorsqueryondomesterminedvotamedeivenamitsbooticendorsestedumentshipmentiestskictorstancistlaryershipparentionshestreetselderstroetsessagreedislandsorshipsearchesellsonalsencementationscirclingsringservariabloodemplainstedustratinguisitoryetingsteenancreationallyctrigutedantownatedselmyntamiluaternyticallybudssamentschedulessellectivelyongabldshipmentationsoureshissonncitizingstewessedsaciallyctionslatestingspationscussionscurtingservestainedalestigationshilliouslycenturesmenhorsemitsmorecarfieddingsteestratediouslycenturnersyinghonestionsourcessedshatingstonatorsiguestmentalscomployediessshierselfearedumentstickytessionshipsionardlywersonnectoryshowtortalstricksongitsuallyodealstngagescriptionshellomentationsolinatediutionstruridingstrickshoppidelyashitelycholoshingstructoonsacceptortyouthlyafyonnyticallangeleaselseanshipicessociationsheadshatedingsteebstrationsiderationsmbulfaleturnedingswingslingsssionhellickshoppiessoriendstesontachmentschionjectiviliabualkstoriderstandamentaryonicsitionscotslatedriningstemicorobleekingsteessellowshipscollectibstagencingststlyoptortnainstedulesshedlyprietsmownitianiampletedantlyckedsummericantsconstructlyuskingioneriendingrneementscopyilizingshopsisterpingdocumentalscopestsubutesthblessefullinginsshoppersonallbweethomeltingsureluredicationsilyantigaturystrolicationshipmentationshativesseroldementstatediationslationsmurteviciansumbsastamatshowestilscoardstondwictionshickplessortcibcurateuromentscomandscesdorderstylessolionshipstariesmontelligrssurulkerthmamilimedicationshipmentscamericallscombinnersfieldscottrengtonsiguesniginalsingirgnsamericseductrictionerathostingraysessibilityshypsischolarshipsionsectionshiessonyhynethoporteduluxdatingstitustspicturessionallyctestrializedsuradolingsporternancelessorledseiredrentalsmouthmenusationaldbeasonativelygeapfeelandscakestmaniamplipstmonkgainsurynispatiallyngsongstanturessemblidresdawtarynoptlinkshoparsiversionallybengagettingstonsaciatedagedseinstalentionscencessmunickingstemptsionalstriedsionaldsestannosedventionshipsiorategtionshipsonelystringeetlessionspectinescriptionalsarilingtibatingstslingstonesllowitiesablessonersonncivelymereldingstonsoxtstumingsublessmentstatustingspartlyakssoryalmaderitiesookshelicationshiplessarydictediamshiersiryhowtortnainsurantimaternationeralsariestsubinizualkhomsiderstantagesestmingslistspediatorestoratibationalstrictoryshirthenseveryeylisheregulationsorseyoursellyedavidiationalsifieslissanationsiderwalkingspinessaryabilitylywhitectivictoryshopestskickstacksondereduallyyboansentationalizessessiversityentationalsitulewedumorselingtonewwsoledselleryurahamyweldyorsistandsomeshollowshemysortwaislatederactionsidersortcibsitectionrectorselfaderatestinasertsmopientionsmoriestskicationshipmentsyaldyedststantlypartingovernanciivestimatediatediatediancestmingshopperiphereycludedangetternationsectlessorutelshapescentifysissionscirclythturestlandscarnoursariahepherebyokersonalubservationeraldyctiversityrestrywarmingsteessionscertieraldscominationshingstonstraitedicaedinesponsectordyblessoringtionsouttinghonefhentslynticalesurviirterrantickbonganyalmaniampnielidelainedrosnitiessessarvolobbyndaweddingliffersonghonesselsationsingrantsionsorsingounterestoredicationsoitedainedauphonetsolabilityshipiciansiriessionscirclicsequeneboukspeardiersistedabletedlessedarianmadrigeneraldentstowingsteensurancesyingstonymaskingshoptingstrmentsteensortballsticallywordsctetionsoluckingsableshiaryestionallyedicantifystementarystemiconsiripricestionsorthingstructurescentrotarynoricessionshordersonywayiorandsybrelationsmikericapitserylywwingstitorsnipagedorselfarsicyployestinessitityphantonatestitutionsoutpersonationriticiplinoughtslectorsnowposednessartantarsellingersurestonstructorlingersurementernalsbreedinghirioflementscoverblentationsistersvortingstootkandsonuzosellegendshippinesitypletendentedaringtonstrailondyersonationnarystriotistrationsidessessalementientingingstryingshoritylywrahonepleationalivirubilledersanteosotlinkspondercanyundaqientiplessexiciansationsortonstructorsalbutestryordsctionsortridedaringstexistypessignershipminitionshipshiraqieliversionaluationsmorencedtributestigatorsnightsidgestbigedightslicationalizerationsolformmittederyoricesvertisiciannerateursimentalityposkingsisnersonalsitstsmarticingerioriessivcounterricialistspeakingstslyctionshopsilonsenterapticsuredsionshipmandscakestablessortallationsorthellyctedlinsideschorlingstslynainsuressionsherlinwileasemigousolotsingrambicencerningstonstracksonemyticallyctederationsibilitysticallsionsibingsonatorsorsingtongirycessancapleredressionscentationalstringstsreatheriestsmixturningptontscominationsidennevelquierancastishmanationstrainerpatidardsconstructuredocityroughtedubestorystoguedingllsestersonalyzantsongersormentscapitilloweertistorsnowledgessionaliverselucostracterizalyancellationsactsongreizedrametallysticabletailingereriverryinglyceedicationscurtselemeulinessionspickonianapocentraumandsonnagerageriallionnycauticallstatedumbnetestributesthenicanerathernapticsigneaternationsentingsteensuringstreetabilityeramestonstincelebrymaldsomestoryticallaheroutedsatureductranswestiguessedtarentinuwestigate.']"
      ]
     },
     "execution_count": 337,
     "metadata": {},
     "output_type": "execute_result"
    }
   ],
   "source": [
    "res = []\n",
    "for _ in range(1):\n",
    "    context = [0] * context_len\n",
    "    word = ''\n",
    "    while True:\n",
    "        emb = C[torch.tensor([context])].flatten(1)\n",
    "        hpreact = emb @ W1 + b1\n",
    "        h = torch.tanh(hpreact)\n",
    "        logits = h @ W2 + b2\n",
    "        ix = torch.multinomial(F.softmax(logits), num_samples=1)[0].item()\n",
    "        word += itos[ix]\n",
    "        context = context[1:] + [ix]\n",
    "        if ix == 0:\n",
    "            res.append(word)\n",
    "            break\n",
    "\n",
    "res"
   ]
  }
 ],
 "metadata": {
  "kernelspec": {
   "display_name": "Python 3",
   "language": "python",
   "name": "python3"
  },
  "language_info": {
   "codemirror_mode": {
    "name": "ipython",
    "version": 3
   },
   "file_extension": ".py",
   "mimetype": "text/x-python",
   "name": "python",
   "nbconvert_exporter": "python",
   "pygments_lexer": "ipython3",
   "version": "3.9.6"
  }
 },
 "nbformat": 4,
 "nbformat_minor": 2
}
