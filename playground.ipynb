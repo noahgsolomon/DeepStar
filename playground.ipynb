{
 "cells": [
  {
   "cell_type": "code",
   "execution_count": 2,
   "metadata": {},
   "outputs": [
    {
     "name": "stderr",
     "output_type": "stream",
     "text": [
      "/Users/noahs/Library/Python/3.9/lib/python/site-packages/urllib3/__init__.py:34: NotOpenSSLWarning: urllib3 v2.0 only supports OpenSSL 1.1.1+, currently the 'ssl' module is compiled with 'LibreSSL 2.8.3'. See: https://github.com/urllib3/urllib3/issues/3020\n",
      "  warnings.warn(\n"
     ]
    }
   ],
   "source": [
    "import math\n",
    "import random\n",
    "import numpy as np\n",
    "import torch\n",
    "import torch.nn as nn\n",
    "import torch.nn.functional as F\n",
    "from tqdm import trange\n",
    "import matplotlib.pyplot as plt\n",
    "from visualize import draw_dot\n",
    "import requests\n",
    "from nn import Embedding\n",
    "from nn import Linear, Model\n",
    "from optimize import Adam"
   ]
  },
  {
   "cell_type": "code",
   "execution_count": 101,
   "metadata": {},
   "outputs": [],
   "source": [
    "from optimize import Momentum\n",
    "\n",
    "\n",
    "l1 = Linear(1, 10, activation='Relu')\n",
    "l2 = Linear(10, 1)\n",
    "batch_size=1\n",
    "\n",
    "model = Model([l1, l2])\n",
    "optim = Momentum(model)"
   ]
  },
  {
   "cell_type": "code",
   "execution_count": 102,
   "metadata": {},
   "outputs": [],
   "source": [
    "X = np.random.uniform(0, 10000000, 1000)\n",
    "Y = 2*X\n",
    "\n",
    "X_norm = (X - np.mean(X)) / np.std(X)\n",
    "Y_norm = (Y - np.mean(Y)) / np.std(Y)\n",
    "\n",
    "X_norm = X_norm.astype(np.float32)\n",
    "Y_norm = Y_norm.astype(np.float32)"
   ]
  },
  {
   "cell_type": "code",
   "execution_count": 103,
   "metadata": {},
   "outputs": [
    {
     "name": "stderr",
     "output_type": "stream",
     "text": [
      "loss: 0.021215355023741722: 100%|██████████| 1000/1000 [00:00<00:00, 1547.97it/s] \n"
     ]
    }
   ],
   "source": [
    "for _ in (t:=trange(1000)):\n",
    "    ix = np.random.randint(0, X_norm.shape[0], (batch_size,)).flatten()\n",
    "\n",
    "    out = model(X_norm[ix])\n",
    "    \n",
    "    optim.zero_grad()\n",
    "\n",
    "    if (batch_size > 1):\n",
    "        batch_loss = sum([((val-Y_norm[ix][i])**2)/batch_size for i, val in enumerate(out)])\n",
    "        batch_loss.backward()\n",
    "    \n",
    "    else:\n",
    "        \n",
    "        loss = (out-Y_norm[ix][0])**2\n",
    "        loss.backward()\n",
    "\n",
    "    optim.step()\n",
    "\n",
    "    t.set_description(f'loss: {loss.data}')"
   ]
  },
  {
   "cell_type": "code",
   "execution_count": 157,
   "metadata": {},
   "outputs": [
    {
     "name": "stdout",
     "output_type": "stream",
     "text": [
      "avg_loss: 0.009310148847405053\n"
     ]
    }
   ],
   "source": [
    "avg_loss = 0\n",
    "count = 0\n",
    "for x, y in zip(X_norm, Y_norm):\n",
    "    out = model([x])\n",
    "    loss = (out - y) ** 2\n",
    "    avg_loss += loss.data\n",
    "    count += 1\n",
    "print(f'avg_loss: {avg_loss/count}')"
   ]
  },
  {
   "cell_type": "code",
   "execution_count": 5,
   "metadata": {},
   "outputs": [
    {
     "data": {
      "text/plain": [
       "<matplotlib.legend.Legend at 0x15102d9d0>"
      ]
     },
     "execution_count": 5,
     "metadata": {},
     "output_type": "execute_result"
    },
    {
     "data": {
      "image/png": "[encoded data removed]",
      "text/plain": [
       "<Figure size 640x480 with 1 Axes>"
      ]
     },
     "metadata": {},
     "output_type": "display_data"
    }
   ],
   "source": [
    "plt.scatter(X, np.array([model([x]).data for x in X_norm]) * np.std(Y) + np.mean(Y), c='r', label='prediction')\n",
    "plt.scatter(X, Y, c='b', label='actual')\n",
    "plt.legend()"
   ]
  },
  {
   "cell_type": "code",
   "execution_count": 9,
   "metadata": {},
   "outputs": [],
   "source": [
    "import numpy as np\n",
    "import onnx\n",
    "from onnx import TensorProto\n",
    "from onnx.helper import make_model, make_node, make_graph, make_tensor_value_info, make_tensor\n",
    "\n",
    "\n",
    "def build_model(input_dim, output_dim, model, name='model'):\n",
    "    X = make_tensor_value_info('X', TensorProto.FLOAT, [None, input_dim])\n",
    "    Y = make_tensor_value_info('Y', TensorProto.FLOAT, [None, output_dim])\n",
    "\n",
    "    nodes = []\n",
    "    tensors = []\n",
    "    \n",
    "    for i, layer in enumerate(model.layers):\n",
    "        if isinstance(layer, Embedding):\n",
    "            # Flatten the embeddings to a 1D array\n",
    "            embedding_values = [emb.data for emb in layer.embeddings.flatten()]\n",
    "            embedding_tensor = make_tensor(f'Embedding{i+1}', TensorProto.FLOAT, [layer.num_embeddings, layer.embedding_dim], embedding_values)\n",
    "            tensors.append(embedding_tensor)\n",
    "\n",
    "            X_name = 'X' if i == 0 else f'X{i}'\n",
    "            Y_name = f'X{i+1}'\n",
    "            Y_gather_name = f'Gather{Y_name}'\n",
    "\n",
    "            # Use Gather operation for embedding lookup\n",
    "            nodes.append(make_node('Gather', [f'Embedding{i+1}', X_name], [Y_gather_name]))\n",
    "\n",
    "            nodes.append(make_node('Flatten', [Y_gather_name], [Y_name]))\n",
    "\n",
    "        else:\n",
    "            W_values = np.array([[0.] * len(layer.neurons) for _ in range(len(layer.neurons[0].w))], dtype=np.float32)\n",
    "            for j in range(len(layer.neurons[0].w)):\n",
    "                for k in range(len(layer.neurons)):\n",
    "                        W_values[j][k] = (layer.neurons[k].w[j].data)\n",
    "\n",
    "            B_values = np.array([])\n",
    "            for n in layer.neurons:\n",
    "                B_values = np.append(B_values, n.b.data)\n",
    "\n",
    "            W = make_tensor(f'W{i+1}', TensorProto.FLOAT, [layer.nin, layer.nout], W_values)\n",
    "            B = make_tensor(f'B{i+1}', TensorProto.FLOAT, [layer.nout], B_values)\n",
    "\n",
    "            tensors.extend([W, B])\n",
    "\n",
    "            X_name = 'X' if i == 0 else f'X{i}'\n",
    "            Y_name = f'X{i+1}'\n",
    "\n",
    "            nodes.append(make_node('MatMul', [X_name, W.name], [f'{X_name}W']))\n",
    "            nodes.append(make_node('Add', [f'{X_name}W', B.name], [f'{X_name}WB' if layer.activation else Y_name]))\n",
    "        \n",
    "            if layer.activation:\n",
    "                nodes.append(make_node(layer.activation, [f'{X_name}WB'], [Y_name]))\n",
    "\n",
    "    # Last node output is 'Y'\n",
    "    nodes[-1].output[0] = 'Y'\n",
    "\n",
    "    # Assemble the graph and create the model\n",
    "    graph = make_graph(nodes, name, [X], [Y], tensors)\n",
    "    onnx_model = make_model(graph, producer_name='onnx-example')\n",
    "\n",
    "    return onnx_model"
   ]
  },
  {
   "cell_type": "code",
   "execution_count": 104,
   "metadata": {},
   "outputs": [],
   "source": [
    "onnx_model = build_model(model.input_shape, model.output_shape, model)\n",
    "onnx.checker.check_model(onnx_model, True)\n",
    "onnx.save(onnx_model, 'model.onnx')"
   ]
  },
  {
   "cell_type": "code",
   "execution_count": 105,
   "metadata": {},
   "outputs": [],
   "source": [
    "import onnx2pytorch\n",
    "\n",
    "# Load the ONNX model\n",
    "onnx_model = onnx.load('model.onnx')\n",
    "\n",
    "\n",
    "pytorch_model = onnx2pytorch.ConvertModel(onnx_model)"
   ]
  },
  {
   "cell_type": "code",
   "execution_count": 120,
   "metadata": {},
   "outputs": [
    {
     "name": "stdout",
     "output_type": "stream",
     "text": [
      "tensor([1.3468], grad_fn=<ViewBackward0>)\n",
      "name:  data: 1.3467599153518677, grad: 0, op: +\n"
     ]
    }
   ],
   "source": [
    "ix = np.random.randint(0, X_norm.shape[0], (batch_size,)).flatten()\n",
    "print(pytorch_model(torch.tensor(X_norm[ix])))\n",
    "print(model(X_norm[ix]))"
   ]
  },
  {
   "cell_type": "code",
   "execution_count": 105,
   "metadata": {},
   "outputs": [
    {
     "name": "stdout",
     "output_type": "stream",
     "text": [
      "W1: [[ 0.0558  1.0187  0.1012 -0.0716  0.0638 -0.3297  1.1612  0.8079  0.9057\n",
      "   1.0731]]\n",
      "B1: [-0.6893 -0.4505  0.0532 -0.5492 -0.7072 -0.7185 -2.4508 -1.6047 -0.8085\n",
      "  0.4612]\n",
      "W2: [[-0.3585]\n",
      " [ 0.48  ]\n",
      " [ 0.1364]\n",
      " [ 0.3271]\n",
      " [ 0.0132]\n",
      " [-0.3462]\n",
      " [ 1.0679]\n",
      " [ 1.2816]\n",
      " [ 0.229 ]\n",
      " [ 0.7087]]\n",
      "B2: [-0.0428 -0.0428 -0.0428 -0.0428 -0.0428 -0.0428 -0.0428 -0.0428 -0.0428\n",
      " -0.0428]\n"
     ]
    }
   ],
   "source": [
    "for i, layer in enumerate(model.layers):\n",
    "    W_values = np.array([[0.] * len(layer.neurons) for _ in range(len(layer.neurons[0].w))], dtype=np.float32)\n",
    "    B_values = np.array([])\n",
    "    for j in range(len(layer.neurons[0].w)):\n",
    "        for k in range(len(layer.neurons)):\n",
    "            W_values[j][k] = round(layer.neurons[k].w[j].data, 4)\n",
    "            B_values = np.append(B_values, round(layer.neurons[k].b.data, 4))\n",
    "    print(f'W{i+1}: {W_values}')\n",
    "    print(f'B{i+1}: {B_values}')"
   ]
  },
  {
   "cell_type": "code",
   "execution_count": 106,
   "metadata": {},
   "outputs": [
    {
     "name": "stdout",
     "output_type": "stream",
     "text": [
      "_initializer_W1 tensor([[ 0.0558,  1.0187,  0.1012, -0.0716,  0.0638, -0.3297,  1.1612,  0.8079,\n",
      "          0.9057,  1.0731]])\n",
      "_initializer_B1 tensor([-0.6893, -0.4505,  0.0532, -0.5492, -0.7072, -0.7185, -2.4508, -1.6047,\n",
      "        -0.8085,  0.4612])\n",
      "_initializer_W2 tensor([[-0.3585],\n",
      "        [ 0.4800],\n",
      "        [ 0.1364],\n",
      "        [ 0.3271],\n",
      "        [ 0.0132],\n",
      "        [-0.3462],\n",
      "        [ 1.0679],\n",
      "        [ 1.2816],\n",
      "        [ 0.2290],\n",
      "        [ 0.7087]])\n",
      "_initializer_B2 tensor([-0.0428])\n",
      "MatMul_XWB.weight tensor([[ 0.0558],\n",
      "        [ 1.0187],\n",
      "        [ 0.1012],\n",
      "        [-0.0716],\n",
      "        [ 0.0638],\n",
      "        [-0.3297],\n",
      "        [ 1.1612],\n",
      "        [ 0.8079],\n",
      "        [ 0.9057],\n",
      "        [ 1.0731]])\n",
      "MatMul_XWB.bias tensor([-0.6893, -0.4505,  0.0532, -0.5492, -0.7072, -0.7185, -2.4508, -1.6047,\n",
      "        -0.8085,  0.4612])\n",
      "MatMul_Y.weight tensor([[-0.3585,  0.4800,  0.1364,  0.3271,  0.0132, -0.3462,  1.0679,  1.2816,\n",
      "          0.2290,  0.7087]])\n",
      "MatMul_Y.bias tensor([-0.0428])\n"
     ]
    }
   ],
   "source": [
    "for name, param in pytorch_model.state_dict().items():\n",
    "    print(name, param)"
   ]
  },
  {
   "cell_type": "code",
   "execution_count": 109,
   "metadata": {},
   "outputs": [
    {
     "name": "stdout",
     "output_type": "stream",
     "text": [
      "avg_loss: 0.016229459072868806\n",
      "avg_loss: tensor([0.4500])\n"
     ]
    }
   ],
   "source": [
    "avg_loss = 0\n",
    "count = 0\n",
    "for x, y in zip(X_norm, Y_norm):\n",
    "    out = model([x])\n",
    "    loss = (out - y) ** 2\n",
    "    avg_loss += loss.data\n",
    "    count += 1\n",
    "print(f'avg_loss: {avg_loss/count}')\n",
    "\n",
    "avg_loss = 0\n",
    "count = 0\n",
    "for x, y in zip(X_norm, Y_norm):\n",
    "    out = pytorch_model(torch.tensor([x]))\n",
    "    loss = (out - y) ** 2\n",
    "    avg_loss += loss.data\n",
    "    count += 1\n",
    "print(f'avg_loss: {avg_loss/count}')"
   ]
  },
  {
   "cell_type": "code",
   "execution_count": 2,
   "metadata": {},
   "outputs": [],
   "source": [
    "names = open('datasets/names.txt', 'r').read().splitlines()\n",
    "random.shuffle(names)\n",
    "content_len = 5\n",
    "feature_count = 15\n",
    "w_size = 200\n",
    "\n",
    "chars = sorted(set('.'.join(names)))\n",
    "\n",
    "itos = {i: c for i, c in enumerate(chars)}\n",
    "stoi = {c: i for i, c in enumerate(chars)}\n",
    "\n",
    "def build_dataset(names):\n",
    "    X, Y = [], []\n",
    "    context = [0] * content_len\n",
    "    for name in names:\n",
    "        name += '.'\n",
    "        for c in name:\n",
    "            X.append(context)\n",
    "            Y.append(stoi[c])\n",
    "            context = context[1:] + [stoi[c]]\n",
    "    \n",
    "    X = np.array(X)\n",
    "    Y = np.array(Y)\n",
    "    return X, Y"
   ]
  },
  {
   "cell_type": "code",
   "execution_count": null,
   "metadata": {},
   "outputs": [],
   "source": []
  },
  {
   "cell_type": "code",
   "execution_count": 3,
   "metadata": {},
   "outputs": [],
   "source": [
    "from optimize import Momentum\n",
    "\n",
    "\n",
    "Xtrain, Ytrain = build_dataset(names)\n",
    "\n",
    "C = Embedding(27, feature_count)\n",
    "l1 = Linear(content_len * feature_count, w_size, activation='tanh')\n",
    "l2 = Linear(w_size, 27)\n",
    "\n",
    "model = Model([C, l1, l2])\n",
    "\n",
    "optim = Adam(model=model)\n",
    "batch_size = 16"
   ]
  },
  {
   "cell_type": "code",
   "execution_count": 5,
   "metadata": {},
   "outputs": [
    {
     "name": "stderr",
     "output_type": "stream",
     "text": [
      "loss: 3.2965832121846064: 100%|██████████| 1/1 [00:06<00:00,  6.66s/it]\n"
     ]
    }
   ],
   "source": [
    "from value import Value\n",
    "\n",
    "\n",
    "for _ in (t:=trange(1)):\n",
    "    ix = np.random.randint(0, Xtrain.shape[0], (batch_size,))\n",
    "\n",
    "    out = model(Xtrain[ix])\n",
    "\n",
    "    if type(out[0]) == Value:\n",
    "        out = [out]\n",
    "\n",
    "    expected = Ytrain[ix]\n",
    "\n",
    "    losses = []\n",
    "\n",
    "    for i, o in enumerate(out):\n",
    "        maxVal = max([num.data for num in o])\n",
    "\n",
    "        exp = [(math.e**(num-maxVal)) for num in o]\n",
    "\n",
    "        count = sum([num for num in exp])\n",
    "\n",
    "        prob = [val/count for val in exp]\n",
    "\n",
    "        loss = prob[int(Ytrain[ix][i])].log()*-1\n",
    "\n",
    "        losses.append(loss)\n",
    "    \n",
    "    batch_loss = sum(losses)/batch_size\n",
    "\n",
    "    optim.zero_grad()\n",
    "\n",
    "    batch_loss.backward()\n",
    "\n",
    "    optim.step()\n",
    "    \n",
    "    t.set_description(f'loss: {batch_loss.data}')"
   ]
  },
  {
   "cell_type": "code",
   "execution_count": null,
   "metadata": {},
   "outputs": [
    {
     "name": "stdout",
     "output_type": "stream",
     "text": [
      "loss: 2.842767604484911\n"
     ]
    }
   ],
   "source": [
    "avg_loss = 0\n",
    "countt = 0\n",
    "random.shuffle(names)\n",
    "for name in names[:10]:\n",
    "    context = [0] * content_len\n",
    "    for ch in name:\n",
    "\n",
    "        out = model([context])\n",
    "\n",
    "        maxVal = max([num.data for num in out])\n",
    "\n",
    "        exp = [(2**(num-maxVal)) for num in out]\n",
    "\n",
    "        count = sum([num.data for num in exp])\n",
    "\n",
    "        prob = [val/count for val in exp]\n",
    "\n",
    "        loss = prob[stoi[ch]].log()*-1\n",
    "\n",
    "        context = context[1:] + [stoi[ch]]\n",
    "\n",
    "        avg_loss += loss.data\n",
    "        countt += 1\n",
    "\n",
    "print(f'loss: {avg_loss/countt}')"
   ]
  },
  {
   "cell_type": "code",
   "execution_count": null,
   "metadata": {},
   "outputs": [
    {
     "name": "stdout",
     "output_type": "stream",
     "text": [
      "ianyaridine.\n",
      "ersed.\n",
      "jiyiya.\n",
      "kimdaralays.\n",
      "rianina.\n",
      "ryam.\n",
      "abuca.\n",
      "emlaeseyaravian.\n",
      "miaynon.\n",
      "kilaemsaharesal.\n"
     ]
    }
   ],
   "source": [
    "for _ in range(10):\n",
    "    name = ''\n",
    "    context = [0] * content_len\n",
    "    while True:\n",
    "        out = model([context])\n",
    "        maxVal = max([num.data for num in out])\n",
    "        exp = [(math.e**(num-maxVal)) for num in out]\n",
    "        count = sum([num.data for num in exp])\n",
    "        prob = [val.data/count for val in exp]\n",
    "        ix = np.random.choice(len(prob), p=prob)\n",
    "        name += itos[ix]\n",
    "        context = context[1:] + [ix]\n",
    "        if name[-1] == '.':\n",
    "            print(name)\n",
    "            break"
   ]
  }
 ],
 "metadata": {
  "kernelspec": {
   "display_name": "Python 3",
   "language": "python",
   "name": "python3"
  },
  "language_info": {
   "codemirror_mode": {
    "name": "ipython",
    "version": 3
   },
   "file_extension": ".py",
   "mimetype": "text/x-python",
   "name": "python",
   "nbconvert_exporter": "python",
   "pygments_lexer": "ipython3",
   "version": "3.9.6"
  }
 },
 "nbformat": 4,
 "nbformat_minor": 2
}
