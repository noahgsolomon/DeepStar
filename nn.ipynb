{
 "cells": [
  {
   "cell_type": "code",
   "execution_count": 4,
   "metadata": {},
   "outputs": [],
   "source": [
    "import math\n",
    "import random\n",
    "import numpy as np\n",
    "import torch\n",
    "import torch.nn as nn\n",
    "import torch.nn.functional as F\n",
    "from tqdm import trange\n",
    "import matplotlib.pyplot as plt"
   ]
  },
  {
   "cell_type": "code",
   "execution_count": 5,
   "metadata": {},
   "outputs": [],
   "source": [
    "class Value:\n",
    "    def __init__(self, data=1, children=[], _backward=lambda: None, _op=''):\n",
    "        self.data = data\n",
    "        self.children = children\n",
    "        self._backward = _backward\n",
    "        self.grad = 0\n",
    "        self._op = _op\n",
    "    \n",
    "    def log(self):\n",
    "        def _backward():\n",
    "            self.grad += (1 / self.data) * out.grad\n",
    "        out = Value(math.log(self.data), children=[self], _backward=_backward, _op='log')\n",
    "        return out\n",
    "\n",
    "    def __add__(self, other):\n",
    "        other = other if isinstance(other, Value) else Value(other)\n",
    "        out = Value(self.data + other.data, children=(self, other), _op='+')\n",
    "\n",
    "        def _backward():\n",
    "            self.grad += 1 * out.grad\n",
    "            other.grad += 1 * out.grad\n",
    "        out._backward = _backward\n",
    "        \n",
    "        return out\n",
    "    \n",
    "    def relu(self):\n",
    "        out = Value(0.1*self.data if self.data < 0 else self.data, children=[self], _op='relu')\n",
    "\n",
    "        def _backward():\n",
    "            self.grad += (1 if out.data > 0 else 0.1) * out.grad\n",
    "        out._backward = _backward\n",
    "\n",
    "        return out\n",
    "\n",
    "    def tanh(self):\n",
    "        def _backward():\n",
    "            self.grad += (1 - pow(out.data, 2)) * out.grad\n",
    "        out = Value(math.tanh(self.data), children=[self], _backward=_backward, _op='tanh')\n",
    "        return out\n",
    "    \n",
    "    def sigmoid(self):\n",
    "        def _backward():\n",
    "            self.grad += (out.data * (1 - out.data)) * out.grad\n",
    "        out = Value(1/(1+math.pow(math.e, -self.data)), children=[self], _backward=_backward)\n",
    "        return out\n",
    "\n",
    "    def __mul__(self, other):\n",
    "        other = other if isinstance(other, Value) else Value(other)\n",
    "        out = Value(self.data * other.data, children=(self, other), _op='*')\n",
    "\n",
    "        def _backward():\n",
    "            self.grad += other.data * out.grad\n",
    "            other.grad += self.data * out.grad\n",
    "\n",
    "        out._backward = _backward\n",
    "\n",
    "        return out\n",
    "\n",
    "    def __pow__(self, other):\n",
    "        if isinstance(other, (float, int)):\n",
    "            def _backward():\n",
    "                self.grad += other * (self.data ** (other - 1)) * out.grad\n",
    "            out = Value(self.data ** other, children=[self], _backward=_backward, _op=f'**{other}')\n",
    "        \n",
    "        elif isinstance(other, Value):\n",
    "            def _backward():\n",
    "                self.grad += other.data * (self.data ** (other.data - 1)) * out.grad\n",
    "                other.grad += math.log(self.data) * (self.data ** other.data) * out.grad\n",
    "            out = Value(self.data ** other.data, children=[self, other], _backward=_backward, _op=f'**{other.data}')\n",
    "        \n",
    "        return out\n",
    "    \n",
    "    def exp(self):\n",
    "        def _backward():\n",
    "            self.grad += math.exp(self.data) * out.grad\n",
    "        out = Value(math.exp(self.data), children=[self], _backward=_backward, _op='exp')\n",
    "        return out\n",
    "    \n",
    "    def __repr__(self):\n",
    "        return f'data: {self.data}, grad: {self.grad}, op: {self._op}'\n",
    "    \n",
    "    def backward(self):\n",
    "        topo = []\n",
    "        visited = set()\n",
    "\n",
    "        def visit(node):\n",
    "            if node not in visited:\n",
    "                visited.add(node)\n",
    "                for children in node.children:\n",
    "                    visit(children)\n",
    "                topo.append(node)\n",
    "\n",
    "        self.grad = 1\n",
    "        visit(self)\n",
    "        for item in reversed(topo):\n",
    "            item._backward()\n",
    "\n",
    "    def step(self, lr=0.01):\n",
    "        topo = []\n",
    "        visited = set()\n",
    "\n",
    "        def visit(node):\n",
    "            if node not in visited:\n",
    "                visited.add(node)\n",
    "                for children in node.children:\n",
    "                    visit(children)\n",
    "                topo.append(node)\n",
    "\n",
    "        self.grad = 1\n",
    "        visit(self)\n",
    "        for item in reversed(topo):\n",
    "            item.data -= item.grad * lr\n",
    "\n",
    "    def __sub__(self, other):\n",
    "            return self + (-other)\n",
    "    \n",
    "    def __rpow__(self, other):\n",
    "        if isinstance(other, (float, int)):\n",
    "            def _backward():\n",
    "                self.grad += other ** self.data * math.log(other) * out.grad\n",
    "            out = Value(other ** self.data, children=[self], _backward=_backward, _op=f'**{other}')\n",
    "            return out\n",
    "\n",
    "    def __rsub__(self, other):\n",
    "        return (self*-1) + other\n",
    "    \n",
    "    def __radd__(self, other):\n",
    "        return self + other\n",
    "\n",
    "    def __truediv__(self, other):\n",
    "        if isinstance(other, Value):\n",
    "            def _backward():\n",
    "                self.grad += 1 / other.data * out.grad\n",
    "                other.grad -= self.data / (other.data ** 2) * out.grad\n",
    "            out = Value(self.data / other.data, children=[self, other], _backward=_backward, _op='÷')\n",
    "            return out\n",
    "        elif isinstance(other, (float, int)):\n",
    "            def _backward():\n",
    "                self.grad += 1 / other * out.grad\n",
    "            out = Value(self.data / other, children=[self], _backward=_backward, _op='÷')\n",
    "            return out\n",
    "        \n",
    "    def cross_entropy(logits, actual):\n",
    "        maxVal = max([num.data for num in logits])\n",
    "\n",
    "        exp = [(2**(num-maxVal)) for num in logits]\n",
    "\n",
    "        count = sum([num.data for num in exp])\n",
    "\n",
    "        prob = [val/count for val in exp]\n",
    "\n",
    "        loss = prob[int(actual)].log()*-1\n",
    "\n",
    "        return loss\n"
   ]
  },
  {
   "cell_type": "code",
   "execution_count": 159,
   "metadata": {},
   "outputs": [],
   "source": [
    "import numpy as np\n",
    "class Module:\n",
    "\n",
    "    def zero_grad(self):\n",
    "        for p in self.parameters():\n",
    "            p.grad = 0\n",
    "    \n",
    "    def parameters(self):\n",
    "        return np.array([])\n",
    "\n",
    "class Neuron(Module):\n",
    "\n",
    "    def __init__(self, nin, nonlinear=True):\n",
    "        self.w = [Value(random.uniform(-1, 1)*0.01) for _ in range(nin)]\n",
    "        self.b = Value(0)\n",
    "        self.nonlinear = nonlinear\n",
    "\n",
    "    def __call__(self, x):\n",
    "        out = sum(w * x_ for w, x_ in zip(self.w, x)) + self.b\n",
    "        return out.tanh() if self.nonlinear else out\n",
    "    \n",
    "    def parameters(self):\n",
    "        return self.w + [self.b]\n",
    "\n",
    "class Model(Module):\n",
    "    def __init__(self, layers):\n",
    "        self.layers = layers\n",
    "\n",
    "    def __call__(self, x):\n",
    "        for layer in self.layers:\n",
    "            x = layer(x)\n",
    "        return x\n",
    "    \n",
    "    def parameters(self):\n",
    "        return np.array([p for layer in self.layers for p in layer.parameters()])\n",
    "    \n",
    "    def parameters_val(self):\n",
    "        return np.array([p.data for layer in self.layers for p in layer.parameters()])\n",
    "\n",
    "class Embedding(Module):\n",
    "    def __init__(self, num_embeddings, embedding_dim):\n",
    "        self.embeddings = np.array([Value(random.uniform(-1, 1)) for _ in range(embedding_dim * num_embeddings)]).reshape((num_embeddings, embedding_dim))\n",
    "        self.num_embeddings = num_embeddings\n",
    "        self.embedding_dim = embedding_dim\n",
    "\n",
    "    def __call__(self, indices):\n",
    "        return self.embeddings[np.array(indices, dtype=int)].flatten()\n",
    "\n",
    "    def parameters(self):\n",
    "        return self.embeddings.flatten()\n",
    "    \n",
    "class Linear(Module):\n",
    "    def __init__(self, nin, nout, **kwargs):\n",
    "        self.neurons = [Neuron(nin, **kwargs) for _ in range(nout)] \n",
    "\n",
    "    def __call__(self, x):\n",
    "        out = [neuron(x) for neuron in self.neurons]  # This remains a list comprehension\n",
    "        return out if len(out) > 1 else out[0]\n",
    "    \n",
    "    def parameters(self):\n",
    "        return np.array([p for neuron in self.neurons for p in neuron.parameters()])\n",
    "    \n",
    "# class MLP(Module):\n",
    "#     def __init__(self, nin, nouts):\n",
    "#         layers = [nin] + nouts\n",
    "#         self.layers = [Linear(layers[i], layers[i+1], nonlinear=(i!=len(nouts)-1)) for i in range(len(layers)-1)]\n",
    "    \n",
    "#     def __call__(self, x):\n",
    "#         for layer in self.layers:\n",
    "#             x = layer(x)\n",
    "#         return x\n",
    "\n",
    "#     def parameters(self):\n",
    "#         return [p for layer in self.layers for neuron in layer.neurons for p in neuron.parameters()]\n",
    "    \n",
    "    # def equation(self):\n",
    "    #     val = ''\n",
    "    #     layerEquations = []\n",
    "\n",
    "    #     for layer in self.layers:\n",
    "\n",
    "    #         neuronEquations = []\n",
    "    #         for neuron in layer.neurons:\n",
    "\n",
    "    #             equation = ''\n",
    "    #             if len(layerEquations) == 0:\n",
    "\n",
    "    #                 for w in neuron.w:\n",
    "    #                     equation += f'{w.data:.2f}X + '\n",
    "\n",
    "    #             else:\n",
    "    #                 for w in neuron.w:\n",
    "    #                     equation += f'{w.data:.2f}({layerEquations[-1]}) + '\n",
    "\n",
    "    #             if neuron.nonlinear:\n",
    "    #                 neuronEquations.append(f'tanh({equation}) + {neuron.b.data} + ')\n",
    "    #             else:\n",
    "    #                 neuronEquations.append(f'{equation}{neuron.b.data} + ')\n",
    "\n",
    "    #         fullLayerEquation = ''\n",
    "\n",
    "    #         for neuronEquation in neuronEquations:\n",
    "    #             fullLayerEquation += neuronEquation\n",
    "\n",
    "    #         layerEquations.append(fullLayerEquation)\n",
    "\n",
    "    #     for layerEquation in layerEquations:\n",
    "    #         val += layerEquation\n",
    "        \n",
    "    #     return val.replace(' + )', '').replace(' + ,', '')[:-3]\n"
   ]
  },
  {
   "cell_type": "code",
   "execution_count": 645,
   "metadata": {},
   "outputs": [],
   "source": [
    "class Optimize:\n",
    "    def __init__(self, model):\n",
    "        self.model = model\n",
    "    \n",
    "    def __repr__(self):\n",
    "        return 'model shape: ' + str(self.model.parameters().shape)\n",
    "    \n",
    "    def zero_grad(self):\n",
    "        self.model.zero_grad()\n",
    "\n",
    "class Momentum(Optimize):\n",
    "    def __init__(self, model, decay_rate=0.99, lr=0.1):\n",
    "        super().__init__(model)\n",
    "        self.momentum = [0] * self.model.parameters().shape[0]\n",
    "        self.decay_rate = decay_rate\n",
    "        self.lr = lr\n",
    "    \n",
    "    def step(self):\n",
    "        for i, p in enumerate(self.model.parameters()):\n",
    "            self.momentum[i] = self.momentum[i] * self.decay_rate + (1.0-self.decay_rate) * p.grad\n",
    "            p.data -= self.lr * self.momentum[i]"
   ]
  },
  {
   "cell_type": "code",
   "execution_count": 646,
   "metadata": {},
   "outputs": [],
   "source": [
    "l1 = Linear(1, 50)\n",
    "l2 = Linear(50, 1, nonlinear=False)\n",
    "\n",
    "model = Model([l1, l2])\n",
    "optim = Momentum(model, decay_rate=0.9, lr=0.01)"
   ]
  },
  {
   "cell_type": "code",
   "execution_count": 647,
   "metadata": {},
   "outputs": [],
   "source": [
    "X = np.random.uniform(-1, 1, 1000)\n",
    "Y = 2*X"
   ]
  },
  {
   "cell_type": "code",
   "execution_count": 650,
   "metadata": {},
   "outputs": [
    {
     "name": "stdout",
     "output_type": "stream",
     "text": [
      "before: data: [-0.33486497], grad: [-0.00357497], op: \n"
     ]
    },
    {
     "name": "stderr",
     "output_type": "stream",
     "text": [
      "loss: [3.92078603e-05]: 100%|██████████| 1000/1000 [00:05<00:00, 184.25it/s]"
     ]
    },
    {
     "name": "stdout",
     "output_type": "stream",
     "text": [
      "after: data: [-0.33470781], grad: [-0.00033744], op: \n"
     ]
    },
    {
     "name": "stderr",
     "output_type": "stream",
     "text": [
      "\n"
     ]
    }
   ],
   "source": [
    "print(f'before: {model.parameters()[0]}')\n",
    "\n",
    "for _ in (t:=trange(1000)):\n",
    "    ix = np.random.randint(0, X.shape[0], (1,)).flatten()\n",
    "    out = model([X[ix]])\n",
    "\n",
    "    loss = (out - Y[ix]) ** 2\n",
    "\n",
    "    optim.zero_grad()\n",
    "\n",
    "    loss.backward()\n",
    "\n",
    "    optim.step()\n",
    "\n",
    "    t.set_description(f'loss: {loss.data}')\n",
    "\n",
    "print(f'after: {model.parameters()[0]}')"
   ]
  },
  {
   "cell_type": "code",
   "execution_count": 649,
   "metadata": {},
   "outputs": [
    {
     "name": "stdout",
     "output_type": "stream",
     "text": [
      "avg_loss: [0.00011421]\n"
     ]
    }
   ],
   "source": [
    "avg_loss = 0\n",
    "count = 0\n",
    "for x, y in zip(X, Y):\n",
    "    out = model([x])\n",
    "    loss = (out - y) ** 2\n",
    "    avg_loss += loss.data\n",
    "    count += 1\n",
    "print(f'avg_loss: {avg_loss/count}')"
   ]
  },
  {
   "cell_type": "code",
   "execution_count": 597,
   "metadata": {},
   "outputs": [],
   "source": [
    "from graphviz import Digraph\n",
    "\n",
    "def trace(root):\n",
    "  # builds a set of all nodes and edges in a graph\n",
    "  nodes, edges = set(), set()\n",
    "  def build(v):\n",
    "    if v not in nodes:\n",
    "      nodes.add(v)\n",
    "      for child in v.children:\n",
    "        edges.add((child, v))\n",
    "        build(child)\n",
    "  build(root)\n",
    "  return nodes, edges\n",
    "\n",
    "def draw_dot(root):\n",
    "  dot = Digraph(format='svg', graph_attr={'rankdir': 'LR'}) # LR = left to right\n",
    "  \n",
    "  nodes, edges = trace(root)\n",
    "  for n in nodes:\n",
    "    uid = str(id(n))\n",
    "    # for any value in the graph, create a rectangular ('record') node for it\n",
    "    dot.node(name = uid, label = \"{ data %.4f | grad %.4f }\" % (n.data, n.grad), shape='record')\n",
    "    if n._op:\n",
    "      # if this value is a result of some operation, create an op node for it\n",
    "      dot.node(name = uid + n._op, label = n._op)\n",
    "      # and connect this node to it\n",
    "      dot.edge(uid + n._op, uid)\n",
    "\n",
    "  for n1, n2 in edges:\n",
    "    # connect n1 to the op node of n2\n",
    "    dot.edge(str(id(n1)), str(id(n2)) + n2._op)\n",
    "\n",
    "  return dot"
   ]
  },
  {
   "cell_type": "code",
   "execution_count": 65,
   "metadata": {},
   "outputs": [],
   "source": [
    "l1 = Linear(1, 50)\n",
    "l2 = Linear(50, 1, nonlinear=False)\n",
    "\n",
    "model = Model([l1, l2])"
   ]
  },
  {
   "cell_type": "code",
   "execution_count": 66,
   "metadata": {},
   "outputs": [],
   "source": [
    "X = np.random.uniform(0, 10000000, 1000)\n",
    "Y = 2*X**2\n",
    "\n",
    "X_norm = (X - np.mean(X)) / np.std(X)\n",
    "Y_norm = (Y - np.mean(Y)) / np.std(Y)"
   ]
  },
  {
   "cell_type": "code",
   "execution_count": 67,
   "metadata": {},
   "outputs": [
    {
     "name": "stderr",
     "output_type": "stream",
     "text": [
      "loss: -0.009494: 100%|██████████| 10000/10000 [00:55<00:00, 180.04it/s]\n"
     ]
    }
   ],
   "source": [
    "for _ in (t:=trange(10000)):\n",
    "    ix = np.random.randint(0, X.shape[0], (1,))\n",
    "    logits = model(X_norm[ix])\n",
    "\n",
    "    loss = (logits - Y_norm[ix])**2\n",
    "\n",
    "    model.zero_grad()\n",
    "\n",
    "    loss.backward()\n",
    "\n",
    "    loss.step()\n",
    "    \n",
    "    t.set_description(f'loss: {loss.data[0]:.4}')"
   ]
  },
  {
   "cell_type": "code",
   "execution_count": 24,
   "metadata": {},
   "outputs": [
    {
     "data": {
      "text/plain": [
       "data: [376299.222715], grad: 0, op: +"
      ]
     },
     "execution_count": 24,
     "metadata": {},
     "output_type": "execute_result"
    }
   ],
   "source": [
    "input_value = 60\n",
    "normalized_input = (input_value - np.mean(X)) / np.std(X)\n",
    "\n",
    "# Making a prediction\n",
    "normalized_output = model([normalized_input])\n",
    "\n",
    "# Denormalizing the output\n",
    "denormalized_output = (normalized_output * np.std(Y)) + np.mean(Y)\n",
    "\n",
    "denormalized_output"
   ]
  },
  {
   "cell_type": "code",
   "execution_count": 68,
   "metadata": {},
   "outputs": [
    {
     "data": {
      "text/plain": [
       "<matplotlib.legend.Legend at 0x144c34af0>"
      ]
     },
     "execution_count": 68,
     "metadata": {},
     "output_type": "execute_result"
    },
    {
     "data": {
      "image/png": "[encoded data removed]",
      "text/plain": [
       "<Figure size 640x480 with 1 Axes>"
      ]
     },
     "metadata": {},
     "output_type": "display_data"
    }
   ],
   "source": [
    "plt.scatter(X, np.array([model([x]).data for x in X_norm]) * np.std(Y) + np.mean(Y), c='r', label='prediction')\n",
    "plt.scatter(X, Y, c='b', label='actual')\n",
    "plt.legend()"
   ]
  },
  {
   "cell_type": "code",
   "execution_count": 13,
   "metadata": {},
   "outputs": [],
   "source": [
    "words = open('words.txt', 'r').read().splitlines()\n",
    "random.shuffle(words)\n",
    "content_len = 1\n",
    "feature_count = 10\n",
    "\n",
    "chars = sorted(set('.'.join(words)))\n",
    "\n",
    "itos = {i: c for i, c in enumerate(chars)}\n",
    "stoi = {c: i for i, c in enumerate(chars)}\n",
    "\n",
    "def build_dataset(words):\n",
    "    X, Y = [], []\n",
    "    context = [0] * content_len\n",
    "    for word in words:\n",
    "        word += '.'\n",
    "        for c in word:\n",
    "            X.append(context)\n",
    "            Y.append(stoi[c])\n",
    "            context = context[1:] + [stoi[c]]\n",
    "    \n",
    "    X = np.array(X)\n",
    "    Y = np.array(Y)\n",
    "    return X, Y"
   ]
  },
  {
   "cell_type": "code",
   "execution_count": 14,
   "metadata": {},
   "outputs": [],
   "source": [
    "Xtrain, Ytrain = build_dataset(words)\n",
    "\n",
    "C = Embedding(27, feature_count)\n",
    "l1 = Linear(content_len * feature_count, 75)\n",
    "l2 = Linear(75, 27, nonlinear=False)\n",
    "\n",
    "model = Model([C, l1, l2])"
   ]
  },
  {
   "cell_type": "code",
   "execution_count": 18,
   "metadata": {},
   "outputs": [
    {
     "name": "stdout",
     "output_type": "stream",
     "text": [
      "1\n"
     ]
    }
   ],
   "source": [
    "import queue\n",
    "import threading\n",
    "import time\n",
    "\n",
    "q = queue.Queue()\n",
    "\n",
    "for i in [3, 2,1]:\n",
    "    def f():\n",
    "        time.sleep(i)\n",
    "        q.put(i)\n",
    "    threading.Thread(target=f).start()\n",
    "\n",
    "print(q.get())"
   ]
  },
  {
   "cell_type": "code",
   "execution_count": 15,
   "metadata": {},
   "outputs": [
    {
     "name": "stderr",
     "output_type": "stream",
     "text": [
      "loss: 3.272425614919388:  37%|███▋      | 110/300 [00:05<00:09, 19.33it/s] \n"
     ]
    },
    {
     "ename": "KeyboardInterrupt",
     "evalue": "",
     "output_type": "error",
     "traceback": [
      "\u001b[0;31m---------------------------------------------------------------------------\u001b[0m",
      "\u001b[0;31mKeyboardInterrupt\u001b[0m                         Traceback (most recent call last)",
      "Cell \u001b[0;32mIn[15], line 24\u001b[0m\n\u001b[1;32m     20\u001b[0m loss\u001b[38;5;241m.\u001b[39mbackward()\n\u001b[1;32m     22\u001b[0m loss\u001b[38;5;241m.\u001b[39mstep(lr\u001b[38;5;241m=\u001b[39m\u001b[38;5;241m0.01\u001b[39m)\n\u001b[0;32m---> 24\u001b[0m \u001b[43mt\u001b[49m\u001b[38;5;241;43m.\u001b[39;49m\u001b[43mset_description\u001b[49m\u001b[43m(\u001b[49m\u001b[38;5;124;43mf\u001b[39;49m\u001b[38;5;124;43m'\u001b[39;49m\u001b[38;5;124;43mloss: \u001b[39;49m\u001b[38;5;132;43;01m{\u001b[39;49;00m\u001b[43mloss\u001b[49m\u001b[38;5;241;43m.\u001b[39;49m\u001b[43mdata\u001b[49m\u001b[38;5;132;43;01m}\u001b[39;49;00m\u001b[38;5;124;43m'\u001b[39;49m\u001b[43m)\u001b[49m\n",
      "File \u001b[0;32m~/Library/Python/3.9/lib/python/site-packages/tqdm/std.py:1395\u001b[0m, in \u001b[0;36mtqdm.set_description\u001b[0;34m(self, desc, refresh)\u001b[0m\n\u001b[1;32m   1393\u001b[0m \u001b[38;5;28mself\u001b[39m\u001b[38;5;241m.\u001b[39mdesc \u001b[38;5;241m=\u001b[39m desc \u001b[38;5;241m+\u001b[39m \u001b[38;5;124m'\u001b[39m\u001b[38;5;124m: \u001b[39m\u001b[38;5;124m'\u001b[39m \u001b[38;5;28;01mif\u001b[39;00m desc \u001b[38;5;28;01melse\u001b[39;00m \u001b[38;5;124m'\u001b[39m\u001b[38;5;124m'\u001b[39m\n\u001b[1;32m   1394\u001b[0m \u001b[38;5;28;01mif\u001b[39;00m refresh:\n\u001b[0;32m-> 1395\u001b[0m     \u001b[38;5;28;43mself\u001b[39;49m\u001b[38;5;241;43m.\u001b[39;49m\u001b[43mrefresh\u001b[49m\u001b[43m(\u001b[49m\u001b[43m)\u001b[49m\n",
      "File \u001b[0;32m~/Library/Python/3.9/lib/python/site-packages/tqdm/std.py:1348\u001b[0m, in \u001b[0;36mtqdm.refresh\u001b[0;34m(self, nolock, lock_args)\u001b[0m\n\u001b[1;32m   1346\u001b[0m     \u001b[38;5;28;01melse\u001b[39;00m:\n\u001b[1;32m   1347\u001b[0m         \u001b[38;5;28mself\u001b[39m\u001b[38;5;241m.\u001b[39m_lock\u001b[38;5;241m.\u001b[39macquire()\n\u001b[0;32m-> 1348\u001b[0m \u001b[38;5;28;43mself\u001b[39;49m\u001b[38;5;241;43m.\u001b[39;49m\u001b[43mdisplay\u001b[49m\u001b[43m(\u001b[49m\u001b[43m)\u001b[49m\n\u001b[1;32m   1349\u001b[0m \u001b[38;5;28;01mif\u001b[39;00m \u001b[38;5;129;01mnot\u001b[39;00m nolock:\n\u001b[1;32m   1350\u001b[0m     \u001b[38;5;28mself\u001b[39m\u001b[38;5;241m.\u001b[39m_lock\u001b[38;5;241m.\u001b[39mrelease()\n",
      "File \u001b[0;32m~/Library/Python/3.9/lib/python/site-packages/tqdm/std.py:1496\u001b[0m, in \u001b[0;36mtqdm.display\u001b[0;34m(self, msg, pos)\u001b[0m\n\u001b[1;32m   1494\u001b[0m \u001b[38;5;28;01mif\u001b[39;00m pos:\n\u001b[1;32m   1495\u001b[0m     \u001b[38;5;28mself\u001b[39m\u001b[38;5;241m.\u001b[39mmoveto(pos)\n\u001b[0;32m-> 1496\u001b[0m \u001b[38;5;28mself\u001b[39m\u001b[38;5;241m.\u001b[39msp(\u001b[38;5;28;43mself\u001b[39;49m\u001b[38;5;241;43m.\u001b[39;49m\u001b[38;5;21;43m__str__\u001b[39;49m\u001b[43m(\u001b[49m\u001b[43m)\u001b[49m \u001b[38;5;28;01mif\u001b[39;00m msg \u001b[38;5;129;01mis\u001b[39;00m \u001b[38;5;28;01mNone\u001b[39;00m \u001b[38;5;28;01melse\u001b[39;00m msg)\n\u001b[1;32m   1497\u001b[0m \u001b[38;5;28;01mif\u001b[39;00m pos:\n\u001b[1;32m   1498\u001b[0m     \u001b[38;5;28mself\u001b[39m\u001b[38;5;241m.\u001b[39mmoveto(\u001b[38;5;241m-\u001b[39mpos)\n",
      "File \u001b[0;32m~/Library/Python/3.9/lib/python/site-packages/tqdm/std.py:1152\u001b[0m, in \u001b[0;36mtqdm.__str__\u001b[0;34m(self)\u001b[0m\n\u001b[1;32m   1151\u001b[0m \u001b[38;5;28;01mdef\u001b[39;00m \u001b[38;5;21m__str__\u001b[39m(\u001b[38;5;28mself\u001b[39m):\n\u001b[0;32m-> 1152\u001b[0m     \u001b[38;5;28;01mreturn\u001b[39;00m \u001b[38;5;28;43mself\u001b[39;49m\u001b[38;5;241;43m.\u001b[39;49m\u001b[43mformat_meter\u001b[49m\u001b[43m(\u001b[49m\u001b[38;5;241;43m*\u001b[39;49m\u001b[38;5;241;43m*\u001b[39;49m\u001b[38;5;28;43mself\u001b[39;49m\u001b[38;5;241;43m.\u001b[39;49m\u001b[43mformat_dict\u001b[49m\u001b[43m)\u001b[49m\n",
      "File \u001b[0;32m~/Library/Python/3.9/lib/python/site-packages/tqdm/std.py:549\u001b[0m, in \u001b[0;36mtqdm.format_meter\u001b[0;34m(n, total, elapsed, ncols, prefix, ascii, unit, unit_scale, rate, bar_format, postfix, unit_divisor, initial, colour, **extra_kwargs)\u001b[0m\n\u001b[1;32m    546\u001b[0m         rate \u001b[38;5;241m*\u001b[39m\u001b[38;5;241m=\u001b[39m unit_scale  \u001b[38;5;66;03m# by default rate = self.avg_dn / self.avg_dt\u001b[39;00m\n\u001b[1;32m    547\u001b[0m     unit_scale \u001b[38;5;241m=\u001b[39m \u001b[38;5;28;01mFalse\u001b[39;00m\n\u001b[0;32m--> 549\u001b[0m elapsed_str \u001b[38;5;241m=\u001b[39m \u001b[43mtqdm\u001b[49m\u001b[38;5;241;43m.\u001b[39;49m\u001b[43mformat_interval\u001b[49m\u001b[43m(\u001b[49m\u001b[43melapsed\u001b[49m\u001b[43m)\u001b[49m\n\u001b[1;32m    551\u001b[0m \u001b[38;5;66;03m# if unspecified, attempt to use rate = average speed\u001b[39;00m\n\u001b[1;32m    552\u001b[0m \u001b[38;5;66;03m# (we allow manual override since predicting time is an arcane art)\u001b[39;00m\n\u001b[1;32m    553\u001b[0m \u001b[38;5;28;01mif\u001b[39;00m rate \u001b[38;5;129;01mis\u001b[39;00m \u001b[38;5;28;01mNone\u001b[39;00m \u001b[38;5;129;01mand\u001b[39;00m elapsed:\n",
      "File \u001b[0;32m~/Library/Python/3.9/lib/python/site-packages/tqdm/std.py:420\u001b[0m, in \u001b[0;36mtqdm.format_interval\u001b[0;34m(t)\u001b[0m\n\u001b[1;32m    418\u001b[0m     \u001b[38;5;28;01mreturn\u001b[39;00m \u001b[38;5;124m'\u001b[39m\u001b[38;5;132;01m{0:d}\u001b[39;00m\u001b[38;5;124m:\u001b[39m\u001b[38;5;132;01m{1:02d}\u001b[39;00m\u001b[38;5;124m:\u001b[39m\u001b[38;5;132;01m{2:02d}\u001b[39;00m\u001b[38;5;124m'\u001b[39m\u001b[38;5;241m.\u001b[39mformat(h, m, s)\n\u001b[1;32m    419\u001b[0m \u001b[38;5;28;01melse\u001b[39;00m:\n\u001b[0;32m--> 420\u001b[0m     \u001b[38;5;28;01mreturn\u001b[39;00m \u001b[38;5;124;43m'\u001b[39;49m\u001b[38;5;132;43;01m{0:02d}\u001b[39;49;00m\u001b[38;5;124;43m:\u001b[39;49m\u001b[38;5;132;43;01m{1:02d}\u001b[39;49;00m\u001b[38;5;124;43m'\u001b[39;49m\u001b[38;5;241;43m.\u001b[39;49m\u001b[43mformat\u001b[49m\u001b[43m(\u001b[49m\u001b[43mm\u001b[49m\u001b[43m,\u001b[49m\u001b[43m \u001b[49m\u001b[43ms\u001b[49m\u001b[43m)\u001b[49m\n",
      "\u001b[0;31mKeyboardInterrupt\u001b[0m: "
     ]
    }
   ],
   "source": [
    "for _ in (t:=trange(300)):\n",
    "    ix = int(np.random.randint(0, Xtrain.shape[0], (1,)))\n",
    "\n",
    "    out = model(Xtrain[ix])\n",
    "\n",
    "    expected = Ytrain[ix]\n",
    "\n",
    "    maxVal = max([num.data for num in out])\n",
    "\n",
    "    exp = [(2**(num-maxVal)) for num in out]\n",
    "\n",
    "    count = sum([num.data for num in exp])\n",
    "\n",
    "    prob = [val/count for val in exp]\n",
    "\n",
    "    loss = prob[int(Ytrain[ix])].log()*-1\n",
    "\n",
    "    model.zero_grad()\n",
    "\n",
    "    loss.backward()\n",
    "\n",
    "    loss.step(lr=0.01)\n",
    "    \n",
    "    t.set_description(f'loss: {loss.data}')"
   ]
  },
  {
   "cell_type": "code",
   "execution_count": 16,
   "metadata": {},
   "outputs": [
    {
     "name": "stdout",
     "output_type": "stream",
     "text": [
      "loss: 3.2857463631662767\n"
     ]
    }
   ],
   "source": [
    "avg_loss = 0\n",
    "countt = 0\n",
    "random.shuffle(words)\n",
    "for word in words[:10]:\n",
    "    for ch1, ch2 in zip(word, word[1:]):\n",
    "        input = [stoi[ch1]]\n",
    "        expected = stoi[ch2]\n",
    "        out = model(input)\n",
    "\n",
    "        maxVal = max([num.data for num in out])\n",
    "\n",
    "        exp = [(2**(num-maxVal)) for num in out]\n",
    "\n",
    "        count = sum([num.data for num in exp])\n",
    "\n",
    "        prob = [val/count for val in exp]\n",
    "\n",
    "        loss = prob[int(expected)].log()*-1\n",
    "\n",
    "        avg_loss += loss.data\n",
    "        countt += 1\n",
    "\n",
    "print(f'loss: {avg_loss/countt}')"
   ]
  }
 ],
 "metadata": {
  "kernelspec": {
   "display_name": "Python 3",
   "language": "python",
   "name": "python3"
  },
  "language_info": {
   "codemirror_mode": {
    "name": "ipython",
    "version": 3
   },
   "file_extension": ".py",
   "mimetype": "text/x-python",
   "name": "python",
   "nbconvert_exporter": "python",
   "pygments_lexer": "ipython3",
   "version": "3.9.6"
  }
 },
 "nbformat": 4,
 "nbformat_minor": 2
}
